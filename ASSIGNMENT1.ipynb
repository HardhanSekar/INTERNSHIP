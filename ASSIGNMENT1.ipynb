{
 "cells": [
  {
   "cell_type": "code",
   "execution_count": 3,
   "id": "5950871d",
   "metadata": {},
   "outputs": [
    {
     "name": "stdout",
     "output_type": "stream",
     "text": [
      "Enter a number : 8\n",
      "The Factorial is  40320\n"
     ]
    }
   ],
   "source": [
    "\n",
    "n=int(input(\"Enter a number : \"))\n",
    "factorial=1\n",
    "\n",
    "if n>=1:\n",
    "    for num in range(1,n+1):\n",
    "        \n",
    "        factorial=factorial*num\n",
    "        \n",
    "\n",
    "\n",
    "print(\"The Factorial is \",factorial)\n",
    "    \n",
    "\n",
    "\n",
    "    "
   ]
  },
  {
   "cell_type": "code",
   "execution_count": 1,
   "id": "8da489db",
   "metadata": {},
   "outputs": [
    {
     "name": "stdout",
     "output_type": "stream",
     "text": [
      "Enter the number5\n",
      "The number is a prime number\n"
     ]
    }
   ],
   "source": [
    "n=int(input(\"Enter the number\"))\n",
    "if n>=2:\n",
    "    \n",
    "    for num in range(2,n):\n",
    "        if(n%num)==0:\n",
    "            print(\"The number is a composite number\")\n",
    "            break;\n",
    "    else:\n",
    "            print(\"The number is a prime number\")\n",
    "else:\n",
    "    print(\"Enter a valid number\")"
   ]
  },
  {
   "cell_type": "code",
   "execution_count": 2,
   "id": "d5231cd9",
   "metadata": {},
   "outputs": [
    {
     "name": "stdout",
     "output_type": "stream",
     "text": [
      "Enter a string :madam\n",
      "String is palindrome\n"
     ]
    }
   ],
   "source": [
    "b= input(\"Enter a string :\")\n",
    "a= b.upper()\n",
    "m=len(a)\n",
    "n=int(m/2)\n",
    "for num in range (0,n):\n",
    "    if a[num] != a[m-num-1]:\n",
    "        print(\"String is not palindrome\")\n",
    "        break\n",
    "else:\n",
    "    print(\"String is palindrome\")"
   ]
  },
  {
   "cell_type": "code",
   "execution_count": 5,
   "id": "ada4f630",
   "metadata": {},
   "outputs": [
    {
     "name": "stdout",
     "output_type": "stream",
     "text": [
      "Enter first angle of right angle triangle : 50\n",
      "Enter second angle of right angle triangle : 60\n",
      "The third angle is:  70\n"
     ]
    }
   ],
   "source": [
    "m=int(input(\"Enter first angle of right angle triangle : \"))\n",
    "n=int(input(\"Enter second angle of right angle triangle : \"))\n",
    "b = 180-(m+n)\n",
    "print(\"The third angle is: \",b)"
   ]
  },
  {
   "cell_type": "code",
   "execution_count": 24,
   "id": "066e9033",
   "metadata": {},
   "outputs": [
    {
     "name": "stdout",
     "output_type": "stream",
     "text": [
      "Enter a string :aaabbbddddff\n",
      "Number of A:  3\n",
      "Number of B:  3\n",
      "Number of C:  0\n",
      "Number of D:  4\n",
      "Number of E:  0\n",
      "Number of F:  2\n",
      "Object `><:@{}` not found.\n"
     ]
    }
   ],
   "source": [
    "b= input(\"Enter a string :\")\n",
    "a= b.upper()\n",
    "m = len(a)\n",
    "an = 0\n",
    "bn = 0\n",
    "cn = 0\n",
    "dn = 0\n",
    "en = 0\n",
    "fn = 0\n",
    "\n",
    "for num in range (0,m):\n",
    "    if a[num] == 'A': \n",
    "        an = an + 1\n",
    "    if a[num] == 'B':\n",
    "        bn = bn + 1\n",
    "    if a[num] == 'C': \n",
    "        cn = cn + 1\n",
    "    if a[num] == 'D':\n",
    "        dn = dn + 1\n",
    "    if a[num] == 'E': \n",
    "        en = en + 1\n",
    "    if a[num] == 'F':\n",
    "        fn = fn + 1\n",
    "    \n",
    "print(\"Number of A: \", an)\n",
    "print(\"Number of B: \", bn)\n",
    "print(\"Number of C: \", cn)\n",
    "print(\"Number of D: \", dn)\n",
    "print(\"Number of E: \", en)\n",
    "print(\"Number of F: \", fn)\n",
    "#Similarly the same can follow in other letters...\n",
    "        "
   ]
  },
  {
   "cell_type": "code",
   "execution_count": null,
   "id": "7caad2e9",
   "metadata": {},
   "outputs": [],
   "source": []
  }
 ],
 "metadata": {
  "kernelspec": {
   "display_name": "Python 3 (ipykernel)",
   "language": "python",
   "name": "python3"
  },
  "language_info": {
   "codemirror_mode": {
    "name": "ipython",
    "version": 3
   },
   "file_extension": ".py",
   "mimetype": "text/x-python",
   "name": "python",
   "nbconvert_exporter": "python",
   "pygments_lexer": "ipython3",
   "version": "3.9.12"
  }
 },
 "nbformat": 4,
 "nbformat_minor": 5
}
