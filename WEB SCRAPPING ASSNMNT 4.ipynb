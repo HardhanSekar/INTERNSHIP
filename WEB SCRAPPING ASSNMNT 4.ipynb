{
 "cells": [
  {
   "cell_type": "markdown",
   "id": "ab1445ea",
   "metadata": {},
   "source": [
    "#                             WEB SCRAPPING ASSIGNMENT 4"
   ]
  },
  {
   "cell_type": "code",
   "execution_count": 1,
   "id": "4702ad91",
   "metadata": {},
   "outputs": [],
   "source": [
    "#Importing Libraries..\n",
    "import selenium\n",
    "import pandas as pd\n",
    "import time\n",
    "from bs4 import BeautifulSoup\n",
    "\n",
    "#Importing selenium webdriver\n",
    "from selenium import webdriver\n",
    "\n",
    "from selenium.common.exceptions import StaleElementReferenceException, NoSuchElementException, ElementNotInteractableException\n",
    "\n",
    "#Importing Requests\n",
    "import requests\n",
    "\n",
    "import re\n",
    "from selenium.webdriver.common.by import By\n",
    "\n",
    "import time"
   ]
  },
  {
   "cell_type": "code",
   "execution_count": 17,
   "id": "6168f71f",
   "metadata": {},
   "outputs": [
    {
     "name": "stderr",
     "output_type": "stream",
     "text": [
      "C:\\Users\\Admin\\AppData\\Local\\Temp\\ipykernel_8232\\2344513889.py:1: DeprecationWarning: executable_path has been deprecated, please pass in a Service object\n",
      "  driver = webdriver.Chrome(r'C:\\Users\\Admin\\Downloads\\chromedriver_win32\\chromedriver.exe')\n"
     ]
    }
   ],
   "source": [
    "driver = webdriver.Chrome(r'C:\\Users\\Admin\\Downloads\\chromedriver_win32\\chromedriver.exe')\n",
    "time.sleep(2)"
   ]
  },
  {
   "cell_type": "markdown",
   "id": "cb530e83",
   "metadata": {},
   "source": [
    "# quest1"
   ]
  },
  {
   "cell_type": "code",
   "execution_count": 3,
   "id": "e77cf4e6",
   "metadata": {},
   "outputs": [],
   "source": [
    "url='https://en.wikipedia.org/wiki/List_of_most-viewed_YouTube_videos'"
   ]
  },
  {
   "cell_type": "code",
   "execution_count": 4,
   "id": "b660aa71",
   "metadata": {},
   "outputs": [],
   "source": [
    "page = requests.get(url)"
   ]
  },
  {
   "cell_type": "code",
   "execution_count": 5,
   "id": "5e1f6f15",
   "metadata": {},
   "outputs": [
    {
     "data": {
      "text/plain": [
       "<Response [200]>"
      ]
     },
     "execution_count": 5,
     "metadata": {},
     "output_type": "execute_result"
    }
   ],
   "source": [
    "page"
   ]
  },
  {
   "cell_type": "code",
   "execution_count": 6,
   "id": "56893268",
   "metadata": {},
   "outputs": [],
   "source": [
    "page=driver.get(url)\n",
    "time.sleep(2)"
   ]
  },
  {
   "cell_type": "code",
   "execution_count": 7,
   "id": "1e202f10",
   "metadata": {},
   "outputs": [],
   "source": [
    "Rank= []\n",
    "Name= []\n",
    "Artist= []\n",
    "Upload_date= []\n",
    "Views= []"
   ]
  },
  {
   "cell_type": "code",
   "execution_count": 8,
   "id": "b4ca1ea9",
   "metadata": {},
   "outputs": [],
   "source": [
    "try:\n",
    "    you_tube = driver.find_elements(By.XPATH,\"//table[@class='wikitable sortable jquery-tablesorter'][1]/tbody/tr/td[1]\")\n",
    "    for i in you_tube:\n",
    "        Rank.append(i.text)\n",
    "except NoSuchElementException:\n",
    "    Rank.append(\"No Details\")\n",
    "except StaleElementReferenceException:\n",
    "    Rank.append(\"No Details\")\n",
    "    \n",
    "time.sleep(3) "
   ]
  },
  {
   "cell_type": "code",
   "execution_count": 9,
   "id": "92b1eb4d",
   "metadata": {},
   "outputs": [],
   "source": [
    "try:\n",
    "    you_tube = driver.find_elements(By.XPATH,\"//table[@class='wikitable sortable jquery-tablesorter'][1]/tbody/tr/td[2]\")\n",
    "    for i in you_tube:\n",
    "        Name.append(i.text)\n",
    "except NoSuchElementException:\n",
    "    Rank.append(\"No Details\")\n",
    "except StaleElementReferenceException:\n",
    "    Rank.append(\"No Details\")\n",
    "    \n",
    "time.sleep(3)"
   ]
  },
  {
   "cell_type": "code",
   "execution_count": 10,
   "id": "6f9149be",
   "metadata": {},
   "outputs": [],
   "source": [
    "try:\n",
    "    artists=driver.find_elements(By.XPATH,\"//table[@class='wikitable sortable jquery-tablesorter'][1]/tbody/tr/td[3]\")\n",
    "    for i in artists:\n",
    "        Artist.append(i.text)\n",
    "except NoSuchElementException:#handling no such element exception\n",
    "    Artist.append('No details available')\n",
    "except StaleElementReferenceException:#handling Stale element exception\n",
    "    Artist.append('No details available')\n",
    "    \n",
    "time.sleep(3)"
   ]
  },
  {
   "cell_type": "code",
   "execution_count": 11,
   "id": "813f1686",
   "metadata": {},
   "outputs": [],
   "source": [
    "try:\n",
    "    views_list=driver.find_elements(By.XPATH,\"//table[@class='wikitable sortable jquery-tablesorter'][1]/tbody/tr/td[4]\")\n",
    "    for i in views_list:\n",
    "        Views.append(i.text)\n",
    "except NoSuchElementException:#handling no such element exception\n",
    "    Views.append('No details available')\n",
    "except StaleElementReferenceException:#handling Stale element exception\n",
    "    Views.append('No details available')\n",
    "    \n",
    "time.sleep(3)   "
   ]
  },
  {
   "cell_type": "code",
   "execution_count": 12,
   "id": "a41e24be",
   "metadata": {},
   "outputs": [],
   "source": [
    "try:\n",
    "    upload_date_list=driver.find_elements(By.XPATH,\"//table[@class='wikitable sortable jquery-tablesorter'][1]/tbody/tr/td[5]\")\n",
    "    for i in upload_date_list:\n",
    "        Upload_date.append(i.text)\n",
    "except NoSuchElementException:#handling no such element exception\n",
    "    Upload_date.append('No details available')\n",
    "except StaleElementReferenceException:#handling Stale element exception\n",
    "    Upload_date.append('No details available')\n",
    "    \n",
    "time.sleep(3)"
   ]
  },
  {
   "cell_type": "code",
   "execution_count": 13,
   "id": "e05c0ea6",
   "metadata": {},
   "outputs": [],
   "source": [
    "df=pd.DataFrame({\"Rank\":Rank,\n",
    "                 \"Name\":Name,\n",
    "                \"Uploader/artist\":Artist,\n",
    "                \"Date of upload\":Upload_date,\n",
    "                \"Views(in billion)\":Views})"
   ]
  },
  {
   "cell_type": "code",
   "execution_count": 14,
   "id": "85fb93db",
   "metadata": {},
   "outputs": [
    {
     "data": {
      "text/html": [
       "<div>\n",
       "<style scoped>\n",
       "    .dataframe tbody tr th:only-of-type {\n",
       "        vertical-align: middle;\n",
       "    }\n",
       "\n",
       "    .dataframe tbody tr th {\n",
       "        vertical-align: top;\n",
       "    }\n",
       "\n",
       "    .dataframe thead th {\n",
       "        text-align: right;\n",
       "    }\n",
       "</style>\n",
       "<table border=\"1\" class=\"dataframe\">\n",
       "  <thead>\n",
       "    <tr style=\"text-align: right;\">\n",
       "      <th></th>\n",
       "      <th>Rank</th>\n",
       "      <th>Name</th>\n",
       "      <th>Uploader/artist</th>\n",
       "      <th>Date of upload</th>\n",
       "      <th>Views(in billion)</th>\n",
       "    </tr>\n",
       "  </thead>\n",
       "  <tbody>\n",
       "    <tr>\n",
       "      <th>0</th>\n",
       "      <td>1.</td>\n",
       "      <td>\"Baby Shark Dance\"[3]</td>\n",
       "      <td>Pinkfong Baby Shark - Kids' Songs &amp; Stories</td>\n",
       "      <td>June 17, 2016</td>\n",
       "      <td>11.09</td>\n",
       "    </tr>\n",
       "    <tr>\n",
       "      <th>1</th>\n",
       "      <td>2.</td>\n",
       "      <td>\"Despacito\"[6]</td>\n",
       "      <td>Luis Fonsi</td>\n",
       "      <td>January 12, 2017</td>\n",
       "      <td>7.94</td>\n",
       "    </tr>\n",
       "    <tr>\n",
       "      <th>2</th>\n",
       "      <td>3.</td>\n",
       "      <td>\"Johny Johny Yes Papa\"[12]</td>\n",
       "      <td>LooLoo Kids</td>\n",
       "      <td>October 8, 2016</td>\n",
       "      <td>6.41</td>\n",
       "    </tr>\n",
       "    <tr>\n",
       "      <th>3</th>\n",
       "      <td>4.</td>\n",
       "      <td>\"Shape of You\"[13]</td>\n",
       "      <td>Ed Sheeran</td>\n",
       "      <td>January 30, 2017</td>\n",
       "      <td>5.78</td>\n",
       "    </tr>\n",
       "    <tr>\n",
       "      <th>4</th>\n",
       "      <td>5.</td>\n",
       "      <td>\"See You Again\"[15]</td>\n",
       "      <td>Wiz Khalifa</td>\n",
       "      <td>April 6, 2015</td>\n",
       "      <td>5.59</td>\n",
       "    </tr>\n",
       "    <tr>\n",
       "      <th>5</th>\n",
       "      <td>6.</td>\n",
       "      <td>\"Bath Song\"[20]</td>\n",
       "      <td>Cocomelon – Nursery Rhymes</td>\n",
       "      <td>May 2, 2018</td>\n",
       "      <td>5.55</td>\n",
       "    </tr>\n",
       "    <tr>\n",
       "      <th>6</th>\n",
       "      <td>7.</td>\n",
       "      <td>\"Phonics Song with Two Words\"[21]</td>\n",
       "      <td>ChuChu TV</td>\n",
       "      <td>March 6, 2014</td>\n",
       "      <td>4.79</td>\n",
       "    </tr>\n",
       "    <tr>\n",
       "      <th>7</th>\n",
       "      <td>8.</td>\n",
       "      <td>\"Uptown Funk\"[22]</td>\n",
       "      <td>Mark Ronson</td>\n",
       "      <td>November 19, 2014</td>\n",
       "      <td>4.65</td>\n",
       "    </tr>\n",
       "    <tr>\n",
       "      <th>8</th>\n",
       "      <td>9.</td>\n",
       "      <td>\"Learning Colors – Colorful Eggs on a Farm\"[23]</td>\n",
       "      <td>Miroshka TV</td>\n",
       "      <td>February 27, 2018</td>\n",
       "      <td>4.60</td>\n",
       "    </tr>\n",
       "    <tr>\n",
       "      <th>9</th>\n",
       "      <td>10.</td>\n",
       "      <td>\"Gangnam Style\"[24]</td>\n",
       "      <td>Psy</td>\n",
       "      <td>July 15, 2012</td>\n",
       "      <td>4.51</td>\n",
       "    </tr>\n",
       "    <tr>\n",
       "      <th>10</th>\n",
       "      <td>11.</td>\n",
       "      <td>\"Masha and the Bear – Recipe for Disaster\"[29]</td>\n",
       "      <td>Get Movies</td>\n",
       "      <td>January 31, 2012</td>\n",
       "      <td>4.50</td>\n",
       "    </tr>\n",
       "    <tr>\n",
       "      <th>11</th>\n",
       "      <td>12.</td>\n",
       "      <td>\"Wheels on the Bus\"[30]</td>\n",
       "      <td>Cocomelon – Nursery Rhymes</td>\n",
       "      <td>May 24, 2018</td>\n",
       "      <td>4.25</td>\n",
       "    </tr>\n",
       "    <tr>\n",
       "      <th>12</th>\n",
       "      <td>13.</td>\n",
       "      <td>\"Dame Tu Cosita\"[31]</td>\n",
       "      <td>El Chombo</td>\n",
       "      <td>April 5, 2018</td>\n",
       "      <td>4.01</td>\n",
       "    </tr>\n",
       "    <tr>\n",
       "      <th>13</th>\n",
       "      <td>14.</td>\n",
       "      <td>\"Sugar\"[32]</td>\n",
       "      <td>Maroon 5</td>\n",
       "      <td>January 14, 2015</td>\n",
       "      <td>3.74</td>\n",
       "    </tr>\n",
       "    <tr>\n",
       "      <th>14</th>\n",
       "      <td>15.</td>\n",
       "      <td>\"Roar\"[33]</td>\n",
       "      <td>Katy Perry</td>\n",
       "      <td>September 5, 2013</td>\n",
       "      <td>3.63</td>\n",
       "    </tr>\n",
       "    <tr>\n",
       "      <th>15</th>\n",
       "      <td>16.</td>\n",
       "      <td>\"Counting Stars\"[34]</td>\n",
       "      <td>OneRepublic</td>\n",
       "      <td>May 31, 2013</td>\n",
       "      <td>3.62</td>\n",
       "    </tr>\n",
       "    <tr>\n",
       "      <th>16</th>\n",
       "      <td>17.</td>\n",
       "      <td>\"Sorry\"[35]</td>\n",
       "      <td>Justin Bieber</td>\n",
       "      <td>October 22, 2015</td>\n",
       "      <td>3.57</td>\n",
       "    </tr>\n",
       "    <tr>\n",
       "      <th>17</th>\n",
       "      <td>18.</td>\n",
       "      <td>\"Thinking Out Loud\"[36]</td>\n",
       "      <td>Ed Sheeran</td>\n",
       "      <td>October 7, 2014</td>\n",
       "      <td>3.48</td>\n",
       "    </tr>\n",
       "    <tr>\n",
       "      <th>18</th>\n",
       "      <td>19.</td>\n",
       "      <td>\"Axel F\"[37]</td>\n",
       "      <td>Crazy Frog</td>\n",
       "      <td>June 16, 2009</td>\n",
       "      <td>3.46</td>\n",
       "    </tr>\n",
       "    <tr>\n",
       "      <th>19</th>\n",
       "      <td>20.</td>\n",
       "      <td>\"Baa Baa Black Sheep\"[38]</td>\n",
       "      <td>Cocomelon – Nursery Rhymes</td>\n",
       "      <td>June 25, 2018</td>\n",
       "      <td>3.32</td>\n",
       "    </tr>\n",
       "    <tr>\n",
       "      <th>20</th>\n",
       "      <td>21.</td>\n",
       "      <td>\"Dark Horse\"[39]</td>\n",
       "      <td>Katy Perry</td>\n",
       "      <td>February 20, 2014</td>\n",
       "      <td>3.32</td>\n",
       "    </tr>\n",
       "    <tr>\n",
       "      <th>21</th>\n",
       "      <td>22.</td>\n",
       "      <td>\"Faded\"[40]</td>\n",
       "      <td>Alan Walker</td>\n",
       "      <td>December 3, 2015</td>\n",
       "      <td>3.32</td>\n",
       "    </tr>\n",
       "    <tr>\n",
       "      <th>22</th>\n",
       "      <td>23.</td>\n",
       "      <td>\"Girls Like You\"[41]</td>\n",
       "      <td>Maroon 5</td>\n",
       "      <td>May 31, 2018</td>\n",
       "      <td>3.32</td>\n",
       "    </tr>\n",
       "    <tr>\n",
       "      <th>23</th>\n",
       "      <td>24.</td>\n",
       "      <td>\"Let Her Go\"[42]</td>\n",
       "      <td>Passenger</td>\n",
       "      <td>July 25, 2012</td>\n",
       "      <td>3.27</td>\n",
       "    </tr>\n",
       "    <tr>\n",
       "      <th>24</th>\n",
       "      <td>25.</td>\n",
       "      <td>\"Bailando\"[43]</td>\n",
       "      <td>Enrique Iglesias</td>\n",
       "      <td>April 11, 2014</td>\n",
       "      <td>3.25</td>\n",
       "    </tr>\n",
       "    <tr>\n",
       "      <th>25</th>\n",
       "      <td>26.</td>\n",
       "      <td>\"Lean On\"[44]</td>\n",
       "      <td>Major Lazer</td>\n",
       "      <td>March 22, 2015</td>\n",
       "      <td>3.24</td>\n",
       "    </tr>\n",
       "    <tr>\n",
       "      <th>26</th>\n",
       "      <td>27.</td>\n",
       "      <td>\"Perfect\"[45]</td>\n",
       "      <td>Ed Sheeran</td>\n",
       "      <td>November 9, 2017</td>\n",
       "      <td>3.22</td>\n",
       "    </tr>\n",
       "    <tr>\n",
       "      <th>27</th>\n",
       "      <td>28.</td>\n",
       "      <td>\"Waka Waka (This Time for Africa)\"[46]</td>\n",
       "      <td>Shakira</td>\n",
       "      <td>June 4, 2010</td>\n",
       "      <td>3.21</td>\n",
       "    </tr>\n",
       "    <tr>\n",
       "      <th>28</th>\n",
       "      <td>29.</td>\n",
       "      <td>\"Shake It Off\"[47]</td>\n",
       "      <td>Taylor Swift</td>\n",
       "      <td>August 18, 2014</td>\n",
       "      <td>3.19</td>\n",
       "    </tr>\n",
       "    <tr>\n",
       "      <th>29</th>\n",
       "      <td>30.</td>\n",
       "      <td>\"Mi Gente\"[48]</td>\n",
       "      <td>J Balvin</td>\n",
       "      <td>June 29, 2017</td>\n",
       "      <td>3.12</td>\n",
       "    </tr>\n",
       "  </tbody>\n",
       "</table>\n",
       "</div>"
      ],
      "text/plain": [
       "   Rank                                             Name  \\\n",
       "0    1.                            \"Baby Shark Dance\"[3]   \n",
       "1    2.                                   \"Despacito\"[6]   \n",
       "2    3.                       \"Johny Johny Yes Papa\"[12]   \n",
       "3    4.                               \"Shape of You\"[13]   \n",
       "4    5.                              \"See You Again\"[15]   \n",
       "5    6.                                  \"Bath Song\"[20]   \n",
       "6    7.                \"Phonics Song with Two Words\"[21]   \n",
       "7    8.                                \"Uptown Funk\"[22]   \n",
       "8    9.  \"Learning Colors – Colorful Eggs on a Farm\"[23]   \n",
       "9   10.                              \"Gangnam Style\"[24]   \n",
       "10  11.   \"Masha and the Bear – Recipe for Disaster\"[29]   \n",
       "11  12.                          \"Wheels on the Bus\"[30]   \n",
       "12  13.                             \"Dame Tu Cosita\"[31]   \n",
       "13  14.                                      \"Sugar\"[32]   \n",
       "14  15.                                       \"Roar\"[33]   \n",
       "15  16.                             \"Counting Stars\"[34]   \n",
       "16  17.                                      \"Sorry\"[35]   \n",
       "17  18.                          \"Thinking Out Loud\"[36]   \n",
       "18  19.                                     \"Axel F\"[37]   \n",
       "19  20.                        \"Baa Baa Black Sheep\"[38]   \n",
       "20  21.                                 \"Dark Horse\"[39]   \n",
       "21  22.                                      \"Faded\"[40]   \n",
       "22  23.                             \"Girls Like You\"[41]   \n",
       "23  24.                                 \"Let Her Go\"[42]   \n",
       "24  25.                                   \"Bailando\"[43]   \n",
       "25  26.                                    \"Lean On\"[44]   \n",
       "26  27.                                    \"Perfect\"[45]   \n",
       "27  28.           \"Waka Waka (This Time for Africa)\"[46]   \n",
       "28  29.                               \"Shake It Off\"[47]   \n",
       "29  30.                                   \"Mi Gente\"[48]   \n",
       "\n",
       "                                Uploader/artist     Date of upload  \\\n",
       "0   Pinkfong Baby Shark - Kids' Songs & Stories      June 17, 2016   \n",
       "1                                    Luis Fonsi   January 12, 2017   \n",
       "2                                   LooLoo Kids    October 8, 2016   \n",
       "3                                    Ed Sheeran   January 30, 2017   \n",
       "4                                   Wiz Khalifa      April 6, 2015   \n",
       "5                    Cocomelon – Nursery Rhymes        May 2, 2018   \n",
       "6                                     ChuChu TV      March 6, 2014   \n",
       "7                                   Mark Ronson  November 19, 2014   \n",
       "8                                   Miroshka TV  February 27, 2018   \n",
       "9                                           Psy      July 15, 2012   \n",
       "10                                   Get Movies   January 31, 2012   \n",
       "11                   Cocomelon – Nursery Rhymes       May 24, 2018   \n",
       "12                                    El Chombo      April 5, 2018   \n",
       "13                                     Maroon 5   January 14, 2015   \n",
       "14                                   Katy Perry  September 5, 2013   \n",
       "15                                  OneRepublic       May 31, 2013   \n",
       "16                                Justin Bieber   October 22, 2015   \n",
       "17                                   Ed Sheeran    October 7, 2014   \n",
       "18                                   Crazy Frog      June 16, 2009   \n",
       "19                   Cocomelon – Nursery Rhymes      June 25, 2018   \n",
       "20                                   Katy Perry  February 20, 2014   \n",
       "21                                  Alan Walker   December 3, 2015   \n",
       "22                                     Maroon 5       May 31, 2018   \n",
       "23                                    Passenger      July 25, 2012   \n",
       "24                             Enrique Iglesias     April 11, 2014   \n",
       "25                                  Major Lazer     March 22, 2015   \n",
       "26                                   Ed Sheeran   November 9, 2017   \n",
       "27                                      Shakira       June 4, 2010   \n",
       "28                                 Taylor Swift    August 18, 2014   \n",
       "29                                     J Balvin      June 29, 2017   \n",
       "\n",
       "   Views(in billion)  \n",
       "0              11.09  \n",
       "1               7.94  \n",
       "2               6.41  \n",
       "3               5.78  \n",
       "4               5.59  \n",
       "5               5.55  \n",
       "6               4.79  \n",
       "7               4.65  \n",
       "8               4.60  \n",
       "9               4.51  \n",
       "10              4.50  \n",
       "11              4.25  \n",
       "12              4.01  \n",
       "13              3.74  \n",
       "14              3.63  \n",
       "15              3.62  \n",
       "16              3.57  \n",
       "17              3.48  \n",
       "18              3.46  \n",
       "19              3.32  \n",
       "20              3.32  \n",
       "21              3.32  \n",
       "22              3.32  \n",
       "23              3.27  \n",
       "24              3.25  \n",
       "25              3.24  \n",
       "26              3.22  \n",
       "27              3.21  \n",
       "28              3.19  \n",
       "29              3.12  "
      ]
     },
     "execution_count": 14,
     "metadata": {},
     "output_type": "execute_result"
    }
   ],
   "source": [
    "df"
   ]
  },
  {
   "cell_type": "markdown",
   "id": "237dd846",
   "metadata": {},
   "source": [
    "# quest2"
   ]
  },
  {
   "cell_type": "code",
   "execution_count": 116,
   "id": "ba2a8a73",
   "metadata": {},
   "outputs": [
    {
     "name": "stderr",
     "output_type": "stream",
     "text": [
      "C:\\Users\\Admin\\AppData\\Local\\Temp\\ipykernel_8232\\2344513889.py:1: DeprecationWarning: executable_path has been deprecated, please pass in a Service object\n",
      "  driver = webdriver.Chrome(r'C:\\Users\\Admin\\Downloads\\chromedriver_win32\\chromedriver.exe')\n"
     ]
    }
   ],
   "source": [
    "driver = webdriver.Chrome(r'C:\\Users\\Admin\\Downloads\\chromedriver_win32\\chromedriver.exe')\n",
    "time.sleep(2)"
   ]
  },
  {
   "cell_type": "code",
   "execution_count": 117,
   "id": "1d9e7b68",
   "metadata": {},
   "outputs": [],
   "source": [
    "url = \"https://www.bcci.tv/\""
   ]
  },
  {
   "cell_type": "code",
   "execution_count": 118,
   "id": "13ea5dd9",
   "metadata": {},
   "outputs": [],
   "source": [
    "page = requests.get(url)"
   ]
  },
  {
   "cell_type": "code",
   "execution_count": 119,
   "id": "6361f55c",
   "metadata": {},
   "outputs": [],
   "source": [
    "crick=driver.get(url)"
   ]
  },
  {
   "cell_type": "code",
   "execution_count": 120,
   "id": "d1b09feb",
   "metadata": {},
   "outputs": [],
   "source": [
    "inter=driver.find_element(By.XPATH,'//*[@id=\"navigation\"]/ul[1]/li[2]/a')"
   ]
  },
  {
   "cell_type": "code",
   "execution_count": 121,
   "id": "b2ad6a41",
   "metadata": {},
   "outputs": [],
   "source": [
    "inter.click()"
   ]
  },
  {
   "cell_type": "code",
   "execution_count": 124,
   "id": "3616b738",
   "metadata": {},
   "outputs": [],
   "source": [
    "Match_title=[]\n",
    "Series=[]\n",
    "Place=[]\n",
    "Date=[]\n",
    "Matchtime=[]\n",
    "datetime=[]"
   ]
  },
  {
   "cell_type": "code",
   "execution_count": 129,
   "id": "38309959",
   "metadata": {},
   "outputs": [
    {
     "ename": "SyntaxError",
     "evalue": "invalid syntax (4057710927.py, line 11)",
     "output_type": "error",
     "traceback": [
      "\u001b[1;36m  Input \u001b[1;32mIn [129]\u001b[1;36m\u001b[0m\n\u001b[1;33m    find_elements(By.XPATH,'//*[@id=\"fixtures\"]/div[3]/div[1]/div[1]/div/div[1]/div/div[1]'):\u001b[0m\n\u001b[1;37m                                                                                             ^\u001b[0m\n\u001b[1;31mSyntaxError\u001b[0m\u001b[1;31m:\u001b[0m invalid syntax\n"
     ]
    }
   ],
   "source": [
    "\n",
    "for i in driver.find_elements(By.XPATH,'//*[@id=\"fixtures\"]/div[3]/div[1]/div[1]/div/div[4]/div/span[1]'):\n",
    "    Match_title.append(i.text)\n",
    "    \n",
    "for i in driver.find_elements(By.XPATH,'//*[@id=\"fixtures\"]/div[3]/div[1]/div[1]/div/div[1]/h5[2]/span'):\n",
    "    Series.append(i.text)\n",
    "\n",
    "for i in driver.find_elements(By.XPATH,'//*[@id=\"fixtures\"]/div[3]/div[1]/div[1]/div/div[4]/div/span[2]'):\n",
    "    Place.append(i.text)\n",
    "    \n",
    "for i in driver:\n",
    "    find_elements(By.XPATH,'//*[@id=\"fixtures\"]/div[3]/div[1]/div[1]/div/div[1]/div/div[1]'):\n",
    "    datetime.append(i.text.replace('\\n',' '))\n",
    "    \n",
    "Date=[i.split(' ',3)[:3] for i in datetime]\n",
    "Date=[' '.join(i) for i in Date]\n",
    "Matchtime=[i.split(' ',3)[-1] for i in datetime]"
   ]
  },
  {
   "cell_type": "markdown",
   "id": "dd98cb92",
   "metadata": {},
   "source": [
    "# quest3"
   ]
  },
  {
   "cell_type": "code",
   "execution_count": 10,
   "id": "7b8e9653",
   "metadata": {},
   "outputs": [
    {
     "name": "stderr",
     "output_type": "stream",
     "text": [
      "C:\\Users\\Admin\\AppData\\Local\\Temp\\ipykernel_10972\\2344513889.py:1: DeprecationWarning: executable_path has been deprecated, please pass in a Service object\n",
      "  driver = webdriver.Chrome(r'C:\\Users\\Admin\\Downloads\\chromedriver_win32\\chromedriver.exe')\n"
     ]
    }
   ],
   "source": [
    "driver = webdriver.Chrome(r'C:\\Users\\Admin\\Downloads\\chromedriver_win32\\chromedriver.exe')\n",
    "time.sleep(2)"
   ]
  },
  {
   "cell_type": "code",
   "execution_count": 11,
   "id": "1c0baf5d",
   "metadata": {},
   "outputs": [],
   "source": [
    "url = \"https://www.guru99.com/\""
   ]
  },
  {
   "cell_type": "code",
   "execution_count": 12,
   "id": "3977b66a",
   "metadata": {},
   "outputs": [],
   "source": [
    "page = requests.get(url)"
   ]
  },
  {
   "cell_type": "code",
   "execution_count": 13,
   "id": "a6cbb23e",
   "metadata": {},
   "outputs": [],
   "source": [
    "sel=driver.get(url)"
   ]
  },
  {
   "cell_type": "code",
   "execution_count": 18,
   "id": "5b5e7689",
   "metadata": {},
   "outputs": [],
   "source": [
    "selenium=driver.find_element(By.XPATH,'//*[@id=\"java_technologies\"]/li[3]/a').click()"
   ]
  },
  {
   "cell_type": "code",
   "execution_count": 19,
   "id": "42cb37a1",
   "metadata": {},
   "outputs": [],
   "source": [
    "selenium_exc=driver.find_element(By.XPATH,'//*[@id=\"post-193\"]/div/div/table[5]/tbody/tr[34]/td[1]/a').click()"
   ]
  },
  {
   "cell_type": "code",
   "execution_count": 21,
   "id": "cba790a7",
   "metadata": {},
   "outputs": [
    {
     "name": "stdout",
     "output_type": "stream",
     "text": [
      "40\n"
     ]
    }
   ],
   "source": [
    "name=[]\n",
    "try:\n",
    "    names=driver.find_elements(By.XPATH,\"//table[@class='table table-striped']/tbody/tr/td[1]\")\n",
    "    for i in names[1:]:\n",
    "        name.append(i.text)\n",
    "except NoSuchElementException:\n",
    "    name.append('No details available')\n",
    "print(len(name))"
   ]
  },
  {
   "cell_type": "code",
   "execution_count": 22,
   "id": "cf963f79",
   "metadata": {},
   "outputs": [
    {
     "name": "stdout",
     "output_type": "stream",
     "text": [
      "40\n"
     ]
    }
   ],
   "source": [
    "desc=[]\n",
    "try:\n",
    "    desc_list=driver.find_elements(By.XPATH,\"//table[@class='table table-striped']/tbody/tr/td[2]\")\n",
    "    for i in desc_list[1:]:\n",
    "        desc.append(i.text)\n",
    "except NoSuchElementException:\n",
    "    desc.append('No details available')\n",
    "print(len(desc))"
   ]
  },
  {
   "cell_type": "code",
   "execution_count": 23,
   "id": "09958cfc",
   "metadata": {},
   "outputs": [
    {
     "name": "stdout",
     "output_type": "stream",
     "text": [
      "                         Exception_name  \\\n",
      "0         ElementNotSelectableException   \n",
      "1                NoSuchElementException   \n",
      "2                  NoSuchFrameException   \n",
      "3               NoAlertPresentException   \n",
      "4                 NoSuchWindowException   \n",
      "5        StaleElementReferenceException   \n",
      "6              SessionNotFoundException   \n",
      "7                      TimeoutException   \n",
      "8                    WebDriverException   \n",
      "9             ConnectionClosedException   \n",
      "10     ElementClickInterceptedException   \n",
      "11      ElementNotInteractableException   \n",
      "12             ErrorInResponseException   \n",
      "13  ErrorHandler.UnknownServerException   \n",
      "14         ImeActivationFailedException   \n",
      "15             ImeNotAvailableException   \n",
      "16         InsecureCertificateException   \n",
      "17             InvalidArgumentException   \n",
      "18         InvalidCookieDomainException   \n",
      "19          InvalidCoordinatesException   \n",
      "20          InvalidElementStateExceptio   \n",
      "21            InvalidSessionIdException   \n",
      "22       InvalidSwitchToTargetException   \n",
      "23                  JavascriptException   \n",
      "24                        JsonException   \n",
      "25             NoSuchAttributeException   \n",
      "26       MoveTargetOutOfBoundsException   \n",
      "27               NoSuchContextException   \n",
      "28                NoSuchCookieException   \n",
      "29                    NotFoundException   \n",
      "30          RemoteDriverServerException   \n",
      "31                  ScreenshotException   \n",
      "32           SessionNotCreatedException   \n",
      "33           UnableToSetCookieException   \n",
      "34           UnexpectedTagNameException   \n",
      "35              UnhandledAlertException   \n",
      "36      UnexpectedAlertPresentException   \n",
      "37               UnknownMethodException   \n",
      "38          UnreachableBrowserException   \n",
      "39          UnsupportedCommandException   \n",
      "\n",
      "                                          Description  \n",
      "0   This Selenium exception occurs when an element...  \n",
      "1   This Exception occurs if an element could not ...  \n",
      "2   This Exception occurs if the frame target to b...  \n",
      "3   This Exception occurs when you switch to no pr...  \n",
      "4   This Exception occurs if the window target to ...  \n",
      "5   This Selenium exception occurs happens when th...  \n",
      "6   The WebDriver is acting after you quit the bro...  \n",
      "7   Thrown when there is not enough time for a com...  \n",
      "8   This Exception takes place when the WebDriver ...  \n",
      "9   This type of Exception takes place when there ...  \n",
      "10  The command may not be completed as the elemen...  \n",
      "11  This Selenium exception is thrown when any ele...  \n",
      "12  This happens while interacting with the Firefo...  \n",
      "13  Exception is used as a placeholder in case if ...  \n",
      "14  This expectation will occur when IME engine ac...  \n",
      "15    It takes place when IME support is unavailable.  \n",
      "16  Navigation made the user agent to hit a certif...  \n",
      "17  It occurs when an argument does not belong to ...  \n",
      "18  This happens when you try to add a cookie unde...  \n",
      "19  This type of Exception matches an interacting ...  \n",
      "20  It occurs when command can’t be finished when ...  \n",
      "21  This Exception took place when the given sessi...  \n",
      "22  This occurs when the frame or window target to...  \n",
      "23  This issue occurs while executing JavaScript g...  \n",
      "24  It occurs when you afford to get the session w...  \n",
      "25  This kind of Exception occurs when the attribu...  \n",
      "26  It takes place if the target provided to the A...  \n",
      "27           ContextAware does mobile device testing.  \n",
      "28  This Exception occurs when no cookie matching ...  \n",
      "29  This Exception is a subclass of WebDriverExcep...  \n",
      "30  This Selenium exception is thrown when the ser...  \n",
      "31            It is not possible to capture a screen.  \n",
      "32  It happens when a new session could not be suc...  \n",
      "33  This occurs if a driver is unable to set a coo...  \n",
      "34  Happens if a support class did not get a web e...  \n",
      "35  This expectation occurs when there is an alert...  \n",
      "36  It occurs when there is the appearance of an u...  \n",
      "37  This Exception happens when the requested comm...  \n",
      "38  This Exception occurs only when the browser is...  \n",
      "39  This occurs when remote WebDriver does n’t sen...  \n"
     ]
    }
   ],
   "source": [
    "df=pd.DataFrame({\"Exception_name\":name,\n",
    "                \"Description\":desc})\n",
    "print(df)"
   ]
  },
  {
   "cell_type": "markdown",
   "id": "6580bbac",
   "metadata": {},
   "source": [
    "# ques4"
   ]
  },
  {
   "cell_type": "code",
   "execution_count": 61,
   "id": "3567b824",
   "metadata": {},
   "outputs": [
    {
     "name": "stderr",
     "output_type": "stream",
     "text": [
      "C:\\Users\\Admin\\AppData\\Local\\Temp\\ipykernel_10972\\2344513889.py:1: DeprecationWarning: executable_path has been deprecated, please pass in a Service object\n",
      "  driver = webdriver.Chrome(r'C:\\Users\\Admin\\Downloads\\chromedriver_win32\\chromedriver.exe')\n"
     ]
    }
   ],
   "source": [
    "driver = webdriver.Chrome(r'C:\\Users\\Admin\\Downloads\\chromedriver_win32\\chromedriver.exe')\n",
    "time.sleep(2)"
   ]
  },
  {
   "cell_type": "code",
   "execution_count": 62,
   "id": "77eb8768",
   "metadata": {},
   "outputs": [],
   "source": [
    "url=(\"http://statisticstimes.com/\")"
   ]
  },
  {
   "cell_type": "code",
   "execution_count": 63,
   "id": "2d367436",
   "metadata": {},
   "outputs": [],
   "source": [
    "sta=driver.get(url)"
   ]
  },
  {
   "cell_type": "code",
   "execution_count": 66,
   "id": "75c41729",
   "metadata": {},
   "outputs": [],
   "source": [
    "eco=driver.find_element(By.XPATH,\"//div[@class='dropdown'][2]/div/a[3]\")"
   ]
  },
  {
   "cell_type": "code",
   "execution_count": 67,
   "id": "5299e152",
   "metadata": {},
   "outputs": [],
   "source": [
    "try:\n",
    "    eco.click()\n",
    "except ElementNotInteractableException:\n",
    "    driver.get(eco.get_attribute('href'))"
   ]
  },
  {
   "cell_type": "code",
   "execution_count": 68,
   "id": "0f65b519",
   "metadata": {},
   "outputs": [],
   "source": [
    "gdp=driver.find_element(By.XPATH,\"//ul[@style='list-style-type:none;margin-left:20px;']//li[1]/a\")\n",
    "try:\n",
    "    gdp.click()\n",
    "except ElementNotInteractableException:\n",
    "    driver.get(gdp.get_attribute('href'))"
   ]
  },
  {
   "cell_type": "code",
   "execution_count": 69,
   "id": "9a999e77",
   "metadata": {},
   "outputs": [
    {
     "name": "stdout",
     "output_type": "stream",
     "text": [
      "33\n"
     ]
    }
   ],
   "source": [
    "rank=[]\n",
    "try:\n",
    "    ranks=driver.find_elements(By.XPATH,\"//div[@id='table_id_wrapper']/table/tbody/tr/td[1]\")\n",
    "    for i in ranks:\n",
    "        rank.append(i.text)\n",
    "except NoSuchElementException:\n",
    "    rank.append('No details available')\n",
    "print(len(rank))"
   ]
  },
  {
   "cell_type": "code",
   "execution_count": 80,
   "id": "84acba32",
   "metadata": {},
   "outputs": [
    {
     "ename": "WebDriverException",
     "evalue": "Message: unknown error: unexpected command response\n  (Session info: chrome=104.0.5112.81)\nStacktrace:\nBacktrace:\n\tOrdinal0 [0x004B6463+2188387]\n\tOrdinal0 [0x0044E461+1762401]\n\tOrdinal0 [0x00363D78+802168]\n\tOrdinal0 [0x00357210+750096]\n\tOrdinal0 [0x0035675A+747354]\n\tOrdinal0 [0x00355D3F+744767]\n\tOrdinal0 [0x0035557C+742780]\n\tOrdinal0 [0x00355419+742425]\n\tOrdinal0 [0x00365110+807184]\n\tOrdinal0 [0x003BC4EB+1164523]\n\tOrdinal0 [0x003AC5F6+1099254]\n\tOrdinal0 [0x00386BE0+945120]\n\tOrdinal0 [0x00387AD6+948950]\n\tGetHandleVerifier [0x007571F2+2712546]\n\tGetHandleVerifier [0x0074886D+2652765]\n\tGetHandleVerifier [0x0054002A+520730]\n\tGetHandleVerifier [0x0053EE06+516086]\n\tOrdinal0 [0x0045468B+1787531]\n\tOrdinal0 [0x00458E88+1805960]\n\tOrdinal0 [0x00458F75+1806197]\n\tOrdinal0 [0x00461DF1+1842673]\n\tBaseThreadInitThunk [0x771BFA29+25]\n\tRtlGetAppContainerNamedObjectPath [0x774C7A9E+286]\n\tRtlGetAppContainerNamedObjectPath [0x774C7A6E+238]\n",
     "output_type": "error",
     "traceback": [
      "\u001b[1;31m---------------------------------------------------------------------------\u001b[0m",
      "\u001b[1;31mWebDriverException\u001b[0m                        Traceback (most recent call last)",
      "Input \u001b[1;32mIn [80]\u001b[0m, in \u001b[0;36m<cell line: 2>\u001b[1;34m()\u001b[0m\n\u001b[0;32m      1\u001b[0m State\u001b[38;5;241m=\u001b[39m[]\n\u001b[0;32m      2\u001b[0m \u001b[38;5;28;01mtry\u001b[39;00m:\n\u001b[1;32m----> 3\u001b[0m     states\u001b[38;5;241m=\u001b[39m\u001b[43mdriver\u001b[49m\u001b[38;5;241;43m.\u001b[39;49m\u001b[43mfind_elements\u001b[49m\u001b[43m(\u001b[49m\u001b[43mBy\u001b[49m\u001b[38;5;241;43m.\u001b[39;49m\u001b[43mXPATH\u001b[49m\u001b[43m,\u001b[49m\u001b[38;5;124;43m\"\u001b[39;49m\u001b[38;5;124;43m//table[@class=\u001b[39;49m\u001b[38;5;124;43m'\u001b[39;49m\u001b[38;5;124;43mdisplay dataTable\u001b[39;49m\u001b[38;5;124;43m'\u001b[39;49m\u001b[38;5;124;43m]/tbody/tr/td[2]\u001b[39;49m\u001b[38;5;124;43m\"\u001b[39;49m\u001b[43m)\u001b[49m\n\u001b[0;32m      4\u001b[0m     \u001b[38;5;28;01mfor\u001b[39;00m i \u001b[38;5;129;01min\u001b[39;00m states:\n\u001b[0;32m      5\u001b[0m         State\u001b[38;5;241m.\u001b[39mappend(i\u001b[38;5;241m.\u001b[39mtext)\n",
      "File \u001b[1;32m~\\anaconda3\\lib\\site-packages\\selenium\\webdriver\\remote\\webdriver.py:890\u001b[0m, in \u001b[0;36mWebDriver.find_elements\u001b[1;34m(self, by, value)\u001b[0m\n\u001b[0;32m    886\u001b[0m     value \u001b[38;5;241m=\u001b[39m \u001b[38;5;124m'\u001b[39m\u001b[38;5;124m[name=\u001b[39m\u001b[38;5;124m\"\u001b[39m\u001b[38;5;132;01m%s\u001b[39;00m\u001b[38;5;124m\"\u001b[39m\u001b[38;5;124m]\u001b[39m\u001b[38;5;124m'\u001b[39m \u001b[38;5;241m%\u001b[39m value\n\u001b[0;32m    888\u001b[0m \u001b[38;5;66;03m# Return empty list if driver returns null\u001b[39;00m\n\u001b[0;32m    889\u001b[0m \u001b[38;5;66;03m# See https://github.com/SeleniumHQ/selenium/issues/4555\u001b[39;00m\n\u001b[1;32m--> 890\u001b[0m \u001b[38;5;28;01mreturn\u001b[39;00m \u001b[38;5;28;43mself\u001b[39;49m\u001b[38;5;241;43m.\u001b[39;49m\u001b[43mexecute\u001b[49m\u001b[43m(\u001b[49m\u001b[43mCommand\u001b[49m\u001b[38;5;241;43m.\u001b[39;49m\u001b[43mFIND_ELEMENTS\u001b[49m\u001b[43m,\u001b[49m\u001b[43m \u001b[49m\u001b[43m{\u001b[49m\n\u001b[0;32m    891\u001b[0m \u001b[43m    \u001b[49m\u001b[38;5;124;43m'\u001b[39;49m\u001b[38;5;124;43musing\u001b[39;49m\u001b[38;5;124;43m'\u001b[39;49m\u001b[43m:\u001b[49m\u001b[43m \u001b[49m\u001b[43mby\u001b[49m\u001b[43m,\u001b[49m\n\u001b[0;32m    892\u001b[0m \u001b[43m    \u001b[49m\u001b[38;5;124;43m'\u001b[39;49m\u001b[38;5;124;43mvalue\u001b[39;49m\u001b[38;5;124;43m'\u001b[39;49m\u001b[43m:\u001b[49m\u001b[43m \u001b[49m\u001b[43mvalue\u001b[49m\u001b[43m}\u001b[49m\u001b[43m)\u001b[49m[\u001b[38;5;124m'\u001b[39m\u001b[38;5;124mvalue\u001b[39m\u001b[38;5;124m'\u001b[39m] \u001b[38;5;129;01mor\u001b[39;00m []\n",
      "File \u001b[1;32m~\\anaconda3\\lib\\site-packages\\selenium\\webdriver\\remote\\webdriver.py:435\u001b[0m, in \u001b[0;36mWebDriver.execute\u001b[1;34m(self, driver_command, params)\u001b[0m\n\u001b[0;32m    433\u001b[0m response \u001b[38;5;241m=\u001b[39m \u001b[38;5;28mself\u001b[39m\u001b[38;5;241m.\u001b[39mcommand_executor\u001b[38;5;241m.\u001b[39mexecute(driver_command, params)\n\u001b[0;32m    434\u001b[0m \u001b[38;5;28;01mif\u001b[39;00m response:\n\u001b[1;32m--> 435\u001b[0m     \u001b[38;5;28;43mself\u001b[39;49m\u001b[38;5;241;43m.\u001b[39;49m\u001b[43merror_handler\u001b[49m\u001b[38;5;241;43m.\u001b[39;49m\u001b[43mcheck_response\u001b[49m\u001b[43m(\u001b[49m\u001b[43mresponse\u001b[49m\u001b[43m)\u001b[49m\n\u001b[0;32m    436\u001b[0m     response[\u001b[38;5;124m'\u001b[39m\u001b[38;5;124mvalue\u001b[39m\u001b[38;5;124m'\u001b[39m] \u001b[38;5;241m=\u001b[39m \u001b[38;5;28mself\u001b[39m\u001b[38;5;241m.\u001b[39m_unwrap_value(\n\u001b[0;32m    437\u001b[0m         response\u001b[38;5;241m.\u001b[39mget(\u001b[38;5;124m'\u001b[39m\u001b[38;5;124mvalue\u001b[39m\u001b[38;5;124m'\u001b[39m, \u001b[38;5;28;01mNone\u001b[39;00m))\n\u001b[0;32m    438\u001b[0m     \u001b[38;5;28;01mreturn\u001b[39;00m response\n",
      "File \u001b[1;32m~\\anaconda3\\lib\\site-packages\\selenium\\webdriver\\remote\\errorhandler.py:247\u001b[0m, in \u001b[0;36mErrorHandler.check_response\u001b[1;34m(self, response)\u001b[0m\n\u001b[0;32m    245\u001b[0m         alert_text \u001b[38;5;241m=\u001b[39m value[\u001b[38;5;124m'\u001b[39m\u001b[38;5;124malert\u001b[39m\u001b[38;5;124m'\u001b[39m]\u001b[38;5;241m.\u001b[39mget(\u001b[38;5;124m'\u001b[39m\u001b[38;5;124mtext\u001b[39m\u001b[38;5;124m'\u001b[39m)\n\u001b[0;32m    246\u001b[0m     \u001b[38;5;28;01mraise\u001b[39;00m exception_class(message, screen, stacktrace, alert_text)  \u001b[38;5;66;03m# type: ignore[call-arg]  # mypy is not smart enough here\u001b[39;00m\n\u001b[1;32m--> 247\u001b[0m \u001b[38;5;28;01mraise\u001b[39;00m exception_class(message, screen, stacktrace)\n",
      "\u001b[1;31mWebDriverException\u001b[0m: Message: unknown error: unexpected command response\n  (Session info: chrome=104.0.5112.81)\nStacktrace:\nBacktrace:\n\tOrdinal0 [0x004B6463+2188387]\n\tOrdinal0 [0x0044E461+1762401]\n\tOrdinal0 [0x00363D78+802168]\n\tOrdinal0 [0x00357210+750096]\n\tOrdinal0 [0x0035675A+747354]\n\tOrdinal0 [0x00355D3F+744767]\n\tOrdinal0 [0x0035557C+742780]\n\tOrdinal0 [0x00355419+742425]\n\tOrdinal0 [0x00365110+807184]\n\tOrdinal0 [0x003BC4EB+1164523]\n\tOrdinal0 [0x003AC5F6+1099254]\n\tOrdinal0 [0x00386BE0+945120]\n\tOrdinal0 [0x00387AD6+948950]\n\tGetHandleVerifier [0x007571F2+2712546]\n\tGetHandleVerifier [0x0074886D+2652765]\n\tGetHandleVerifier [0x0054002A+520730]\n\tGetHandleVerifier [0x0053EE06+516086]\n\tOrdinal0 [0x0045468B+1787531]\n\tOrdinal0 [0x00458E88+1805960]\n\tOrdinal0 [0x00458F75+1806197]\n\tOrdinal0 [0x00461DF1+1842673]\n\tBaseThreadInitThunk [0x771BFA29+25]\n\tRtlGetAppContainerNamedObjectPath [0x774C7A9E+286]\n\tRtlGetAppContainerNamedObjectPath [0x774C7A6E+238]\n"
     ]
    }
   ],
   "source": [
    "State=[]\n",
    "try:\n",
    "    states=driver.find_elements(By.XPATH,\"//table[@class='display dataTable']/tbody/tr/td[2]\")\n",
    "    for i in states:\n",
    "        State.append(i.text)\n",
    "except NoSuchElementException:\n",
    "    State.append('No details available')\n",
    "print(len(State))"
   ]
  },
  {
   "cell_type": "code",
   "execution_count": 75,
   "id": "b15a29e1",
   "metadata": {},
   "outputs": [
    {
     "ename": "WebDriverException",
     "evalue": "Message: unknown error: unexpected command response\n  (Session info: chrome=104.0.5112.81)\nStacktrace:\nBacktrace:\n\tOrdinal0 [0x004B6463+2188387]\n\tOrdinal0 [0x0044E461+1762401]\n\tOrdinal0 [0x00363D78+802168]\n\tOrdinal0 [0x00357210+750096]\n\tOrdinal0 [0x0035675A+747354]\n\tOrdinal0 [0x00355D3F+744767]\n\tOrdinal0 [0x0035557C+742780]\n\tOrdinal0 [0x00355419+742425]\n\tOrdinal0 [0x00365110+807184]\n\tOrdinal0 [0x003BC4EB+1164523]\n\tOrdinal0 [0x003AC5F6+1099254]\n\tOrdinal0 [0x00386BE0+945120]\n\tOrdinal0 [0x00387AD6+948950]\n\tGetHandleVerifier [0x007571F2+2712546]\n\tGetHandleVerifier [0x0074886D+2652765]\n\tGetHandleVerifier [0x0054002A+520730]\n\tGetHandleVerifier [0x0053EE06+516086]\n\tOrdinal0 [0x0045468B+1787531]\n\tOrdinal0 [0x00458E88+1805960]\n\tOrdinal0 [0x00458F75+1806197]\n\tOrdinal0 [0x00461DF1+1842673]\n\tBaseThreadInitThunk [0x771BFA29+25]\n\tRtlGetAppContainerNamedObjectPath [0x774C7A9E+286]\n\tRtlGetAppContainerNamedObjectPath [0x774C7A6E+238]\n",
     "output_type": "error",
     "traceback": [
      "\u001b[1;31m---------------------------------------------------------------------------\u001b[0m",
      "\u001b[1;31mWebDriverException\u001b[0m                        Traceback (most recent call last)",
      "Input \u001b[1;32mIn [75]\u001b[0m, in \u001b[0;36m<cell line: 2>\u001b[1;34m()\u001b[0m\n\u001b[0;32m      1\u001b[0m GSDP_18\u001b[38;5;241m=\u001b[39m[]\n\u001b[0;32m      2\u001b[0m \u001b[38;5;28;01mtry\u001b[39;00m:\n\u001b[1;32m----> 3\u001b[0m     info\u001b[38;5;241m=\u001b[39m\u001b[43mdriver\u001b[49m\u001b[38;5;241;43m.\u001b[39;49m\u001b[43mfind_elements\u001b[49m\u001b[43m(\u001b[49m\u001b[43mBy\u001b[49m\u001b[38;5;241;43m.\u001b[39;49m\u001b[43mXPATH\u001b[49m\u001b[43m,\u001b[49m\u001b[38;5;124;43m\"\u001b[39;49m\u001b[38;5;124;43m//div[@id=\u001b[39;49m\u001b[38;5;124;43m'\u001b[39;49m\u001b[38;5;124;43mtable_id_wrapper\u001b[39;49m\u001b[38;5;124;43m'\u001b[39;49m\u001b[38;5;124;43m]/table/tbody/tr/td[3]\u001b[39;49m\u001b[38;5;124;43m\"\u001b[39;49m\u001b[43m)\u001b[49m\n\u001b[0;32m      4\u001b[0m     \u001b[38;5;28;01mfor\u001b[39;00m i \u001b[38;5;129;01min\u001b[39;00m info:\n\u001b[0;32m      5\u001b[0m         GSDP_18\u001b[38;5;241m.\u001b[39mappend(i\u001b[38;5;241m.\u001b[39mtext)\n",
      "File \u001b[1;32m~\\anaconda3\\lib\\site-packages\\selenium\\webdriver\\remote\\webdriver.py:890\u001b[0m, in \u001b[0;36mWebDriver.find_elements\u001b[1;34m(self, by, value)\u001b[0m\n\u001b[0;32m    886\u001b[0m     value \u001b[38;5;241m=\u001b[39m \u001b[38;5;124m'\u001b[39m\u001b[38;5;124m[name=\u001b[39m\u001b[38;5;124m\"\u001b[39m\u001b[38;5;132;01m%s\u001b[39;00m\u001b[38;5;124m\"\u001b[39m\u001b[38;5;124m]\u001b[39m\u001b[38;5;124m'\u001b[39m \u001b[38;5;241m%\u001b[39m value\n\u001b[0;32m    888\u001b[0m \u001b[38;5;66;03m# Return empty list if driver returns null\u001b[39;00m\n\u001b[0;32m    889\u001b[0m \u001b[38;5;66;03m# See https://github.com/SeleniumHQ/selenium/issues/4555\u001b[39;00m\n\u001b[1;32m--> 890\u001b[0m \u001b[38;5;28;01mreturn\u001b[39;00m \u001b[38;5;28;43mself\u001b[39;49m\u001b[38;5;241;43m.\u001b[39;49m\u001b[43mexecute\u001b[49m\u001b[43m(\u001b[49m\u001b[43mCommand\u001b[49m\u001b[38;5;241;43m.\u001b[39;49m\u001b[43mFIND_ELEMENTS\u001b[49m\u001b[43m,\u001b[49m\u001b[43m \u001b[49m\u001b[43m{\u001b[49m\n\u001b[0;32m    891\u001b[0m \u001b[43m    \u001b[49m\u001b[38;5;124;43m'\u001b[39;49m\u001b[38;5;124;43musing\u001b[39;49m\u001b[38;5;124;43m'\u001b[39;49m\u001b[43m:\u001b[49m\u001b[43m \u001b[49m\u001b[43mby\u001b[49m\u001b[43m,\u001b[49m\n\u001b[0;32m    892\u001b[0m \u001b[43m    \u001b[49m\u001b[38;5;124;43m'\u001b[39;49m\u001b[38;5;124;43mvalue\u001b[39;49m\u001b[38;5;124;43m'\u001b[39;49m\u001b[43m:\u001b[49m\u001b[43m \u001b[49m\u001b[43mvalue\u001b[49m\u001b[43m}\u001b[49m\u001b[43m)\u001b[49m[\u001b[38;5;124m'\u001b[39m\u001b[38;5;124mvalue\u001b[39m\u001b[38;5;124m'\u001b[39m] \u001b[38;5;129;01mor\u001b[39;00m []\n",
      "File \u001b[1;32m~\\anaconda3\\lib\\site-packages\\selenium\\webdriver\\remote\\webdriver.py:435\u001b[0m, in \u001b[0;36mWebDriver.execute\u001b[1;34m(self, driver_command, params)\u001b[0m\n\u001b[0;32m    433\u001b[0m response \u001b[38;5;241m=\u001b[39m \u001b[38;5;28mself\u001b[39m\u001b[38;5;241m.\u001b[39mcommand_executor\u001b[38;5;241m.\u001b[39mexecute(driver_command, params)\n\u001b[0;32m    434\u001b[0m \u001b[38;5;28;01mif\u001b[39;00m response:\n\u001b[1;32m--> 435\u001b[0m     \u001b[38;5;28;43mself\u001b[39;49m\u001b[38;5;241;43m.\u001b[39;49m\u001b[43merror_handler\u001b[49m\u001b[38;5;241;43m.\u001b[39;49m\u001b[43mcheck_response\u001b[49m\u001b[43m(\u001b[49m\u001b[43mresponse\u001b[49m\u001b[43m)\u001b[49m\n\u001b[0;32m    436\u001b[0m     response[\u001b[38;5;124m'\u001b[39m\u001b[38;5;124mvalue\u001b[39m\u001b[38;5;124m'\u001b[39m] \u001b[38;5;241m=\u001b[39m \u001b[38;5;28mself\u001b[39m\u001b[38;5;241m.\u001b[39m_unwrap_value(\n\u001b[0;32m    437\u001b[0m         response\u001b[38;5;241m.\u001b[39mget(\u001b[38;5;124m'\u001b[39m\u001b[38;5;124mvalue\u001b[39m\u001b[38;5;124m'\u001b[39m, \u001b[38;5;28;01mNone\u001b[39;00m))\n\u001b[0;32m    438\u001b[0m     \u001b[38;5;28;01mreturn\u001b[39;00m response\n",
      "File \u001b[1;32m~\\anaconda3\\lib\\site-packages\\selenium\\webdriver\\remote\\errorhandler.py:247\u001b[0m, in \u001b[0;36mErrorHandler.check_response\u001b[1;34m(self, response)\u001b[0m\n\u001b[0;32m    245\u001b[0m         alert_text \u001b[38;5;241m=\u001b[39m value[\u001b[38;5;124m'\u001b[39m\u001b[38;5;124malert\u001b[39m\u001b[38;5;124m'\u001b[39m]\u001b[38;5;241m.\u001b[39mget(\u001b[38;5;124m'\u001b[39m\u001b[38;5;124mtext\u001b[39m\u001b[38;5;124m'\u001b[39m)\n\u001b[0;32m    246\u001b[0m     \u001b[38;5;28;01mraise\u001b[39;00m exception_class(message, screen, stacktrace, alert_text)  \u001b[38;5;66;03m# type: ignore[call-arg]  # mypy is not smart enough here\u001b[39;00m\n\u001b[1;32m--> 247\u001b[0m \u001b[38;5;28;01mraise\u001b[39;00m exception_class(message, screen, stacktrace)\n",
      "\u001b[1;31mWebDriverException\u001b[0m: Message: unknown error: unexpected command response\n  (Session info: chrome=104.0.5112.81)\nStacktrace:\nBacktrace:\n\tOrdinal0 [0x004B6463+2188387]\n\tOrdinal0 [0x0044E461+1762401]\n\tOrdinal0 [0x00363D78+802168]\n\tOrdinal0 [0x00357210+750096]\n\tOrdinal0 [0x0035675A+747354]\n\tOrdinal0 [0x00355D3F+744767]\n\tOrdinal0 [0x0035557C+742780]\n\tOrdinal0 [0x00355419+742425]\n\tOrdinal0 [0x00365110+807184]\n\tOrdinal0 [0x003BC4EB+1164523]\n\tOrdinal0 [0x003AC5F6+1099254]\n\tOrdinal0 [0x00386BE0+945120]\n\tOrdinal0 [0x00387AD6+948950]\n\tGetHandleVerifier [0x007571F2+2712546]\n\tGetHandleVerifier [0x0074886D+2652765]\n\tGetHandleVerifier [0x0054002A+520730]\n\tGetHandleVerifier [0x0053EE06+516086]\n\tOrdinal0 [0x0045468B+1787531]\n\tOrdinal0 [0x00458E88+1805960]\n\tOrdinal0 [0x00458F75+1806197]\n\tOrdinal0 [0x00461DF1+1842673]\n\tBaseThreadInitThunk [0x771BFA29+25]\n\tRtlGetAppContainerNamedObjectPath [0x774C7A9E+286]\n\tRtlGetAppContainerNamedObjectPath [0x774C7A6E+238]\n"
     ]
    }
   ],
   "source": [
    "GSDP_18=[]\n",
    "try:\n",
    "    info=driver.find_elements(By.XPATH,\"//div[@id='table_id_wrapper']/table/tbody/tr/td[3]\")\n",
    "    for i in info:\n",
    "        GSDP_18.append(i.text)\n",
    "except NoSuchElementException:\n",
    "    GSDP_18.append('No details available')\n",
    "print(len(GSDP_18))"
   ]
  },
  {
   "cell_type": "markdown",
   "id": "fd450b18",
   "metadata": {},
   "source": [
    "# quest5"
   ]
  },
  {
   "cell_type": "code",
   "execution_count": 81,
   "id": "f1f5330f",
   "metadata": {},
   "outputs": [
    {
     "name": "stderr",
     "output_type": "stream",
     "text": [
      "C:\\Users\\Admin\\AppData\\Local\\Temp\\ipykernel_10972\\2344513889.py:1: DeprecationWarning: executable_path has been deprecated, please pass in a Service object\n",
      "  driver = webdriver.Chrome(r'C:\\Users\\Admin\\Downloads\\chromedriver_win32\\chromedriver.exe')\n"
     ]
    }
   ],
   "source": [
    "driver = webdriver.Chrome(r'C:\\Users\\Admin\\Downloads\\chromedriver_win32\\chromedriver.exe')\n",
    "time.sleep(2)"
   ]
  },
  {
   "cell_type": "code",
   "execution_count": 82,
   "id": "1b062103",
   "metadata": {},
   "outputs": [],
   "source": [
    "driver.get(\"https://github.com/\")"
   ]
  },
  {
   "cell_type": "code",
   "execution_count": 92,
   "id": "020f6a38",
   "metadata": {},
   "outputs": [],
   "source": [
    "explore=driver.find_element(By.XPATH,\"/html/body/div[4]/main/div[1]/div[1]/div[1]/div/div/div[1]/div/div/div/div/div[3]\")\n",
    "explore.click()"
   ]
  },
  {
   "cell_type": "code",
   "execution_count": 94,
   "id": "d03e1856",
   "metadata": {},
   "outputs": [
    {
     "name": "stdout",
     "output_type": "stream",
     "text": [
      "0\n"
     ]
    }
   ],
   "source": [
    "repo_title=[]\n",
    "try:\n",
    "    repos=driver.find_elements(By.XPATH,\"//h1[@class='h3 lh-condensed']\")\n",
    "    for i in repos:\n",
    "        repo_title.append(i.text)\n",
    "except NoSuchElementException:\n",
    "    repo_title.append('No details available')\n",
    "print(len(repo_title))"
   ]
  },
  {
   "cell_type": "code",
   "execution_count": 95,
   "id": "1c882a3c",
   "metadata": {},
   "outputs": [
    {
     "name": "stdout",
     "output_type": "stream",
     "text": [
      "0\n"
     ]
    }
   ],
   "source": [
    "repo_desc=[]\n",
    "try:\n",
    "    descriptions=driver.find_elements(By.XPATH,\"//p[@class='col-9 text-gray my-1 pr-4']\")\n",
    "    for i in descriptions:\n",
    "        repo_desc.append(i.text)\n",
    "except NoSuchElementException:\n",
    "    repo_desc.append('No details available')\n",
    "print(len(repo_desc))"
   ]
  },
  {
   "cell_type": "code",
   "execution_count": 97,
   "id": "2b6c8416",
   "metadata": {},
   "outputs": [],
   "source": [
    "repo_urls=[]\n",
    "repos=driver.find_elements(By.XPATH,\"//h1[@class='h3 lh-condensed']/a\")\n",
    "for i in repos:\n",
    "    repo_urls.append(i.get_attribute('href'))"
   ]
  },
  {
   "cell_type": "code",
   "execution_count": 98,
   "id": "377e48aa",
   "metadata": {},
   "outputs": [],
   "source": [
    "Contributors_count=[]\n",
    "Language_used=[]\n",
    "for i in repo_urls:\n",
    "    driver.get(i)\n",
    "    l=[]\n",
    "    try:\n",
    "        count=driver.find_element_by_xpath(\"//h2[@class='h4 mb-3']/a[contains(text(),'Contributors')]/span\")\n",
    "        Contributors_count.append(count.text)\n",
    "    except NoSuchElementException:\n",
    "        Contributors_count.append('No details available')\n",
    "   \n",
    "    languages=driver.find_elements_by_xpath(\"//span[@class='text-gray-dark text-bold mr-1']\")\n",
    "    if languages:    \n",
    "        for i in languages:\n",
    "            l.append(i.text)\n",
    "    else:\n",
    "        l.append('No languages used')\n",
    "    Language_used.append(l)   \n",
    "    "
   ]
  },
  {
   "cell_type": "code",
   "execution_count": 99,
   "id": "439253b4",
   "metadata": {},
   "outputs": [
    {
     "name": "stdout",
     "output_type": "stream",
     "text": [
      "Empty DataFrame\n",
      "Columns: [Title, Description, Contributors_count, Language_used]\n",
      "Index: []\n"
     ]
    }
   ],
   "source": [
    "df=pd.DataFrame({'Title':repo_title,\n",
    "                'Description':repo_desc,\n",
    "                'Contributors_count':Contributors_count,\n",
    "                'Language_used':Language_used})\n",
    "print(df)"
   ]
  },
  {
   "cell_type": "markdown",
   "id": "3091ef59",
   "metadata": {},
   "source": [
    "# ques6"
   ]
  },
  {
   "cell_type": "code",
   "execution_count": 103,
   "id": "b267600d",
   "metadata": {},
   "outputs": [
    {
     "name": "stderr",
     "output_type": "stream",
     "text": [
      "C:\\Users\\Admin\\AppData\\Local\\Temp\\ipykernel_10972\\2344513889.py:1: DeprecationWarning: executable_path has been deprecated, please pass in a Service object\n",
      "  driver = webdriver.Chrome(r'C:\\Users\\Admin\\Downloads\\chromedriver_win32\\chromedriver.exe')\n"
     ]
    }
   ],
   "source": [
    "driver = webdriver.Chrome(r'C:\\Users\\Admin\\Downloads\\chromedriver_win32\\chromedriver.exe')\n",
    "time.sleep(2)"
   ]
  },
  {
   "cell_type": "code",
   "execution_count": 106,
   "id": "df3322a0",
   "metadata": {},
   "outputs": [],
   "source": [
    "url=(\"https:/www.billboard.com/\")"
   ]
  },
  {
   "cell_type": "code",
   "execution_count": 107,
   "id": "f46191ac",
   "metadata": {},
   "outputs": [
    {
     "ename": "WebDriverException",
     "evalue": "Message: unknown error: unexpected command response\n  (Session info: chrome=104.0.5112.81)\nStacktrace:\nBacktrace:\n\tOrdinal0 [0x004B6463+2188387]\n\tOrdinal0 [0x0044E461+1762401]\n\tOrdinal0 [0x00363D78+802168]\n\tOrdinal0 [0x00357210+750096]\n\tOrdinal0 [0x0035675A+747354]\n\tOrdinal0 [0x00355D3F+744767]\n\tOrdinal0 [0x0035557C+742780]\n\tOrdinal0 [0x00369BF3+826355]\n\tOrdinal0 [0x003BCF6D+1167213]\n\tOrdinal0 [0x003AC5F6+1099254]\n\tOrdinal0 [0x00386BE0+945120]\n\tOrdinal0 [0x00387AD6+948950]\n\tGetHandleVerifier [0x007571F2+2712546]\n\tGetHandleVerifier [0x0074886D+2652765]\n\tGetHandleVerifier [0x0054002A+520730]\n\tGetHandleVerifier [0x0053EE06+516086]\n\tOrdinal0 [0x0045468B+1787531]\n\tOrdinal0 [0x00458E88+1805960]\n\tOrdinal0 [0x00458F75+1806197]\n\tOrdinal0 [0x00461DF1+1842673]\n\tBaseThreadInitThunk [0x771BFA29+25]\n\tRtlGetAppContainerNamedObjectPath [0x774C7A9E+286]\n\tRtlGetAppContainerNamedObjectPath [0x774C7A6E+238]\n",
     "output_type": "error",
     "traceback": [
      "\u001b[1;31m---------------------------------------------------------------------------\u001b[0m",
      "\u001b[1;31mWebDriverException\u001b[0m                        Traceback (most recent call last)",
      "Input \u001b[1;32mIn [107]\u001b[0m, in \u001b[0;36m<cell line: 1>\u001b[1;34m()\u001b[0m\n\u001b[1;32m----> 1\u001b[0m \u001b[43mdriver\u001b[49m\u001b[38;5;241;43m.\u001b[39;49m\u001b[43mget\u001b[49m\u001b[43m(\u001b[49m\u001b[43murl\u001b[49m\u001b[43m)\u001b[49m\n",
      "File \u001b[1;32m~\\anaconda3\\lib\\site-packages\\selenium\\webdriver\\remote\\webdriver.py:447\u001b[0m, in \u001b[0;36mWebDriver.get\u001b[1;34m(self, url)\u001b[0m\n\u001b[0;32m    443\u001b[0m \u001b[38;5;28;01mdef\u001b[39;00m \u001b[38;5;21mget\u001b[39m(\u001b[38;5;28mself\u001b[39m, url: \u001b[38;5;28mstr\u001b[39m) \u001b[38;5;241m-\u001b[39m\u001b[38;5;241m>\u001b[39m \u001b[38;5;28;01mNone\u001b[39;00m:\n\u001b[0;32m    444\u001b[0m     \u001b[38;5;124;03m\"\"\"\u001b[39;00m\n\u001b[0;32m    445\u001b[0m \u001b[38;5;124;03m    Loads a web page in the current browser session.\u001b[39;00m\n\u001b[0;32m    446\u001b[0m \u001b[38;5;124;03m    \"\"\"\u001b[39;00m\n\u001b[1;32m--> 447\u001b[0m     \u001b[38;5;28;43mself\u001b[39;49m\u001b[38;5;241;43m.\u001b[39;49m\u001b[43mexecute\u001b[49m\u001b[43m(\u001b[49m\u001b[43mCommand\u001b[49m\u001b[38;5;241;43m.\u001b[39;49m\u001b[43mGET\u001b[49m\u001b[43m,\u001b[49m\u001b[43m \u001b[49m\u001b[43m{\u001b[49m\u001b[38;5;124;43m'\u001b[39;49m\u001b[38;5;124;43murl\u001b[39;49m\u001b[38;5;124;43m'\u001b[39;49m\u001b[43m:\u001b[49m\u001b[43m \u001b[49m\u001b[43murl\u001b[49m\u001b[43m}\u001b[49m\u001b[43m)\u001b[49m\n",
      "File \u001b[1;32m~\\anaconda3\\lib\\site-packages\\selenium\\webdriver\\remote\\webdriver.py:435\u001b[0m, in \u001b[0;36mWebDriver.execute\u001b[1;34m(self, driver_command, params)\u001b[0m\n\u001b[0;32m    433\u001b[0m response \u001b[38;5;241m=\u001b[39m \u001b[38;5;28mself\u001b[39m\u001b[38;5;241m.\u001b[39mcommand_executor\u001b[38;5;241m.\u001b[39mexecute(driver_command, params)\n\u001b[0;32m    434\u001b[0m \u001b[38;5;28;01mif\u001b[39;00m response:\n\u001b[1;32m--> 435\u001b[0m     \u001b[38;5;28;43mself\u001b[39;49m\u001b[38;5;241;43m.\u001b[39;49m\u001b[43merror_handler\u001b[49m\u001b[38;5;241;43m.\u001b[39;49m\u001b[43mcheck_response\u001b[49m\u001b[43m(\u001b[49m\u001b[43mresponse\u001b[49m\u001b[43m)\u001b[49m\n\u001b[0;32m    436\u001b[0m     response[\u001b[38;5;124m'\u001b[39m\u001b[38;5;124mvalue\u001b[39m\u001b[38;5;124m'\u001b[39m] \u001b[38;5;241m=\u001b[39m \u001b[38;5;28mself\u001b[39m\u001b[38;5;241m.\u001b[39m_unwrap_value(\n\u001b[0;32m    437\u001b[0m         response\u001b[38;5;241m.\u001b[39mget(\u001b[38;5;124m'\u001b[39m\u001b[38;5;124mvalue\u001b[39m\u001b[38;5;124m'\u001b[39m, \u001b[38;5;28;01mNone\u001b[39;00m))\n\u001b[0;32m    438\u001b[0m     \u001b[38;5;28;01mreturn\u001b[39;00m response\n",
      "File \u001b[1;32m~\\anaconda3\\lib\\site-packages\\selenium\\webdriver\\remote\\errorhandler.py:247\u001b[0m, in \u001b[0;36mErrorHandler.check_response\u001b[1;34m(self, response)\u001b[0m\n\u001b[0;32m    245\u001b[0m         alert_text \u001b[38;5;241m=\u001b[39m value[\u001b[38;5;124m'\u001b[39m\u001b[38;5;124malert\u001b[39m\u001b[38;5;124m'\u001b[39m]\u001b[38;5;241m.\u001b[39mget(\u001b[38;5;124m'\u001b[39m\u001b[38;5;124mtext\u001b[39m\u001b[38;5;124m'\u001b[39m)\n\u001b[0;32m    246\u001b[0m     \u001b[38;5;28;01mraise\u001b[39;00m exception_class(message, screen, stacktrace, alert_text)  \u001b[38;5;66;03m# type: ignore[call-arg]  # mypy is not smart enough here\u001b[39;00m\n\u001b[1;32m--> 247\u001b[0m \u001b[38;5;28;01mraise\u001b[39;00m exception_class(message, screen, stacktrace)\n",
      "\u001b[1;31mWebDriverException\u001b[0m: Message: unknown error: unexpected command response\n  (Session info: chrome=104.0.5112.81)\nStacktrace:\nBacktrace:\n\tOrdinal0 [0x004B6463+2188387]\n\tOrdinal0 [0x0044E461+1762401]\n\tOrdinal0 [0x00363D78+802168]\n\tOrdinal0 [0x00357210+750096]\n\tOrdinal0 [0x0035675A+747354]\n\tOrdinal0 [0x00355D3F+744767]\n\tOrdinal0 [0x0035557C+742780]\n\tOrdinal0 [0x00369BF3+826355]\n\tOrdinal0 [0x003BCF6D+1167213]\n\tOrdinal0 [0x003AC5F6+1099254]\n\tOrdinal0 [0x00386BE0+945120]\n\tOrdinal0 [0x00387AD6+948950]\n\tGetHandleVerifier [0x007571F2+2712546]\n\tGetHandleVerifier [0x0074886D+2652765]\n\tGetHandleVerifier [0x0054002A+520730]\n\tGetHandleVerifier [0x0053EE06+516086]\n\tOrdinal0 [0x0045468B+1787531]\n\tOrdinal0 [0x00458E88+1805960]\n\tOrdinal0 [0x00458F75+1806197]\n\tOrdinal0 [0x00461DF1+1842673]\n\tBaseThreadInitThunk [0x771BFA29+25]\n\tRtlGetAppContainerNamedObjectPath [0x774C7A9E+286]\n\tRtlGetAppContainerNamedObjectPath [0x774C7A6E+238]\n"
     ]
    }
   ],
   "source": [
    "driver.get(url)"
   ]
  }
 ],
 "metadata": {
  "kernelspec": {
   "display_name": "Python 3 (ipykernel)",
   "language": "python",
   "name": "python3"
  },
  "language_info": {
   "codemirror_mode": {
    "name": "ipython",
    "version": 3
   },
   "file_extension": ".py",
   "mimetype": "text/x-python",
   "name": "python",
   "nbconvert_exporter": "python",
   "pygments_lexer": "ipython3",
   "version": "3.9.12"
  }
 },
 "nbformat": 4,
 "nbformat_minor": 5
}
