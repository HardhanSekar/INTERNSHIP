{
 "cells": [
  {
   "cell_type": "markdown",
   "id": "4cf27d93",
   "metadata": {},
   "source": [
    "# Web Scrapping Selenium"
   ]
  },
  {
   "cell_type": "code",
   "execution_count": 1,
   "id": "bcc82367",
   "metadata": {},
   "outputs": [
    {
     "name": "stdout",
     "output_type": "stream",
     "text": [
      "Requirement already satisfied: selenium in c:\\users\\admin\\anaconda3\\lib\\site-packages (4.3.0)\n",
      "Requirement already satisfied: trio~=0.17 in c:\\users\\admin\\anaconda3\\lib\\site-packages (from selenium) (0.21.0)\n",
      "Requirement already satisfied: urllib3[secure,socks]~=1.26 in c:\\users\\admin\\anaconda3\\lib\\site-packages (from selenium) (1.26.9)\n",
      "Requirement already satisfied: trio-websocket~=0.9 in c:\\users\\admin\\anaconda3\\lib\\site-packages (from selenium) (0.9.2)\n",
      "Requirement already satisfied: idna in c:\\users\\admin\\anaconda3\\lib\\site-packages (from trio~=0.17->selenium) (3.3)\n",
      "Requirement already satisfied: outcome in c:\\users\\admin\\anaconda3\\lib\\site-packages (from trio~=0.17->selenium) (1.2.0)\n",
      "Requirement already satisfied: cffi>=1.14 in c:\\users\\admin\\anaconda3\\lib\\site-packages (from trio~=0.17->selenium) (1.15.0)\n",
      "Requirement already satisfied: async-generator>=1.9 in c:\\users\\admin\\anaconda3\\lib\\site-packages (from trio~=0.17->selenium) (1.10)\n",
      "Requirement already satisfied: sniffio in c:\\users\\admin\\anaconda3\\lib\\site-packages (from trio~=0.17->selenium) (1.2.0)\n",
      "Requirement already satisfied: attrs>=19.2.0 in c:\\users\\admin\\anaconda3\\lib\\site-packages (from trio~=0.17->selenium) (21.4.0)\n",
      "Requirement already satisfied: sortedcontainers in c:\\users\\admin\\anaconda3\\lib\\site-packages (from trio~=0.17->selenium) (2.4.0)\n",
      "Requirement already satisfied: pycparser in c:\\users\\admin\\anaconda3\\lib\\site-packages (from cffi>=1.14->trio~=0.17->selenium) (2.21)\n",
      "Requirement already satisfied: wsproto>=0.14 in c:\\users\\admin\\anaconda3\\lib\\site-packages (from trio-websocket~=0.9->selenium) (1.1.0)\n",
      "Requirement already satisfied: certifi in c:\\users\\admin\\anaconda3\\lib\\site-packages (from urllib3[secure,socks]~=1.26->selenium) (2021.10.8)\n",
      "Requirement already satisfied: pyOpenSSL>=0.14 in c:\\users\\admin\\anaconda3\\lib\\site-packages (from urllib3[secure,socks]~=1.26->selenium) (21.0.0)\n",
      "Requirement already satisfied: cryptography>=1.3.4 in c:\\users\\admin\\anaconda3\\lib\\site-packages (from urllib3[secure,socks]~=1.26->selenium) (3.4.8)\n",
      "Requirement already satisfied: PySocks!=1.5.7,<2.0,>=1.5.6 in c:\\users\\admin\\anaconda3\\lib\\site-packages (from urllib3[secure,socks]~=1.26->selenium) (1.7.1)\n",
      "Requirement already satisfied: six>=1.5.2 in c:\\users\\admin\\anaconda3\\lib\\site-packages (from pyOpenSSL>=0.14->urllib3[secure,socks]~=1.26->selenium) (1.16.0)\n",
      "Requirement already satisfied: h11<1,>=0.9.0 in c:\\users\\admin\\anaconda3\\lib\\site-packages (from wsproto>=0.14->trio-websocket~=0.9->selenium) (0.13.0)\n"
     ]
    }
   ],
   "source": [
    "!pip install selenium"
   ]
  },
  {
   "cell_type": "markdown",
   "id": "9e673fa6",
   "metadata": {},
   "source": [
    "# Quest1"
   ]
  },
  {
   "cell_type": "code",
   "execution_count": 2,
   "id": "8f22d3ca",
   "metadata": {},
   "outputs": [],
   "source": [
    "#Importing libraries\n",
    "import selenium\n",
    "from selenium import webdriver\n",
    "import pandas as pd\n",
    "import warnings\n",
    "warnings.filterwarnings(\"ignore\")\n"
   ]
  },
  {
   "cell_type": "code",
   "execution_count": 47,
   "id": "5673d2ea",
   "metadata": {},
   "outputs": [],
   "source": [
    "#Connecting WebDriver\n",
    "driver = webdriver.Chrome(r'C:\\Users\\Admin\\Downloads\\chromedriver_win32\\chromedriver.exe')"
   ]
  },
  {
   "cell_type": "code",
   "execution_count": 48,
   "id": "3bc0f702",
   "metadata": {},
   "outputs": [],
   "source": [
    "url='https://www.naukri.com/'\n",
    "driver.get(url)"
   ]
  },
  {
   "cell_type": "code",
   "execution_count": 50,
   "id": "766dc25c",
   "metadata": {},
   "outputs": [],
   "source": [
    "from selenium.webdriver.common.by import By"
   ]
  },
  {
   "cell_type": "code",
   "execution_count": 51,
   "id": "9a55a357",
   "metadata": {},
   "outputs": [
    {
     "data": {
      "text/plain": [
       "<selenium.webdriver.remote.webelement.WebElement (session=\"5a2f69f1cc1f6bc684430e152ec8f623\", element=\"fe219e8b-7843-4f2a-b415-025467b34433\")>"
      ]
     },
     "execution_count": 51,
     "metadata": {},
     "output_type": "execute_result"
    }
   ],
   "source": [
    "search_job = driver.find_element(By.CLASS_NAME,\"suggestor-input \")\n",
    "search_job"
   ]
  },
  {
   "cell_type": "code",
   "execution_count": 52,
   "id": "46cb2f9d",
   "metadata": {},
   "outputs": [],
   "source": [
    "search_job.send_keys(\"Data Analyst\")"
   ]
  },
  {
   "cell_type": "code",
   "execution_count": 53,
   "id": "f34ede9d",
   "metadata": {},
   "outputs": [
    {
     "data": {
      "text/plain": [
       "<selenium.webdriver.remote.webelement.WebElement (session=\"5a2f69f1cc1f6bc684430e152ec8f623\", element=\"0b37883c-59f9-4a51-8e4b-b3b4d0ca358f\")>"
      ]
     },
     "execution_count": 53,
     "metadata": {},
     "output_type": "execute_result"
    }
   ],
   "source": [
    "search_loc = driver.find_element(By.XPATH,\"/html/body/div[1]/div[2]/div[3]/div/div/div[5]/div/div/div/input\")\n",
    "search_loc"
   ]
  },
  {
   "cell_type": "code",
   "execution_count": 54,
   "id": "e6d51218",
   "metadata": {},
   "outputs": [],
   "source": [
    "search_loc.send_keys(\"Bangalore\")"
   ]
  },
  {
   "cell_type": "code",
   "execution_count": 55,
   "id": "b98b2fd3",
   "metadata": {},
   "outputs": [
    {
     "data": {
      "text/plain": [
       "<selenium.webdriver.remote.webelement.WebElement (session=\"5a2f69f1cc1f6bc684430e152ec8f623\", element=\"327f8e76-ee26-4feb-87f9-4ae86d781c21\")>"
      ]
     },
     "execution_count": 55,
     "metadata": {},
     "output_type": "execute_result"
    }
   ],
   "source": [
    "#Finding Search button  using absolute Xpath....\n",
    "search_btn = driver.find_element(By.XPATH,\"/html/body/div[1]/div[2]/div[3]/div/div/div[6]\")\n",
    "search_btn"
   ]
  },
  {
   "cell_type": "code",
   "execution_count": 56,
   "id": "8052bc29",
   "metadata": {},
   "outputs": [],
   "source": [
    "#Using click function to select the Search button..\n",
    "search_btn.click()"
   ]
  },
  {
   "cell_type": "code",
   "execution_count": 57,
   "id": "a0d62428",
   "metadata": {},
   "outputs": [
    {
     "data": {
      "text/plain": [
       "20"
      ]
     },
     "execution_count": 57,
     "metadata": {},
     "output_type": "execute_result"
    }
   ],
   "source": [
    "#To find the length of web elemrnts..\n",
    "job_title = driver.find_elements(By.XPATH,'//a[@class=\"title fw500 ellipsis\"]')\n",
    "len(job_title)"
   ]
  },
  {
   "cell_type": "code",
   "execution_count": 58,
   "id": "522dde1c",
   "metadata": {},
   "outputs": [
    {
     "data": {
      "text/plain": [
       "20"
      ]
     },
     "execution_count": 58,
     "metadata": {},
     "output_type": "execute_result"
    }
   ],
   "source": [
    "#Using for loop to extract the web elements(text) from the tags(variable)..\n",
    "designation = []\n",
    "for i in job_title:\n",
    "    designation.append(i.text)\n",
    "len(designation)    "
   ]
  },
  {
   "cell_type": "code",
   "execution_count": 59,
   "id": "22f118bb",
   "metadata": {},
   "outputs": [
    {
     "data": {
      "text/plain": [
       "['Sr.Business Data Analyst',\n",
       " 'Sr Data Analyst',\n",
       " 'Senior Data Analysis Analyst',\n",
       " 'Job opportunity For Data Analyst at Trellance - India',\n",
       " 'Data Analyst',\n",
       " 'Senior Data Analyst',\n",
       " 'Data Analyst',\n",
       " 'Associate Data Analyst',\n",
       " 'Associate Data Analyst',\n",
       " 'Data Analyst/Senior Data Analyst']"
      ]
     },
     "execution_count": 59,
     "metadata": {},
     "output_type": "execute_result"
    }
   ],
   "source": [
    "#Company designation for first 20 in web page..\n",
    "designation[0:10]"
   ]
  },
  {
   "cell_type": "code",
   "execution_count": 60,
   "id": "79de6573",
   "metadata": {},
   "outputs": [
    {
     "data": {
      "text/plain": [
       "20"
      ]
     },
     "execution_count": 60,
     "metadata": {},
     "output_type": "execute_result"
    }
   ],
   "source": [
    "comp_name = driver.find_elements(By.XPATH,'//a[@class=\"subTitle ellipsis fleft\"]')\n",
    "len(comp_name)"
   ]
  },
  {
   "cell_type": "code",
   "execution_count": 61,
   "id": "e2abb5b3",
   "metadata": {},
   "outputs": [
    {
     "data": {
      "text/plain": [
       "20"
      ]
     },
     "execution_count": 61,
     "metadata": {},
     "output_type": "execute_result"
    }
   ],
   "source": [
    "company = []\n",
    "for i in comp_name:\n",
    "    company.append(i.text)\n",
    "len(company)"
   ]
  },
  {
   "cell_type": "code",
   "execution_count": 62,
   "id": "3311271a",
   "metadata": {},
   "outputs": [
    {
     "data": {
      "text/plain": [
       "['Collabera',\n",
       " 'Thomson Reuters',\n",
       " 'Capco',\n",
       " 'CURise Analytics Pvt. Ltd.',\n",
       " 'Thomson Reuters',\n",
       " 'KrazyBee',\n",
       " 'Wipro',\n",
       " 'Optum',\n",
       " 'Optum',\n",
       " 'Meesho']"
      ]
     },
     "execution_count": 62,
     "metadata": {},
     "output_type": "execute_result"
    }
   ],
   "source": [
    "#Name of the companies \n",
    "company[0:10]"
   ]
  },
  {
   "cell_type": "code",
   "execution_count": 63,
   "id": "09e3bf28",
   "metadata": {},
   "outputs": [
    {
     "data": {
      "text/plain": [
       "20"
      ]
     },
     "execution_count": 63,
     "metadata": {},
     "output_type": "execute_result"
    }
   ],
   "source": [
    "comp_exp = driver.find_elements(By.XPATH,'//li[@class=\"fleft grey-text br2 placeHolderLi experience\"]')\n",
    "len(comp_exp)"
   ]
  },
  {
   "cell_type": "code",
   "execution_count": 64,
   "id": "cae0b04b",
   "metadata": {},
   "outputs": [
    {
     "data": {
      "text/plain": [
       "20"
      ]
     },
     "execution_count": 64,
     "metadata": {},
     "output_type": "execute_result"
    }
   ],
   "source": [
    "experience = []\n",
    "for i in comp_exp:\n",
    "    experience.append(i.text)\n",
    "len(experience)"
   ]
  },
  {
   "cell_type": "code",
   "execution_count": 65,
   "id": "5a79b0e8",
   "metadata": {},
   "outputs": [
    {
     "data": {
      "text/plain": [
       "['6-11 Yrs',\n",
       " '5-8 Yrs',\n",
       " '7-12 Yrs',\n",
       " '0-2 Yrs',\n",
       " '2-3 Yrs',\n",
       " '3-6 Yrs',\n",
       " '4-9 Yrs',\n",
       " '2-7 Yrs',\n",
       " '1-4 Yrs',\n",
       " '3-6 Yrs']"
      ]
     },
     "execution_count": 65,
     "metadata": {},
     "output_type": "execute_result"
    }
   ],
   "source": [
    "#Experience for the companies...\n",
    "experience[0:10]"
   ]
  },
  {
   "cell_type": "code",
   "execution_count": 66,
   "id": "fe838343",
   "metadata": {},
   "outputs": [
    {
     "data": {
      "text/plain": [
       "20"
      ]
     },
     "execution_count": 66,
     "metadata": {},
     "output_type": "execute_result"
    }
   ],
   "source": [
    "comp_loc = driver.find_elements(By.XPATH,'//li[@class=\"fleft grey-text br2 placeHolderLi location\"]')\n",
    "len(comp_loc)"
   ]
  },
  {
   "cell_type": "code",
   "execution_count": 67,
   "id": "2a2710ce",
   "metadata": {},
   "outputs": [
    {
     "data": {
      "text/plain": [
       "20"
      ]
     },
     "execution_count": 67,
     "metadata": {},
     "output_type": "execute_result"
    }
   ],
   "source": [
    "location = []\n",
    "for i in comp_loc:\n",
    "    location.append(i.text)\n",
    "len(location)"
   ]
  },
  {
   "cell_type": "code",
   "execution_count": 68,
   "id": "de0e90a4",
   "metadata": {},
   "outputs": [
    {
     "data": {
      "text/plain": [
       "['Bangalore/Bengaluru, karnataka\\n(WFH during Covid)',\n",
       " 'Bangalore/Bengaluru',\n",
       " 'Bangalore/Bengaluru, Pune, Chennai',\n",
       " 'Bangalore/Bengaluru, Ahmedabad',\n",
       " 'Bangalore/Bengaluru',\n",
       " 'Bangalore/Bengaluru(Old Madras Road)',\n",
       " 'Bangalore/Bengaluru, Noida, Hyderabad/Secunderabad, Gurgaon/Gurugram, Chennai, Mumbai (All Areas), Pune',\n",
       " 'Bangalore/Bengaluru',\n",
       " 'Bangalore/Bengaluru',\n",
       " 'Bangalore/Bengaluru']"
      ]
     },
     "execution_count": 68,
     "metadata": {},
     "output_type": "execute_result"
    }
   ],
   "source": [
    "#Location of the first 10 companies in webpage..\n",
    "location[0:10]"
   ]
  },
  {
   "cell_type": "code",
   "execution_count": 69,
   "id": "6868bb08",
   "metadata": {},
   "outputs": [
    {
     "data": {
      "text/plain": [
       "20"
      ]
     },
     "execution_count": 69,
     "metadata": {},
     "output_type": "execute_result"
    }
   ],
   "source": [
    "comp_sal = driver.find_elements(By.XPATH,'//li[@class=\"fleft grey-text br2 placeHolderLi salary\"]')\n",
    "len(comp_sal)"
   ]
  },
  {
   "cell_type": "code",
   "execution_count": 70,
   "id": "71ce4485",
   "metadata": {},
   "outputs": [
    {
     "data": {
      "text/plain": [
       "20"
      ]
     },
     "execution_count": 70,
     "metadata": {},
     "output_type": "execute_result"
    }
   ],
   "source": [
    "salary = []\n",
    "for i in comp_sal:\n",
    "    salary.append(i.text)\n",
    "len(salary)"
   ]
  },
  {
   "cell_type": "code",
   "execution_count": 71,
   "id": "2a0f2975",
   "metadata": {},
   "outputs": [
    {
     "data": {
      "text/plain": [
       "['Not disclosed',\n",
       " 'Not disclosed',\n",
       " '10,00,000 - 20,00,000 PA.',\n",
       " 'Not disclosed',\n",
       " 'Not disclosed',\n",
       " 'Not disclosed',\n",
       " 'Not disclosed',\n",
       " 'Not disclosed',\n",
       " 'Not disclosed',\n",
       " 'Not disclosed']"
      ]
     },
     "execution_count": 71,
     "metadata": {},
     "output_type": "execute_result"
    }
   ],
   "source": [
    "#Salaries for the first 10 companies in webpage...\n",
    "salary[0:10]"
   ]
  },
  {
   "cell_type": "code",
   "execution_count": 72,
   "id": "8fb9c1e3",
   "metadata": {},
   "outputs": [
    {
     "data": {
      "text/plain": [
       "20"
      ]
     },
     "execution_count": 72,
     "metadata": {},
     "output_type": "execute_result"
    }
   ],
   "source": [
    "skills_required = driver.find_elements(By.XPATH,'//div[@class=\"job-description fs12 grey-text\"]')\n",
    "len(skills_required)"
   ]
  },
  {
   "cell_type": "code",
   "execution_count": 73,
   "id": "2f6cf5dd",
   "metadata": {},
   "outputs": [
    {
     "data": {
      "text/plain": [
       "20"
      ]
     },
     "execution_count": 73,
     "metadata": {},
     "output_type": "execute_result"
    }
   ],
   "source": [
    "requirement = []\n",
    "for i in skills_required:\n",
    "    requirement.append(i.text)\n",
    "len(requirement)"
   ]
  },
  {
   "cell_type": "code",
   "execution_count": 74,
   "id": "62071bf9",
   "metadata": {},
   "outputs": [
    {
     "data": {
      "text/plain": [
       "['Roles and Responsibilities Desired Candidate Profile Perks and Benefits',\n",
       " 'Bachelor s degree or equivalent required, Computer Science or related technical degree ...',\n",
       " 'About UsJoining Capco means joining an organisation that is committed to an inclusive w...',\n",
       " 'Job Type Full Time Job Title Senior Business Analyst Experience Required 0-2 yrs. Job D...',\n",
       " 'Bachelor s degree or equivalent required, Computer Science or related technical degree ...',\n",
       " 'Experience in data analysis and modeling Preferably in fintech / collections department...',\n",
       " 'Job Type : Permanent(Full Time) 4 - 10 years of overall experience as Data Analyst Mini...',\n",
       " 'B Tech / BE or MCA with excellent communication skills in English, both oral and writte...',\n",
       " 'Experience designing, developing and implementing and maintaining database and programs...',\n",
       " 'Bachelor s degree in Engineering, Tech or StatisticsAt least 2+ years of relevant exper...']"
      ]
     },
     "execution_count": 74,
     "metadata": {},
     "output_type": "execute_result"
    }
   ],
   "source": [
    "#Requirement for the first 10 companies posted in web page..\n",
    "requirement[0:10]"
   ]
  },
  {
   "cell_type": "code",
   "execution_count": 75,
   "id": "8dc0aac3",
   "metadata": {},
   "outputs": [
    {
     "data": {
      "text/plain": [
       "20"
      ]
     },
     "execution_count": 75,
     "metadata": {},
     "output_type": "execute_result"
    }
   ],
   "source": [
    "adv_posted = driver.find_elements(By.XPATH,'//span[@class=\"fleft fw500\"]')\n",
    "len(adv_posted)"
   ]
  },
  {
   "cell_type": "code",
   "execution_count": 76,
   "id": "83c804fb",
   "metadata": {},
   "outputs": [
    {
     "data": {
      "text/plain": [
       "20"
      ]
     },
     "execution_count": 76,
     "metadata": {},
     "output_type": "execute_result"
    }
   ],
   "source": [
    "Posted_days = []\n",
    "for i in adv_posted:\n",
    "    Posted_days.append(i.text)\n",
    "len(Posted_days)"
   ]
  },
  {
   "cell_type": "code",
   "execution_count": 77,
   "id": "e1b2b9e5",
   "metadata": {},
   "outputs": [
    {
     "data": {
      "text/plain": [
       "['4 DAYS AGO',\n",
       " '1 DAY AGO',\n",
       " '1 DAY AGO',\n",
       " '1 DAY AGO',\n",
       " '1 DAY AGO',\n",
       " '1 DAY AGO',\n",
       " 'JUST NOW',\n",
       " '1 DAY AGO',\n",
       " '1 DAY AGO',\n",
       " '12 DAYS AGO']"
      ]
     },
     "execution_count": 77,
     "metadata": {},
     "output_type": "execute_result"
    }
   ],
   "source": [
    "#Adv posted for the first 10 companies posted in webpage..\n",
    "Posted_days[0:10]"
   ]
  },
  {
   "cell_type": "code",
   "execution_count": 83,
   "id": "9cec330f",
   "metadata": {},
   "outputs": [
    {
     "data": {
      "text/html": [
       "<div>\n",
       "<style scoped>\n",
       "    .dataframe tbody tr th:only-of-type {\n",
       "        vertical-align: middle;\n",
       "    }\n",
       "\n",
       "    .dataframe tbody tr th {\n",
       "        vertical-align: top;\n",
       "    }\n",
       "\n",
       "    .dataframe thead th {\n",
       "        text-align: right;\n",
       "    }\n",
       "</style>\n",
       "<table border=\"1\" class=\"dataframe\">\n",
       "  <thead>\n",
       "    <tr style=\"text-align: right;\">\n",
       "      <th></th>\n",
       "      <th>Designation</th>\n",
       "      <th>Company Name</th>\n",
       "      <th>Experience</th>\n",
       "      <th>Location</th>\n",
       "      <th>Salary</th>\n",
       "      <th>Requirement</th>\n",
       "      <th>Days</th>\n",
       "    </tr>\n",
       "  </thead>\n",
       "  <tbody>\n",
       "    <tr>\n",
       "      <th>0</th>\n",
       "      <td>Sr.Business Data Analyst</td>\n",
       "      <td>Collabera</td>\n",
       "      <td>6-11 Yrs</td>\n",
       "      <td>Bangalore/Bengaluru, karnataka\\n(WFH during Co...</td>\n",
       "      <td>Not disclosed</td>\n",
       "      <td>Roles and Responsibilities Desired Candidate P...</td>\n",
       "      <td>2 DAYS AGO</td>\n",
       "    </tr>\n",
       "    <tr>\n",
       "      <th>1</th>\n",
       "      <td>Hiring Data Analyst - Forensics, KPMG India</td>\n",
       "      <td>KPMG India</td>\n",
       "      <td>2-6 Yrs</td>\n",
       "      <td>Bangalore/Bengaluru, Noida, Kolkata, Mumbai, G...</td>\n",
       "      <td>Not disclosed</td>\n",
       "      <td>Should have handled complexity around visualiz...</td>\n",
       "      <td>2 DAYS AGO</td>\n",
       "    </tr>\n",
       "    <tr>\n",
       "      <th>2</th>\n",
       "      <td>Data Analyst/Senior Data Analyst</td>\n",
       "      <td>Meesho</td>\n",
       "      <td>3-6 Yrs</td>\n",
       "      <td>Bangalore/Bengaluru</td>\n",
       "      <td>Not disclosed</td>\n",
       "      <td>Bachelor s degree in Engineering, Tech or Stat...</td>\n",
       "      <td>10 DAYS AGO</td>\n",
       "    </tr>\n",
       "    <tr>\n",
       "      <th>3</th>\n",
       "      <td>Senior Data Analyst II</td>\n",
       "      <td>Flipkart</td>\n",
       "      <td>3-6 Yrs</td>\n",
       "      <td>Bangalore/Bengaluru</td>\n",
       "      <td>Not disclosed</td>\n",
       "      <td>About the role: You work closely with differen...</td>\n",
       "      <td>6 DAYS AGO</td>\n",
       "    </tr>\n",
       "    <tr>\n",
       "      <th>4</th>\n",
       "      <td>Business Analyst / Data Analyst</td>\n",
       "      <td>cliqhr.com</td>\n",
       "      <td>5-10 Yrs</td>\n",
       "      <td>Bangalore/Bengaluru, Mumbai, Hyderabad/Secunde...</td>\n",
       "      <td>Not disclosed</td>\n",
       "      <td>Clarifies and translates business requirement ...</td>\n",
       "      <td>2 DAYS AGO</td>\n",
       "    </tr>\n",
       "    <tr>\n",
       "      <th>5</th>\n",
       "      <td>Data Analyst - CRM Platform</td>\n",
       "      <td>Artech infosystem</td>\n",
       "      <td>1-6 Yrs</td>\n",
       "      <td>Bangalore/Bengaluru, Mumbai, Hyderabad/Secunde...</td>\n",
       "      <td>Not disclosed</td>\n",
       "      <td>Bachelors degree or equivalent 1-2 years exper...</td>\n",
       "      <td>3 DAYS AGO</td>\n",
       "    </tr>\n",
       "    <tr>\n",
       "      <th>6</th>\n",
       "      <td>Software Technical Expert - Data Analyst</td>\n",
       "      <td>Schneider Electric</td>\n",
       "      <td>3-6 Yrs</td>\n",
       "      <td>Bangalore/Bengaluru</td>\n",
       "      <td>Not disclosed</td>\n",
       "      <td>Should have experience on Creating and proposi...</td>\n",
       "      <td>4 DAYS AGO</td>\n",
       "    </tr>\n",
       "    <tr>\n",
       "      <th>7</th>\n",
       "      <td>Reference Data Analyst</td>\n",
       "      <td>Deutsche Bank</td>\n",
       "      <td>2-5 Yrs</td>\n",
       "      <td>Bangalore/Bengaluru</td>\n",
       "      <td>Not disclosed</td>\n",
       "      <td>Successful candidate will be joining the ORDS ...</td>\n",
       "      <td>3 DAYS AGO</td>\n",
       "    </tr>\n",
       "    <tr>\n",
       "      <th>8</th>\n",
       "      <td>Sales Data Analyst</td>\n",
       "      <td>NUANCE INDIA PVT LTD</td>\n",
       "      <td>1-3 Yrs</td>\n",
       "      <td>Bangalore/Bengaluru</td>\n",
       "      <td>Not disclosed</td>\n",
       "      <td>Education: Bachelor s degree in Commerce, Busi...</td>\n",
       "      <td>3 DAYS AGO</td>\n",
       "    </tr>\n",
       "    <tr>\n",
       "      <th>9</th>\n",
       "      <td>Data Analyst</td>\n",
       "      <td>MOURI Tech</td>\n",
       "      <td>6-10 Yrs</td>\n",
       "      <td>Bangalore/Bengaluru, Hyderabad/Secunderabad</td>\n",
       "      <td>Not disclosed</td>\n",
       "      <td>Good to have) Prior experience with marketing ...</td>\n",
       "      <td>2 DAYS AGO</td>\n",
       "    </tr>\n",
       "  </tbody>\n",
       "</table>\n",
       "</div>"
      ],
      "text/plain": [
       "                                   Designation          Company Name  \\\n",
       "0                     Sr.Business Data Analyst             Collabera   \n",
       "1  Hiring Data Analyst - Forensics, KPMG India            KPMG India   \n",
       "2             Data Analyst/Senior Data Analyst                Meesho   \n",
       "3                       Senior Data Analyst II              Flipkart   \n",
       "4              Business Analyst / Data Analyst            cliqhr.com   \n",
       "5                  Data Analyst - CRM Platform     Artech infosystem   \n",
       "6     Software Technical Expert - Data Analyst    Schneider Electric   \n",
       "7                       Reference Data Analyst         Deutsche Bank   \n",
       "8                           Sales Data Analyst  NUANCE INDIA PVT LTD   \n",
       "9                                 Data Analyst            MOURI Tech   \n",
       "\n",
       "  Experience                                           Location  \\\n",
       "0   6-11 Yrs  Bangalore/Bengaluru, karnataka\\n(WFH during Co...   \n",
       "1    2-6 Yrs  Bangalore/Bengaluru, Noida, Kolkata, Mumbai, G...   \n",
       "2    3-6 Yrs                                Bangalore/Bengaluru   \n",
       "3    3-6 Yrs                                Bangalore/Bengaluru   \n",
       "4   5-10 Yrs  Bangalore/Bengaluru, Mumbai, Hyderabad/Secunde...   \n",
       "5    1-6 Yrs  Bangalore/Bengaluru, Mumbai, Hyderabad/Secunde...   \n",
       "6    3-6 Yrs                                Bangalore/Bengaluru   \n",
       "7    2-5 Yrs                                Bangalore/Bengaluru   \n",
       "8    1-3 Yrs                                Bangalore/Bengaluru   \n",
       "9   6-10 Yrs        Bangalore/Bengaluru, Hyderabad/Secunderabad   \n",
       "\n",
       "          Salary                                        Requirement  \\\n",
       "0  Not disclosed  Roles and Responsibilities Desired Candidate P...   \n",
       "1  Not disclosed  Should have handled complexity around visualiz...   \n",
       "2  Not disclosed  Bachelor s degree in Engineering, Tech or Stat...   \n",
       "3  Not disclosed  About the role: You work closely with differen...   \n",
       "4  Not disclosed  Clarifies and translates business requirement ...   \n",
       "5  Not disclosed  Bachelors degree or equivalent 1-2 years exper...   \n",
       "6  Not disclosed  Should have experience on Creating and proposi...   \n",
       "7  Not disclosed  Successful candidate will be joining the ORDS ...   \n",
       "8  Not disclosed  Education: Bachelor s degree in Commerce, Busi...   \n",
       "9  Not disclosed  Good to have) Prior experience with marketing ...   \n",
       "\n",
       "          Days  \n",
       "0   2 DAYS AGO  \n",
       "1   2 DAYS AGO  \n",
       "2  10 DAYS AGO  \n",
       "3   6 DAYS AGO  \n",
       "4   2 DAYS AGO  \n",
       "5   3 DAYS AGO  \n",
       "6   4 DAYS AGO  \n",
       "7   3 DAYS AGO  \n",
       "8   3 DAYS AGO  \n",
       "9   2 DAYS AGO  "
      ]
     },
     "execution_count": 83,
     "metadata": {},
     "output_type": "execute_result"
    }
   ],
   "source": [
    "#Creating DataFrame for first 10 datas For DataAnalyst in Bangalore Location..\n",
    "jobs = pd.DataFrame()\n",
    "jobs[\"Designation\"]=designation\n",
    "jobs[\"Company Name\"]=company\n",
    "jobs[\"Experience\"]=experience\n",
    "jobs[\"Location\"]=location\n",
    "jobs[\"Salary\"]=salary\n",
    "jobs[\"Requirement\"]= requirement\n",
    "jobs[\"Days\"]=Posted_days\n",
    "jobs.head(10)"
   ]
  },
  {
   "cell_type": "markdown",
   "id": "95c7d66e",
   "metadata": {},
   "source": [
    "# Quest2"
   ]
  },
  {
   "cell_type": "code",
   "execution_count": 78,
   "id": "b609831a",
   "metadata": {},
   "outputs": [],
   "source": [
    "#Getting webdriver of chrome.com...\n",
    "driver = webdriver.Chrome(r'C:\\Users\\Admin\\Downloads\\chromedriver_win32\\chromedriver.exe')"
   ]
  },
  {
   "cell_type": "code",
   "execution_count": 79,
   "id": "b4b67b52",
   "metadata": {},
   "outputs": [],
   "source": [
    "#Getting website of www.naukri.com..\n",
    "url='https://www.naukri.com/'\n",
    "driver.get(url)"
   ]
  },
  {
   "cell_type": "code",
   "execution_count": 80,
   "id": "c8f3e8b4",
   "metadata": {},
   "outputs": [],
   "source": [
    "from selenium.webdriver.common.by import By"
   ]
  },
  {
   "cell_type": "code",
   "execution_count": 81,
   "id": "503d769b",
   "metadata": {},
   "outputs": [
    {
     "data": {
      "text/plain": [
       "<selenium.webdriver.remote.webelement.WebElement (session=\"98e06e2e52a320e352eacea99a14acb8\", element=\"99fced5b-223c-431c-aa94-c080a930f68a\")>"
      ]
     },
     "execution_count": 81,
     "metadata": {},
     "output_type": "execute_result"
    }
   ],
   "source": [
    "search_job = driver.find_element(By.CLASS_NAME,\"suggestor-input \")\n",
    "search_job"
   ]
  },
  {
   "cell_type": "code",
   "execution_count": 82,
   "id": "797f6662",
   "metadata": {},
   "outputs": [],
   "source": [
    "#Entering Data Scientist in Search box...\n",
    "search_job.send_keys(\"Data Scientist\")"
   ]
  },
  {
   "cell_type": "code",
   "execution_count": 83,
   "id": "a001ba68",
   "metadata": {},
   "outputs": [
    {
     "data": {
      "text/plain": [
       "<selenium.webdriver.remote.webelement.WebElement (session=\"98e06e2e52a320e352eacea99a14acb8\", element=\"bd90536c-d858-4346-8a06-a4df1f6beab5\")>"
      ]
     },
     "execution_count": 83,
     "metadata": {},
     "output_type": "execute_result"
    }
   ],
   "source": [
    "search_loc = driver.find_element(By.XPATH,\"/html/body/div[1]/div[2]/div[3]/div/div/div[5]/div/div/div/input\")\n",
    "search_loc"
   ]
  },
  {
   "cell_type": "code",
   "execution_count": 84,
   "id": "ced9a263",
   "metadata": {},
   "outputs": [],
   "source": [
    "#Entering Bangalore in Location Box...\n",
    "search_loc.send_keys(\"Bangalore\")"
   ]
  },
  {
   "cell_type": "code",
   "execution_count": 85,
   "id": "1b595d1d",
   "metadata": {},
   "outputs": [
    {
     "data": {
      "text/plain": [
       "<selenium.webdriver.remote.webelement.WebElement (session=\"98e06e2e52a320e352eacea99a14acb8\", element=\"0f7545f4-5958-441d-b775-a66a774a627d\")>"
      ]
     },
     "execution_count": 85,
     "metadata": {},
     "output_type": "execute_result"
    }
   ],
   "source": [
    "search_btn = driver.find_element(By.XPATH,\"/html/body/div[1]/div[2]/div[3]/div/div/div[6]\")\n",
    "search_btn"
   ]
  },
  {
   "cell_type": "code",
   "execution_count": 86,
   "id": "9d6a194b",
   "metadata": {},
   "outputs": [],
   "source": [
    "#Clicking the Search button..\n",
    "search_btn.click()"
   ]
  },
  {
   "cell_type": "code",
   "execution_count": 87,
   "id": "71d52c41",
   "metadata": {},
   "outputs": [
    {
     "data": {
      "text/plain": [
       "20"
      ]
     },
     "execution_count": 87,
     "metadata": {},
     "output_type": "execute_result"
    }
   ],
   "source": [
    "job_ds = driver.find_elements(By.XPATH,'//a[@class=\"title fw500 ellipsis\"]')\n",
    "len(job_ds)"
   ]
  },
  {
   "cell_type": "code",
   "execution_count": 88,
   "id": "dff82671",
   "metadata": {},
   "outputs": [
    {
     "data": {
      "text/plain": [
       "20"
      ]
     },
     "execution_count": 88,
     "metadata": {},
     "output_type": "execute_result"
    }
   ],
   "source": [
    "title = []\n",
    "for i in job_ds:\n",
    "    title.append(i.text)\n",
    "len(title) "
   ]
  },
  {
   "cell_type": "code",
   "execution_count": 89,
   "id": "7d703e87",
   "metadata": {},
   "outputs": [
    {
     "data": {
      "text/plain": [
       "['Data Scientist/ Senior Data Scientist',\n",
       " 'Urgent Job Opening For AI Practitioner - Data Science at Wipro Holmes',\n",
       " 'Hiring For Senior Data Scientist',\n",
       " 'Dataiku Consultant',\n",
       " 'Data Scientist',\n",
       " 'Data & Analytics Tech - Informatica Cloud- Senior Associate',\n",
       " 'Data Scientist: Advanced Analytics',\n",
       " 'Research Scientist',\n",
       " 'Principal - Data Scientist',\n",
       " 'Research and Development -AI/ML -(PhD )']"
      ]
     },
     "execution_count": 89,
     "metadata": {},
     "output_type": "execute_result"
    }
   ],
   "source": [
    "#Getting first ten title of designation in webpage..\n",
    "title[0:10]"
   ]
  },
  {
   "cell_type": "code",
   "execution_count": 90,
   "id": "a45c8262",
   "metadata": {},
   "outputs": [
    {
     "data": {
      "text/plain": [
       "20"
      ]
     },
     "execution_count": 90,
     "metadata": {},
     "output_type": "execute_result"
    }
   ],
   "source": [
    "ds_loc = driver.find_elements(By.XPATH,'//li[@class=\"fleft grey-text br2 placeHolderLi location\"]')\n",
    "len(ds_loc)"
   ]
  },
  {
   "cell_type": "code",
   "execution_count": 91,
   "id": "d1cbbc4d",
   "metadata": {},
   "outputs": [
    {
     "data": {
      "text/plain": [
       "20"
      ]
     },
     "execution_count": 91,
     "metadata": {},
     "output_type": "execute_result"
    }
   ],
   "source": [
    "datascientist_loc = []\n",
    "for i in ds_loc:\n",
    "    datascientist_loc.append(i.text)\n",
    "len(datascientist_loc) "
   ]
  },
  {
   "cell_type": "code",
   "execution_count": 92,
   "id": "8612fd74",
   "metadata": {},
   "outputs": [
    {
     "data": {
      "text/plain": [
       "['Bangalore/Bengaluru, Pune, Gurgaon/Gurugram, Chennai, Mumbai (All Areas)',\n",
       " 'Bangalore/Bengaluru, Kochi/Cochin, New Delhi, Coimbatore, Chennai, Pune, Mumbai, Hyderabad',\n",
       " 'Bangalore/Bengaluru, Pune',\n",
       " 'Bangalore/Bengaluru, Pune, Chennai',\n",
       " 'Bangalore/Bengaluru',\n",
       " 'Bangalore/Bengaluru',\n",
       " 'Bangalore/Bengaluru',\n",
       " 'Bangalore/Bengaluru',\n",
       " 'Bangalore/Bengaluru',\n",
       " 'Bangalore/Bengaluru, Noida, Hyderabad/Secunderabad, Pune, Gurgaon/Gurugram, Chennai, Delhi / NCR']"
      ]
     },
     "execution_count": 92,
     "metadata": {},
     "output_type": "execute_result"
    }
   ],
   "source": [
    "#Getting first 10 location in webpage..\n",
    "datascientist_loc[0:10]"
   ]
  },
  {
   "cell_type": "code",
   "execution_count": 93,
   "id": "74140896",
   "metadata": {},
   "outputs": [
    {
     "data": {
      "text/plain": [
       "20"
      ]
     },
     "execution_count": 93,
     "metadata": {},
     "output_type": "execute_result"
    }
   ],
   "source": [
    "ds_compname = driver.find_elements(By.XPATH,'//a[@class=\"subTitle ellipsis fleft\"]')\n",
    "len(ds_compname)"
   ]
  },
  {
   "cell_type": "code",
   "execution_count": 94,
   "id": "04b27549",
   "metadata": {},
   "outputs": [
    {
     "data": {
      "text/plain": [
       "20"
      ]
     },
     "execution_count": 94,
     "metadata": {},
     "output_type": "execute_result"
    }
   ],
   "source": [
    "company_name = []\n",
    "for i in ds_compname:\n",
    "    company_name.append(i.text)\n",
    "len(company_name)"
   ]
  },
  {
   "cell_type": "code",
   "execution_count": 95,
   "id": "b0b022f3",
   "metadata": {},
   "outputs": [
    {
     "data": {
      "text/plain": [
       "['Fractal Analytics',\n",
       " 'Wipro',\n",
       " 'TATA CONSULTANCY SERVICES (TCS)',\n",
       " 'Wipro',\n",
       " 'Applied Materials',\n",
       " 'PwC',\n",
       " 'IBM',\n",
       " 'IBM',\n",
       " 'Schneider Electric',\n",
       " 'EXL']"
      ]
     },
     "execution_count": 95,
     "metadata": {},
     "output_type": "execute_result"
    }
   ],
   "source": [
    "#Getting first 10 comp name in web page...\n",
    "company_name[0:10]"
   ]
  },
  {
   "cell_type": "code",
   "execution_count": 111,
   "id": "25cb181d",
   "metadata": {},
   "outputs": [
    {
     "data": {
      "text/html": [
       "<div>\n",
       "<style scoped>\n",
       "    .dataframe tbody tr th:only-of-type {\n",
       "        vertical-align: middle;\n",
       "    }\n",
       "\n",
       "    .dataframe tbody tr th {\n",
       "        vertical-align: top;\n",
       "    }\n",
       "\n",
       "    .dataframe thead th {\n",
       "        text-align: right;\n",
       "    }\n",
       "</style>\n",
       "<table border=\"1\" class=\"dataframe\">\n",
       "  <thead>\n",
       "    <tr style=\"text-align: right;\">\n",
       "      <th></th>\n",
       "      <th>DS_Job_Title</th>\n",
       "      <th>DS_Location</th>\n",
       "      <th>DS_CompName</th>\n",
       "    </tr>\n",
       "  </thead>\n",
       "  <tbody>\n",
       "    <tr>\n",
       "      <th>0</th>\n",
       "      <td>Urgent Job Opening For AI Practitioner - Data ...</td>\n",
       "      <td>Bangalore/Bengaluru, Kochi/Cochin, New Delhi, ...</td>\n",
       "      <td>Wipro</td>\n",
       "    </tr>\n",
       "    <tr>\n",
       "      <th>1</th>\n",
       "      <td>Dataiku Consultant</td>\n",
       "      <td>Bangalore/Bengaluru, Pune, Chennai</td>\n",
       "      <td>Wipro</td>\n",
       "    </tr>\n",
       "    <tr>\n",
       "      <th>2</th>\n",
       "      <td>Opportunity For Data Scientist - Female Candid...</td>\n",
       "      <td>Bangalore/Bengaluru, Gurgaon/Gurugram, Mumbai ...</td>\n",
       "      <td>PayU</td>\n",
       "    </tr>\n",
       "    <tr>\n",
       "      <th>3</th>\n",
       "      <td>Data Scientist</td>\n",
       "      <td>Bangalore/Bengaluru\\n(WFH during Covid)</td>\n",
       "      <td>Wipro</td>\n",
       "    </tr>\n",
       "    <tr>\n",
       "      <th>4</th>\n",
       "      <td>Research and Development -AI/ML -(PhD )</td>\n",
       "      <td>Bangalore/Bengaluru, Noida, Hyderabad/Secunder...</td>\n",
       "      <td>EXL</td>\n",
       "    </tr>\n",
       "    <tr>\n",
       "      <th>5</th>\n",
       "      <td>Senior Data Science Engineer</td>\n",
       "      <td>Bangalore/Bengaluru, Gurgaon/Gurugram, Mumbai ...</td>\n",
       "      <td>Fractal Analytics</td>\n",
       "    </tr>\n",
       "    <tr>\n",
       "      <th>6</th>\n",
       "      <td>Data Science - Engineering Manager</td>\n",
       "      <td>Bangalore/Bengaluru, Noida, Mumbai</td>\n",
       "      <td>Paytm</td>\n",
       "    </tr>\n",
       "    <tr>\n",
       "      <th>7</th>\n",
       "      <td>Data Scientist</td>\n",
       "      <td>Bangalore/Bengaluru, Mumbai (All Areas)</td>\n",
       "      <td>UPL</td>\n",
       "    </tr>\n",
       "    <tr>\n",
       "      <th>8</th>\n",
       "      <td>Data Scientist- Assistant Manager/Manager</td>\n",
       "      <td>Bangalore/Bengaluru</td>\n",
       "      <td>Genpact</td>\n",
       "    </tr>\n",
       "    <tr>\n",
       "      <th>9</th>\n",
       "      <td>Data Scientist</td>\n",
       "      <td>Bangalore/Bengaluru</td>\n",
       "      <td>IBM</td>\n",
       "    </tr>\n",
       "  </tbody>\n",
       "</table>\n",
       "</div>"
      ],
      "text/plain": [
       "                                        DS_Job_Title  \\\n",
       "0  Urgent Job Opening For AI Practitioner - Data ...   \n",
       "1                                 Dataiku Consultant   \n",
       "2  Opportunity For Data Scientist - Female Candid...   \n",
       "3                                     Data Scientist   \n",
       "4            Research and Development -AI/ML -(PhD )   \n",
       "5                       Senior Data Science Engineer   \n",
       "6                 Data Science - Engineering Manager   \n",
       "7                                     Data Scientist   \n",
       "8          Data Scientist- Assistant Manager/Manager   \n",
       "9                                     Data Scientist   \n",
       "\n",
       "                                         DS_Location        DS_CompName  \n",
       "0  Bangalore/Bengaluru, Kochi/Cochin, New Delhi, ...              Wipro  \n",
       "1                 Bangalore/Bengaluru, Pune, Chennai              Wipro  \n",
       "2  Bangalore/Bengaluru, Gurgaon/Gurugram, Mumbai ...               PayU  \n",
       "3            Bangalore/Bengaluru\\n(WFH during Covid)              Wipro  \n",
       "4  Bangalore/Bengaluru, Noida, Hyderabad/Secunder...                EXL  \n",
       "5  Bangalore/Bengaluru, Gurgaon/Gurugram, Mumbai ...  Fractal Analytics  \n",
       "6                 Bangalore/Bengaluru, Noida, Mumbai              Paytm  \n",
       "7            Bangalore/Bengaluru, Mumbai (All Areas)                UPL  \n",
       "8                                Bangalore/Bengaluru            Genpact  \n",
       "9                                Bangalore/Bengaluru                IBM  "
      ]
     },
     "execution_count": 111,
     "metadata": {},
     "output_type": "execute_result"
    }
   ],
   "source": [
    "#Creating Data Frame for first 10 data in naukri.com...\n",
    "datascien=pd.DataFrame()\n",
    "datascien[\"DS_Job_Title\"]=title\n",
    "datascien[\"DS_Location\"]=datascientist_loc\n",
    "datascien[\"DS_CompName\"]=company_name\n",
    "datascien.head(10)\n",
    "\n"
   ]
  },
  {
   "cell_type": "markdown",
   "id": "fabac660",
   "metadata": {},
   "source": [
    "# Quest3"
   ]
  },
  {
   "cell_type": "code",
   "execution_count": 112,
   "id": "2ee6b0d7",
   "metadata": {},
   "outputs": [],
   "source": [
    "#Getting webdrvier of chrome..\n",
    "driver = webdriver.Chrome(r'C:\\Users\\Admin\\Downloads\\chromedriver_win32\\chromedriver.exe')"
   ]
  },
  {
   "cell_type": "code",
   "execution_count": 113,
   "id": "d2304a66",
   "metadata": {},
   "outputs": [],
   "source": [
    "url='https://www.naukri.com/'\n",
    "driver.get(url)"
   ]
  },
  {
   "cell_type": "code",
   "execution_count": 114,
   "id": "a01f0a73",
   "metadata": {},
   "outputs": [],
   "source": [
    "from selenium.webdriver.common.by import By"
   ]
  },
  {
   "cell_type": "code",
   "execution_count": 115,
   "id": "75c32f88",
   "metadata": {},
   "outputs": [
    {
     "data": {
      "text/plain": [
       "<selenium.webdriver.remote.webelement.WebElement (session=\"0edbc5e202b6074e15ad9f9af6fdad40\", element=\"17e1ed12-4f32-4f40-aaf4-85a6502ece39\")>"
      ]
     },
     "execution_count": 115,
     "metadata": {},
     "output_type": "execute_result"
    }
   ],
   "source": [
    "search_job = driver.find_element(By.CLASS_NAME,\"suggestor-input \")\n",
    "search_job"
   ]
  },
  {
   "cell_type": "code",
   "execution_count": 116,
   "id": "c1783b36",
   "metadata": {},
   "outputs": [],
   "source": [
    "#Entering DatScientist in Search box..\n",
    "search_job.send_keys(\"Data Scientist\")"
   ]
  },
  {
   "cell_type": "code",
   "execution_count": 117,
   "id": "fb3da3ba",
   "metadata": {},
   "outputs": [
    {
     "data": {
      "text/plain": [
       "<selenium.webdriver.remote.webelement.WebElement (session=\"0edbc5e202b6074e15ad9f9af6fdad40\", element=\"d705550d-dde2-4fa9-b0d5-b94efdf8c22c\")>"
      ]
     },
     "execution_count": 117,
     "metadata": {},
     "output_type": "execute_result"
    }
   ],
   "source": [
    "search_loc = driver.find_element(By.XPATH,\"/html/body/div[1]/div[2]/div[3]/div/div/div[5]/div/div/div/input\")\n",
    "search_loc"
   ]
  },
  {
   "cell_type": "code",
   "execution_count": 118,
   "id": "5f97ae32",
   "metadata": {},
   "outputs": [],
   "source": [
    "#Entering Delhi in location box..\n",
    "search_loc.send_keys(\"Delhi/NCR\")"
   ]
  },
  {
   "cell_type": "code",
   "execution_count": 119,
   "id": "9f8f2456",
   "metadata": {},
   "outputs": [
    {
     "data": {
      "text/plain": [
       "<selenium.webdriver.remote.webelement.WebElement (session=\"0edbc5e202b6074e15ad9f9af6fdad40\", element=\"ad5551ae-8a59-4808-92b4-4808ec50d5d5\")>"
      ]
     },
     "execution_count": 119,
     "metadata": {},
     "output_type": "execute_result"
    }
   ],
   "source": [
    "search_btn = driver.find_element(By.XPATH,\"/html/body/div[1]/div[2]/div[3]/div/div/div[6]\")\n",
    "search_btn"
   ]
  },
  {
   "cell_type": "code",
   "execution_count": 120,
   "id": "ff95bb8c",
   "metadata": {},
   "outputs": [],
   "source": [
    "#Clicking Search button..\n",
    "search_btn.click()"
   ]
  },
  {
   "cell_type": "code",
   "execution_count": 130,
   "id": "9e6962fe",
   "metadata": {},
   "outputs": [
    {
     "data": {
      "text/plain": [
       "<selenium.webdriver.remote.webelement.WebElement (session=\"0edbc5e202b6074e15ad9f9af6fdad40\", element=\"aeaaa57d-45da-4dbe-a515-25f26e847a6b\")>"
      ]
     },
     "execution_count": 130,
     "metadata": {},
     "output_type": "execute_result"
    }
   ],
   "source": [
    "filter_loc = driver.find_element(By.XPATH,\"/html/body/div[1]/div[3]/div[2]/section[1]/div[2]/div[13]/div[2]/div[2]/label/i\")\n",
    "filter_loc"
   ]
  },
  {
   "cell_type": "code",
   "execution_count": 131,
   "id": "98017f70",
   "metadata": {},
   "outputs": [],
   "source": [
    "#Clicking the filter location....\n",
    "filter_loc.click()"
   ]
  },
  {
   "cell_type": "code",
   "execution_count": 132,
   "id": "80e46d9a",
   "metadata": {},
   "outputs": [
    {
     "data": {
      "text/plain": [
       "<selenium.webdriver.remote.webelement.WebElement (session=\"0edbc5e202b6074e15ad9f9af6fdad40\", element=\"404d77d0-a814-44c3-93cb-d67b861135ab\")>"
      ]
     },
     "execution_count": 132,
     "metadata": {},
     "output_type": "execute_result"
    }
   ],
   "source": [
    "filter_sal = driver.find_element(By.XPATH,\"/html/body/div[1]/div[3]/div[2]/section[1]/div[2]/div[6]/div[2]/div[2]\")\n",
    "filter_sal"
   ]
  },
  {
   "cell_type": "code",
   "execution_count": 133,
   "id": "78000f07",
   "metadata": {},
   "outputs": [],
   "source": [
    "#Clicking the filter for Salary...\n",
    "filter_sal.click()"
   ]
  },
  {
   "cell_type": "code",
   "execution_count": 134,
   "id": "157f283b",
   "metadata": {},
   "outputs": [
    {
     "data": {
      "text/plain": [
       "20"
      ]
     },
     "execution_count": 134,
     "metadata": {},
     "output_type": "execute_result"
    }
   ],
   "source": [
    "filter_title = driver.find_elements(By.XPATH,'//a[@ class=\"title fw500 ellipsis\"]')\n",
    "len(filter_title)"
   ]
  },
  {
   "cell_type": "code",
   "execution_count": 135,
   "id": "d1623f6c",
   "metadata": {},
   "outputs": [
    {
     "data": {
      "text/plain": [
       "20"
      ]
     },
     "execution_count": 135,
     "metadata": {},
     "output_type": "execute_result"
    }
   ],
   "source": [
    "filtered_title=[]\n",
    "for i in filter_title:\n",
    "    filtered_title.append(i.text)\n",
    "len(filtered_title)\n",
    "    \n",
    "    "
   ]
  },
  {
   "cell_type": "code",
   "execution_count": 136,
   "id": "dc9acdf4",
   "metadata": {},
   "outputs": [
    {
     "data": {
      "text/plain": [
       "['DigitalBCG GAMMA Data Scientist',\n",
       " 'Senior Associate - Data Science',\n",
       " 'Data Scientist - Noida/Bangalore',\n",
       " 'Data Scientist - Machine learning AI',\n",
       " 'Data Scientist - MIND Infotech',\n",
       " 'Data Scientist',\n",
       " 'Data Scientist - Engine Algorithm',\n",
       " 'Data Scientist',\n",
       " 'Data Scientist',\n",
       " 'Data Science',\n",
       " 'Data Scientist - Internet Jobs - II',\n",
       " 'Data Science',\n",
       " 'Data Scientist',\n",
       " 'Machine Learning Seniors',\n",
       " 'Hiring || Data Scientist || North Delhi || 5.5 days working',\n",
       " 'Data scientist- Python',\n",
       " 'Data Engineer',\n",
       " 'Dot Net Developer',\n",
       " 'Data Scientists',\n",
       " 'Associate Data Scientist - Java/ Scala/ Apache Server']"
      ]
     },
     "execution_count": 136,
     "metadata": {},
     "output_type": "execute_result"
    }
   ],
   "source": [
    "#Filtered title in naukri.com\n",
    "filtered_title"
   ]
  },
  {
   "cell_type": "code",
   "execution_count": 137,
   "id": "eb01202b",
   "metadata": {},
   "outputs": [
    {
     "data": {
      "text/plain": [
       "20"
      ]
     },
     "execution_count": 137,
     "metadata": {},
     "output_type": "execute_result"
    }
   ],
   "source": [
    "filter_name = driver.find_elements(By.XPATH,'//a[@ class=\"subTitle ellipsis fleft\"]')\n",
    "len(filter_name)"
   ]
  },
  {
   "cell_type": "code",
   "execution_count": 138,
   "id": "46d3a1ad",
   "metadata": {},
   "outputs": [
    {
     "data": {
      "text/plain": [
       "20"
      ]
     },
     "execution_count": 138,
     "metadata": {},
     "output_type": "execute_result"
    }
   ],
   "source": [
    "Comp_Name=[]\n",
    "for i in filter_name:\n",
    "    Comp_Name.append(i.text)\n",
    "len(Comp_Name)    "
   ]
  },
  {
   "cell_type": "code",
   "execution_count": 139,
   "id": "b26825f4",
   "metadata": {},
   "outputs": [
    {
     "data": {
      "text/plain": [
       "['Boston Consulting Group',\n",
       " 'Black Turtle India Pvt Ltd',\n",
       " 'EXL',\n",
       " 'Teq Analytics',\n",
       " 'MOTHERSONSUMI INFOTECH & DESIGNS LIMITED',\n",
       " 'Mount Talent Consulting Private Limited',\n",
       " 'Primo Hiring',\n",
       " 'Mount Talent Consulting Private Limited',\n",
       " 'Sydata Consulting India Pvt Ltd',\n",
       " 'Mount Talent Consulting Private Limited',\n",
       " 'Jobs Territory',\n",
       " 'Mount Talent Consulting Private Limited',\n",
       " 'Kellton Tech Solutions Limited',\n",
       " 'Walking Tree Consultancy Services pvt Ltd',\n",
       " 'Shriram Automall India Limited',\n",
       " 'TeamPlus Staffing Solution Pvt Ltd',\n",
       " 'excellence',\n",
       " 'Nibha Infotech Private Limited',\n",
       " 'Nibha Infotech Private Limited',\n",
       " 'Smart work Consultants']"
      ]
     },
     "execution_count": 139,
     "metadata": {},
     "output_type": "execute_result"
    }
   ],
   "source": [
    "#Filtered comp name in naukri.com..\n",
    "Comp_Name"
   ]
  },
  {
   "cell_type": "code",
   "execution_count": 140,
   "id": "57f0e229",
   "metadata": {},
   "outputs": [
    {
     "data": {
      "text/plain": [
       "20"
      ]
     },
     "execution_count": 140,
     "metadata": {},
     "output_type": "execute_result"
    }
   ],
   "source": [
    "filter_exp = driver.find_elements(By.XPATH,'//li[@ class=\"fleft grey-text br2 placeHolderLi experience\"]')\n",
    "len(filter_exp)"
   ]
  },
  {
   "cell_type": "code",
   "execution_count": 141,
   "id": "240541f6",
   "metadata": {},
   "outputs": [
    {
     "data": {
      "text/plain": [
       "20"
      ]
     },
     "execution_count": 141,
     "metadata": {},
     "output_type": "execute_result"
    }
   ],
   "source": [
    "Exp_Req=[]\n",
    "for i in filter_exp:\n",
    "    Exp_Req.append(i.text)\n",
    "len(Exp_Req)    "
   ]
  },
  {
   "cell_type": "code",
   "execution_count": 142,
   "id": "5fd09542",
   "metadata": {},
   "outputs": [
    {
     "data": {
      "text/plain": [
       "['2-5 Yrs',\n",
       " '4-7 Yrs',\n",
       " '5-10 Yrs',\n",
       " '3-8 Yrs',\n",
       " '4-8 Yrs',\n",
       " '2-4 Yrs',\n",
       " '1-3 Yrs',\n",
       " '2-4 Yrs',\n",
       " '3-8 Yrs',\n",
       " '2-5 Yrs',\n",
       " '3-6 Yrs',\n",
       " '2-5 Yrs',\n",
       " '3-6 Yrs',\n",
       " '2-5 Yrs',\n",
       " '4-9 Yrs',\n",
       " '3-6 Yrs',\n",
       " '4-9 Yrs',\n",
       " '3-8 Yrs',\n",
       " '5-8 Yrs',\n",
       " '1-4 Yrs']"
      ]
     },
     "execution_count": 142,
     "metadata": {},
     "output_type": "execute_result"
    }
   ],
   "source": [
    "#Filtered experience in naukri.com..\n",
    "Exp_Req"
   ]
  },
  {
   "cell_type": "code",
   "execution_count": 143,
   "id": "9c7cd74a",
   "metadata": {},
   "outputs": [
    {
     "data": {
      "text/plain": [
       "20"
      ]
     },
     "execution_count": 143,
     "metadata": {},
     "output_type": "execute_result"
    }
   ],
   "source": [
    "filter_loc = driver.find_elements(By.XPATH,'//li[@ class=\"fleft grey-text br2 placeHolderLi location\"]')\n",
    "len(filter_loc)"
   ]
  },
  {
   "cell_type": "code",
   "execution_count": 144,
   "id": "65edf320",
   "metadata": {},
   "outputs": [
    {
     "data": {
      "text/plain": [
       "20"
      ]
     },
     "execution_count": 144,
     "metadata": {},
     "output_type": "execute_result"
    }
   ],
   "source": [
    "filtered_loc=[]\n",
    "for i in filter_loc:\n",
    "    filtered_loc.append(i.text)\n",
    "len(filtered_loc) "
   ]
  },
  {
   "cell_type": "code",
   "execution_count": 145,
   "id": "e168c368",
   "metadata": {},
   "outputs": [
    {
     "data": {
      "text/plain": [
       "['New Delhi, Bangalore/Bengaluru',\n",
       " 'Mumbai, Hyderabad/Secunderabad, Gurgaon/Gurugram, Bangalore/Bengaluru',\n",
       " 'Noida, Bangalore/Bengaluru',\n",
       " 'Delhi / NCR, Bangalore/Bengaluru, Mumbai (All Areas)\\n(WFH during Covid)',\n",
       " 'Noida',\n",
       " 'Delhi / NCR, Pune, Bangalore/Bengaluru',\n",
       " 'Delhi / NCR, Kolkata, Mumbai, Hyderabad/Secunderabad, Lucknow, Chennai, Ahmedabad, Bangalore/Bengaluru',\n",
       " 'Delhi / NCR, Pune, Bangalore/Bengaluru',\n",
       " 'Delhi / NCR, Bangalore/Bengaluru, Mumbai (All Areas)\\n(WFH during Covid)',\n",
       " 'Delhi / NCR, Noida, Faridabad, Gurgaon/Gurugram, Bangalore/Bengaluru, Greater Noida',\n",
       " 'Delhi / NCR, Bangalore/Bengaluru, Mumbai (All Areas)',\n",
       " 'Delhi / NCR, Noida, Faridabad, Gurgaon/Gurugram, Bangalore/Bengaluru, Greater Noida',\n",
       " 'Gurgaon/Gurugram',\n",
       " 'Hyderabad/Secunderabad, New Delhi',\n",
       " 'Delhi / NCR(Netaji Subhash Place)',\n",
       " 'Gurgaon/Gurugram',\n",
       " 'Mumbai, New Delhi, Pune',\n",
       " 'Delhi / NCR, Gurgaon/Gurugram',\n",
       " 'Gurgaon/Gurugram',\n",
       " 'Noida']"
      ]
     },
     "execution_count": 145,
     "metadata": {},
     "output_type": "execute_result"
    }
   ],
   "source": [
    "#Filtered location in naukri.com..\n",
    "filtered_loc"
   ]
  },
  {
   "cell_type": "code",
   "execution_count": 148,
   "id": "335cca0c",
   "metadata": {},
   "outputs": [
    {
     "data": {
      "text/html": [
       "<div>\n",
       "<style scoped>\n",
       "    .dataframe tbody tr th:only-of-type {\n",
       "        vertical-align: middle;\n",
       "    }\n",
       "\n",
       "    .dataframe tbody tr th {\n",
       "        vertical-align: top;\n",
       "    }\n",
       "\n",
       "    .dataframe thead th {\n",
       "        text-align: right;\n",
       "    }\n",
       "</style>\n",
       "<table border=\"1\" class=\"dataframe\">\n",
       "  <thead>\n",
       "    <tr style=\"text-align: right;\">\n",
       "      <th></th>\n",
       "      <th>Title</th>\n",
       "      <th>Location</th>\n",
       "      <th>Company</th>\n",
       "      <th>Experience</th>\n",
       "    </tr>\n",
       "  </thead>\n",
       "  <tbody>\n",
       "    <tr>\n",
       "      <th>0</th>\n",
       "      <td>DigitalBCG GAMMA Data Scientist</td>\n",
       "      <td>New Delhi, Bangalore/Bengaluru</td>\n",
       "      <td>Boston Consulting Group</td>\n",
       "      <td>2-5 Yrs</td>\n",
       "    </tr>\n",
       "    <tr>\n",
       "      <th>1</th>\n",
       "      <td>Senior Associate - Data Science</td>\n",
       "      <td>Mumbai, Hyderabad/Secunderabad, Gurgaon/Gurugr...</td>\n",
       "      <td>Black Turtle India Pvt Ltd</td>\n",
       "      <td>4-7 Yrs</td>\n",
       "    </tr>\n",
       "    <tr>\n",
       "      <th>2</th>\n",
       "      <td>Data Scientist - Noida/Bangalore</td>\n",
       "      <td>Noida, Bangalore/Bengaluru</td>\n",
       "      <td>EXL</td>\n",
       "      <td>5-10 Yrs</td>\n",
       "    </tr>\n",
       "    <tr>\n",
       "      <th>3</th>\n",
       "      <td>Data Scientist - Machine learning AI</td>\n",
       "      <td>Delhi / NCR, Bangalore/Bengaluru, Mumbai (All ...</td>\n",
       "      <td>Teq Analytics</td>\n",
       "      <td>3-8 Yrs</td>\n",
       "    </tr>\n",
       "    <tr>\n",
       "      <th>4</th>\n",
       "      <td>Data Scientist - MIND Infotech</td>\n",
       "      <td>Noida</td>\n",
       "      <td>MOTHERSONSUMI INFOTECH &amp; DESIGNS LIMITED</td>\n",
       "      <td>4-8 Yrs</td>\n",
       "    </tr>\n",
       "    <tr>\n",
       "      <th>5</th>\n",
       "      <td>Data Scientist</td>\n",
       "      <td>Delhi / NCR, Pune, Bangalore/Bengaluru</td>\n",
       "      <td>Mount Talent Consulting Private Limited</td>\n",
       "      <td>2-4 Yrs</td>\n",
       "    </tr>\n",
       "    <tr>\n",
       "      <th>6</th>\n",
       "      <td>Data Scientist - Engine Algorithm</td>\n",
       "      <td>Delhi / NCR, Kolkata, Mumbai, Hyderabad/Secund...</td>\n",
       "      <td>Primo Hiring</td>\n",
       "      <td>1-3 Yrs</td>\n",
       "    </tr>\n",
       "    <tr>\n",
       "      <th>7</th>\n",
       "      <td>Data Scientist</td>\n",
       "      <td>Delhi / NCR, Pune, Bangalore/Bengaluru</td>\n",
       "      <td>Mount Talent Consulting Private Limited</td>\n",
       "      <td>2-4 Yrs</td>\n",
       "    </tr>\n",
       "    <tr>\n",
       "      <th>8</th>\n",
       "      <td>Data Scientist</td>\n",
       "      <td>Delhi / NCR, Bangalore/Bengaluru, Mumbai (All ...</td>\n",
       "      <td>Sydata Consulting India Pvt Ltd</td>\n",
       "      <td>3-8 Yrs</td>\n",
       "    </tr>\n",
       "    <tr>\n",
       "      <th>9</th>\n",
       "      <td>Data Science</td>\n",
       "      <td>Delhi / NCR, Noida, Faridabad, Gurgaon/Gurugra...</td>\n",
       "      <td>Mount Talent Consulting Private Limited</td>\n",
       "      <td>2-5 Yrs</td>\n",
       "    </tr>\n",
       "    <tr>\n",
       "      <th>10</th>\n",
       "      <td>Data Scientist - Internet Jobs - II</td>\n",
       "      <td>Delhi / NCR, Bangalore/Bengaluru, Mumbai (All ...</td>\n",
       "      <td>Jobs Territory</td>\n",
       "      <td>3-6 Yrs</td>\n",
       "    </tr>\n",
       "    <tr>\n",
       "      <th>11</th>\n",
       "      <td>Data Science</td>\n",
       "      <td>Delhi / NCR, Noida, Faridabad, Gurgaon/Gurugra...</td>\n",
       "      <td>Mount Talent Consulting Private Limited</td>\n",
       "      <td>2-5 Yrs</td>\n",
       "    </tr>\n",
       "    <tr>\n",
       "      <th>12</th>\n",
       "      <td>Data Scientist</td>\n",
       "      <td>Gurgaon/Gurugram</td>\n",
       "      <td>Kellton Tech Solutions Limited</td>\n",
       "      <td>3-6 Yrs</td>\n",
       "    </tr>\n",
       "    <tr>\n",
       "      <th>13</th>\n",
       "      <td>Machine Learning Seniors</td>\n",
       "      <td>Hyderabad/Secunderabad, New Delhi</td>\n",
       "      <td>Walking Tree Consultancy Services pvt Ltd</td>\n",
       "      <td>2-5 Yrs</td>\n",
       "    </tr>\n",
       "    <tr>\n",
       "      <th>14</th>\n",
       "      <td>Hiring || Data Scientist || North Delhi || 5.5...</td>\n",
       "      <td>Delhi / NCR(Netaji Subhash Place)</td>\n",
       "      <td>Shriram Automall India Limited</td>\n",
       "      <td>4-9 Yrs</td>\n",
       "    </tr>\n",
       "    <tr>\n",
       "      <th>15</th>\n",
       "      <td>Data scientist- Python</td>\n",
       "      <td>Gurgaon/Gurugram</td>\n",
       "      <td>TeamPlus Staffing Solution Pvt Ltd</td>\n",
       "      <td>3-6 Yrs</td>\n",
       "    </tr>\n",
       "    <tr>\n",
       "      <th>16</th>\n",
       "      <td>Data Engineer</td>\n",
       "      <td>Mumbai, New Delhi, Pune</td>\n",
       "      <td>excellence</td>\n",
       "      <td>4-9 Yrs</td>\n",
       "    </tr>\n",
       "    <tr>\n",
       "      <th>17</th>\n",
       "      <td>Dot Net Developer</td>\n",
       "      <td>Delhi / NCR, Gurgaon/Gurugram</td>\n",
       "      <td>Nibha Infotech Private Limited</td>\n",
       "      <td>3-8 Yrs</td>\n",
       "    </tr>\n",
       "    <tr>\n",
       "      <th>18</th>\n",
       "      <td>Data Scientists</td>\n",
       "      <td>Gurgaon/Gurugram</td>\n",
       "      <td>Nibha Infotech Private Limited</td>\n",
       "      <td>5-8 Yrs</td>\n",
       "    </tr>\n",
       "    <tr>\n",
       "      <th>19</th>\n",
       "      <td>Associate Data Scientist - Java/ Scala/ Apache...</td>\n",
       "      <td>Noida</td>\n",
       "      <td>Smart work Consultants</td>\n",
       "      <td>1-4 Yrs</td>\n",
       "    </tr>\n",
       "  </tbody>\n",
       "</table>\n",
       "</div>"
      ],
      "text/plain": [
       "                                                Title  \\\n",
       "0                     DigitalBCG GAMMA Data Scientist   \n",
       "1                     Senior Associate - Data Science   \n",
       "2                    Data Scientist - Noida/Bangalore   \n",
       "3                Data Scientist - Machine learning AI   \n",
       "4                      Data Scientist - MIND Infotech   \n",
       "5                                      Data Scientist   \n",
       "6                   Data Scientist - Engine Algorithm   \n",
       "7                                      Data Scientist   \n",
       "8                                      Data Scientist   \n",
       "9                                        Data Science   \n",
       "10                Data Scientist - Internet Jobs - II   \n",
       "11                                       Data Science   \n",
       "12                                     Data Scientist   \n",
       "13                           Machine Learning Seniors   \n",
       "14  Hiring || Data Scientist || North Delhi || 5.5...   \n",
       "15                             Data scientist- Python   \n",
       "16                                      Data Engineer   \n",
       "17                                  Dot Net Developer   \n",
       "18                                    Data Scientists   \n",
       "19  Associate Data Scientist - Java/ Scala/ Apache...   \n",
       "\n",
       "                                             Location  \\\n",
       "0                      New Delhi, Bangalore/Bengaluru   \n",
       "1   Mumbai, Hyderabad/Secunderabad, Gurgaon/Gurugr...   \n",
       "2                          Noida, Bangalore/Bengaluru   \n",
       "3   Delhi / NCR, Bangalore/Bengaluru, Mumbai (All ...   \n",
       "4                                               Noida   \n",
       "5              Delhi / NCR, Pune, Bangalore/Bengaluru   \n",
       "6   Delhi / NCR, Kolkata, Mumbai, Hyderabad/Secund...   \n",
       "7              Delhi / NCR, Pune, Bangalore/Bengaluru   \n",
       "8   Delhi / NCR, Bangalore/Bengaluru, Mumbai (All ...   \n",
       "9   Delhi / NCR, Noida, Faridabad, Gurgaon/Gurugra...   \n",
       "10  Delhi / NCR, Bangalore/Bengaluru, Mumbai (All ...   \n",
       "11  Delhi / NCR, Noida, Faridabad, Gurgaon/Gurugra...   \n",
       "12                                   Gurgaon/Gurugram   \n",
       "13                  Hyderabad/Secunderabad, New Delhi   \n",
       "14                  Delhi / NCR(Netaji Subhash Place)   \n",
       "15                                   Gurgaon/Gurugram   \n",
       "16                            Mumbai, New Delhi, Pune   \n",
       "17                      Delhi / NCR, Gurgaon/Gurugram   \n",
       "18                                   Gurgaon/Gurugram   \n",
       "19                                              Noida   \n",
       "\n",
       "                                      Company Experience  \n",
       "0                     Boston Consulting Group    2-5 Yrs  \n",
       "1                  Black Turtle India Pvt Ltd    4-7 Yrs  \n",
       "2                                         EXL   5-10 Yrs  \n",
       "3                               Teq Analytics    3-8 Yrs  \n",
       "4    MOTHERSONSUMI INFOTECH & DESIGNS LIMITED    4-8 Yrs  \n",
       "5     Mount Talent Consulting Private Limited    2-4 Yrs  \n",
       "6                                Primo Hiring    1-3 Yrs  \n",
       "7     Mount Talent Consulting Private Limited    2-4 Yrs  \n",
       "8             Sydata Consulting India Pvt Ltd    3-8 Yrs  \n",
       "9     Mount Talent Consulting Private Limited    2-5 Yrs  \n",
       "10                             Jobs Territory    3-6 Yrs  \n",
       "11    Mount Talent Consulting Private Limited    2-5 Yrs  \n",
       "12             Kellton Tech Solutions Limited    3-6 Yrs  \n",
       "13  Walking Tree Consultancy Services pvt Ltd    2-5 Yrs  \n",
       "14             Shriram Automall India Limited    4-9 Yrs  \n",
       "15         TeamPlus Staffing Solution Pvt Ltd    3-6 Yrs  \n",
       "16                                 excellence    4-9 Yrs  \n",
       "17             Nibha Infotech Private Limited    3-8 Yrs  \n",
       "18             Nibha Infotech Private Limited    5-8 Yrs  \n",
       "19                     Smart work Consultants    1-4 Yrs  "
      ]
     },
     "execution_count": 148,
     "metadata": {},
     "output_type": "execute_result"
    }
   ],
   "source": [
    "#Creating a datframe from filtered datas in naukri.com..\n",
    "filter_jobs = pd.DataFrame()\n",
    "filter_jobs[\"Title\"]=filtered_title\n",
    "filter_jobs[\"Location\"]=filtered_loc\n",
    "filter_jobs[\"Company\"]=Comp_Name\n",
    "filter_jobs[\"Experience\"]=Exp_Req\n",
    "filter_jobs"
   ]
  },
  {
   "cell_type": "code",
   "execution_count": 149,
   "id": "bbe19dad",
   "metadata": {},
   "outputs": [
    {
     "data": {
      "text/html": [
       "<div>\n",
       "<style scoped>\n",
       "    .dataframe tbody tr th:only-of-type {\n",
       "        vertical-align: middle;\n",
       "    }\n",
       "\n",
       "    .dataframe tbody tr th {\n",
       "        vertical-align: top;\n",
       "    }\n",
       "\n",
       "    .dataframe thead th {\n",
       "        text-align: right;\n",
       "    }\n",
       "</style>\n",
       "<table border=\"1\" class=\"dataframe\">\n",
       "  <thead>\n",
       "    <tr style=\"text-align: right;\">\n",
       "      <th></th>\n",
       "      <th>Title</th>\n",
       "      <th>Location</th>\n",
       "      <th>Company</th>\n",
       "      <th>Experience</th>\n",
       "    </tr>\n",
       "  </thead>\n",
       "  <tbody>\n",
       "    <tr>\n",
       "      <th>0</th>\n",
       "      <td>DigitalBCG GAMMA Data Scientist</td>\n",
       "      <td>New Delhi, Bangalore/Bengaluru</td>\n",
       "      <td>Boston Consulting Group</td>\n",
       "      <td>2-5 Yrs</td>\n",
       "    </tr>\n",
       "    <tr>\n",
       "      <th>1</th>\n",
       "      <td>Senior Associate - Data Science</td>\n",
       "      <td>Mumbai, Hyderabad/Secunderabad, Gurgaon/Gurugr...</td>\n",
       "      <td>Black Turtle India Pvt Ltd</td>\n",
       "      <td>4-7 Yrs</td>\n",
       "    </tr>\n",
       "    <tr>\n",
       "      <th>2</th>\n",
       "      <td>Data Scientist - Noida/Bangalore</td>\n",
       "      <td>Noida, Bangalore/Bengaluru</td>\n",
       "      <td>EXL</td>\n",
       "      <td>5-10 Yrs</td>\n",
       "    </tr>\n",
       "    <tr>\n",
       "      <th>3</th>\n",
       "      <td>Data Scientist - Machine learning AI</td>\n",
       "      <td>Delhi / NCR, Bangalore/Bengaluru, Mumbai (All ...</td>\n",
       "      <td>Teq Analytics</td>\n",
       "      <td>3-8 Yrs</td>\n",
       "    </tr>\n",
       "    <tr>\n",
       "      <th>4</th>\n",
       "      <td>Data Scientist - MIND Infotech</td>\n",
       "      <td>Noida</td>\n",
       "      <td>MOTHERSONSUMI INFOTECH &amp; DESIGNS LIMITED</td>\n",
       "      <td>4-8 Yrs</td>\n",
       "    </tr>\n",
       "    <tr>\n",
       "      <th>5</th>\n",
       "      <td>Data Scientist</td>\n",
       "      <td>Delhi / NCR, Pune, Bangalore/Bengaluru</td>\n",
       "      <td>Mount Talent Consulting Private Limited</td>\n",
       "      <td>2-4 Yrs</td>\n",
       "    </tr>\n",
       "    <tr>\n",
       "      <th>6</th>\n",
       "      <td>Data Scientist - Engine Algorithm</td>\n",
       "      <td>Delhi / NCR, Kolkata, Mumbai, Hyderabad/Secund...</td>\n",
       "      <td>Primo Hiring</td>\n",
       "      <td>1-3 Yrs</td>\n",
       "    </tr>\n",
       "    <tr>\n",
       "      <th>7</th>\n",
       "      <td>Data Scientist</td>\n",
       "      <td>Delhi / NCR, Pune, Bangalore/Bengaluru</td>\n",
       "      <td>Mount Talent Consulting Private Limited</td>\n",
       "      <td>2-4 Yrs</td>\n",
       "    </tr>\n",
       "    <tr>\n",
       "      <th>8</th>\n",
       "      <td>Data Scientist</td>\n",
       "      <td>Delhi / NCR, Bangalore/Bengaluru, Mumbai (All ...</td>\n",
       "      <td>Sydata Consulting India Pvt Ltd</td>\n",
       "      <td>3-8 Yrs</td>\n",
       "    </tr>\n",
       "    <tr>\n",
       "      <th>9</th>\n",
       "      <td>Data Science</td>\n",
       "      <td>Delhi / NCR, Noida, Faridabad, Gurgaon/Gurugra...</td>\n",
       "      <td>Mount Talent Consulting Private Limited</td>\n",
       "      <td>2-5 Yrs</td>\n",
       "    </tr>\n",
       "  </tbody>\n",
       "</table>\n",
       "</div>"
      ],
      "text/plain": [
       "                                  Title  \\\n",
       "0       DigitalBCG GAMMA Data Scientist   \n",
       "1       Senior Associate - Data Science   \n",
       "2      Data Scientist - Noida/Bangalore   \n",
       "3  Data Scientist - Machine learning AI   \n",
       "4        Data Scientist - MIND Infotech   \n",
       "5                        Data Scientist   \n",
       "6     Data Scientist - Engine Algorithm   \n",
       "7                        Data Scientist   \n",
       "8                        Data Scientist   \n",
       "9                          Data Science   \n",
       "\n",
       "                                            Location  \\\n",
       "0                     New Delhi, Bangalore/Bengaluru   \n",
       "1  Mumbai, Hyderabad/Secunderabad, Gurgaon/Gurugr...   \n",
       "2                         Noida, Bangalore/Bengaluru   \n",
       "3  Delhi / NCR, Bangalore/Bengaluru, Mumbai (All ...   \n",
       "4                                              Noida   \n",
       "5             Delhi / NCR, Pune, Bangalore/Bengaluru   \n",
       "6  Delhi / NCR, Kolkata, Mumbai, Hyderabad/Secund...   \n",
       "7             Delhi / NCR, Pune, Bangalore/Bengaluru   \n",
       "8  Delhi / NCR, Bangalore/Bengaluru, Mumbai (All ...   \n",
       "9  Delhi / NCR, Noida, Faridabad, Gurgaon/Gurugra...   \n",
       "\n",
       "                                    Company Experience  \n",
       "0                   Boston Consulting Group    2-5 Yrs  \n",
       "1                Black Turtle India Pvt Ltd    4-7 Yrs  \n",
       "2                                       EXL   5-10 Yrs  \n",
       "3                             Teq Analytics    3-8 Yrs  \n",
       "4  MOTHERSONSUMI INFOTECH & DESIGNS LIMITED    4-8 Yrs  \n",
       "5   Mount Talent Consulting Private Limited    2-4 Yrs  \n",
       "6                              Primo Hiring    1-3 Yrs  \n",
       "7   Mount Talent Consulting Private Limited    2-4 Yrs  \n",
       "8           Sydata Consulting India Pvt Ltd    3-8 Yrs  \n",
       "9   Mount Talent Consulting Private Limited    2-5 Yrs  "
      ]
     },
     "execution_count": 149,
     "metadata": {},
     "output_type": "execute_result"
    }
   ],
   "source": [
    "filter_jobs[0:10]"
   ]
  },
  {
   "cell_type": "markdown",
   "id": "ac317710",
   "metadata": {},
   "source": [
    "# Ques4"
   ]
  },
  {
   "cell_type": "code",
   "execution_count": 150,
   "id": "d2e01b97",
   "metadata": {},
   "outputs": [],
   "source": [
    "#Getting webdriver:Google Chrome\n",
    "driver = webdriver.Chrome(r'C:\\Users\\Admin\\Downloads\\chromedriver_win32\\chromedriver.exe')"
   ]
  },
  {
   "cell_type": "code",
   "execution_count": 151,
   "id": "2091a249",
   "metadata": {},
   "outputs": [],
   "source": [
    "#Getting the url:flipkart..\n",
    "url='https://www.flipkart.com/'\n",
    "driver.get(url)"
   ]
  },
  {
   "cell_type": "code",
   "execution_count": 153,
   "id": "ec0158b1",
   "metadata": {},
   "outputs": [
    {
     "data": {
      "text/plain": [
       "<selenium.webdriver.remote.webelement.WebElement (session=\"879eb14414b76a07d8f0960ee5827420\", element=\"a1d6045a-bcf3-497f-bcd4-2b001ea464fa\")>"
      ]
     },
     "execution_count": 153,
     "metadata": {},
     "output_type": "execute_result"
    }
   ],
   "source": [
    "search_glasses = driver.find_element(By.CLASS_NAME,\"_3704LK\")\n",
    "search_glasses"
   ]
  },
  {
   "cell_type": "code",
   "execution_count": 154,
   "id": "f81dd2b6",
   "metadata": {},
   "outputs": [],
   "source": [
    "#Entering sunglasses in Searchbox...\n",
    "search_glasses.send_keys(\"sunglasses\")"
   ]
  },
  {
   "cell_type": "code",
   "execution_count": 155,
   "id": "8b50a894",
   "metadata": {},
   "outputs": [
    {
     "data": {
      "text/plain": [
       "<selenium.webdriver.remote.webelement.WebElement (session=\"879eb14414b76a07d8f0960ee5827420\", element=\"cda0623f-8b21-47ba-a009-cbd927c956c1\")>"
      ]
     },
     "execution_count": 155,
     "metadata": {},
     "output_type": "execute_result"
    }
   ],
   "source": [
    "search_flip = driver.find_element(By.XPATH,\"/html/body/div[1]/div/div[1]/div[1]/div[2]/div[2]/form/div/button\")\n",
    "search_flip"
   ]
  },
  {
   "cell_type": "code",
   "execution_count": 156,
   "id": "d3ef1b8c",
   "metadata": {},
   "outputs": [],
   "source": [
    "#Clicking the Search icon..\n",
    "search_flip.click()"
   ]
  },
  {
   "cell_type": "code",
   "execution_count": 157,
   "id": "e266a908",
   "metadata": {},
   "outputs": [
    {
     "data": {
      "text/plain": [
       "40"
      ]
     },
     "execution_count": 157,
     "metadata": {},
     "output_type": "execute_result"
    }
   ],
   "source": [
    "sunglass = driver.find_elements(By.XPATH,'//div[@class=\"_2WkVRV\"]')\n",
    "len(sunglass) "
   ]
  },
  {
   "cell_type": "code",
   "execution_count": 159,
   "id": "924c2dbe",
   "metadata": {},
   "outputs": [
    {
     "data": {
      "text/plain": [
       "40"
      ]
     },
     "execution_count": 159,
     "metadata": {},
     "output_type": "execute_result"
    }
   ],
   "source": [
    "glass_brand=[]\n",
    "for i in sunglass:\n",
    "    glass_brand.append(i.text)\n",
    "len(glass_brand)    "
   ]
  },
  {
   "cell_type": "code",
   "execution_count": 160,
   "id": "3c29b62f",
   "metadata": {},
   "outputs": [
    {
     "data": {
      "text/plain": [
       "['PIRASO',\n",
       " 'PIRASO',\n",
       " 'DAHAAZIL',\n",
       " 'Fastrack',\n",
       " 'New Specs',\n",
       " 'SRPM',\n",
       " 'PIRASO',\n",
       " 'PIRASO',\n",
       " 'Elligator',\n",
       " 'SUNBEE',\n",
       " 'SUNBEE',\n",
       " 'PIRASO',\n",
       " 'SHAAH COLLECTIONS',\n",
       " 'Fastrack',\n",
       " 'PIRASO',\n",
       " 'ROZZETTA CRAFT',\n",
       " 'Fastrack',\n",
       " 'PIRASO',\n",
       " 'Lee Topper',\n",
       " 'PIRASO',\n",
       " 'PIRASO',\n",
       " 'Lee Topper',\n",
       " 'PIRASO',\n",
       " 'ROZZETTA CRAFT',\n",
       " 'PIRASO',\n",
       " 'Fastrack',\n",
       " 'ROZZETTA CRAFT',\n",
       " 'Singco India',\n",
       " 'New Specs',\n",
       " 'Sewell',\n",
       " 'ROZZETTA CRAFT',\n",
       " 'DEIXELS',\n",
       " 'SHAAH COLLECTIONS',\n",
       " 'ROZZETTA CRAFT',\n",
       " 'SRPM',\n",
       " 'VINCENT CHASE',\n",
       " 'Mi',\n",
       " 'PIRASO',\n",
       " 'LIZA ANGEL',\n",
       " 'ROZZETTA CRAFT']"
      ]
     },
     "execution_count": 160,
     "metadata": {},
     "output_type": "execute_result"
    }
   ],
   "source": [
    "#Getting brand name of the glass in firstpage...\n",
    "glass_brand"
   ]
  },
  {
   "cell_type": "code",
   "execution_count": 161,
   "id": "8ea4a9b7",
   "metadata": {},
   "outputs": [
    {
     "data": {
      "text/plain": [
       "40"
      ]
     },
     "execution_count": 161,
     "metadata": {},
     "output_type": "execute_result"
    }
   ],
   "source": [
    "glass_product = driver.find_elements(By.XPATH,'//a[@class=\"IRpwTa\"]')\n",
    "len(glass_product)"
   ]
  },
  {
   "cell_type": "code",
   "execution_count": 162,
   "id": "cf8b08e1",
   "metadata": {},
   "outputs": [
    {
     "data": {
      "text/plain": [
       "40"
      ]
     },
     "execution_count": 162,
     "metadata": {},
     "output_type": "execute_result"
    }
   ],
   "source": [
    "product=[]\n",
    "for i in glass_product:\n",
    "    product.append(i.text)\n",
    "len(product) "
   ]
  },
  {
   "cell_type": "code",
   "execution_count": 163,
   "id": "7663a182",
   "metadata": {},
   "outputs": [
    {
     "data": {
      "text/plain": [
       "['UV Protection Butterfly Sunglasses (60)',\n",
       " 'UV Protection Over-sized Sunglasses (64)',\n",
       " 'UV Protection, Night Vision, Riding Glasses Wayfarer, W...',\n",
       " 'UV Protection Rectangular Sunglasses (Free Size)',\n",
       " 'UV Protection Rectangular Sunglasses (Free Size)',\n",
       " 'UV Protection Wayfarer Sunglasses (50)',\n",
       " 'UV Protection Aviator Sunglasses (54)',\n",
       " 'UV Protection Rectangular, Over-sized Sunglasses (Free ...',\n",
       " 'UV Protection Round Sunglasses (54)',\n",
       " 'UV Protection, Polarized Wayfarer Sunglasses (Free Size...',\n",
       " 'UV Protection, Polarized, Mirrored Retro Square Sunglas...',\n",
       " 'UV Protection Over-sized Sunglasses (64)',\n",
       " 'UV Protection, Polarized, Mirrored Rectangular Sunglass...',\n",
       " 'UV Protection Wayfarer Sunglasses (Free Size)',\n",
       " 'UV Protection Aviator Sunglasses (54)',\n",
       " 'UV Protection, Gradient Round Sunglasses (Free Size)',\n",
       " 'UV Protection Aviator Sunglasses (Free Size)',\n",
       " 'UV Protection Aviator Sunglasses (58)',\n",
       " 'UV Protection Cat-eye Sunglasses (Free Size)',\n",
       " 'UV Protection Butterfly Sunglasses (60)',\n",
       " 'UV Protection Rectangular Sunglasses (52)',\n",
       " 'Riding Glasses Wrap-around Sunglasses (Free Size)',\n",
       " 'UV Protection Wayfarer Sunglasses (32)',\n",
       " 'UV Protection Spectacle Sunglasses (Free Size)',\n",
       " 'UV Protection Aviator Sunglasses (54)',\n",
       " 'Gradient, UV Protection Wayfarer Sunglasses (Free Size)',\n",
       " 'Polarized, Riding Glasses Sports, Wrap-around Sunglasse...',\n",
       " 'Riding Glasses, UV Protection, Others Aviator Sunglasse...',\n",
       " 'Mirrored, UV Protection, Riding Glasses, Others Round S...',\n",
       " 'Mirrored, Night Vision, UV Protection, Riding Glasses S...',\n",
       " 'UV Protection, Gradient Retro Square Sunglasses (Free S...',\n",
       " 'UV Protection Aviator Sunglasses (Free Size)',\n",
       " 'UV Protection Round Sunglasses (Free Size)',\n",
       " 'UV Protection Rectangular Sunglasses (Free Size)',\n",
       " 'Others Wayfarer, Retro Square Sunglasses (50)',\n",
       " 'by Lenskart Polarized, UV Protection Rectangular Sungla...',\n",
       " 'Polarized Aviator Sunglasses (Free Size)',\n",
       " 'UV Protection Over-sized Sunglasses (65)',\n",
       " 'UV Protection, Night Vision, Riding Glasses Round Sungl...',\n",
       " 'UV Protection Aviator Sunglasses (62)']"
      ]
     },
     "execution_count": 163,
     "metadata": {},
     "output_type": "execute_result"
    }
   ],
   "source": [
    "#Getting product description of the glass in 1st page...\n",
    "product"
   ]
  },
  {
   "cell_type": "code",
   "execution_count": 164,
   "id": "b1844cbd",
   "metadata": {},
   "outputs": [
    {
     "data": {
      "text/plain": [
       "40"
      ]
     },
     "execution_count": 164,
     "metadata": {},
     "output_type": "execute_result"
    }
   ],
   "source": [
    "glass_price = driver.find_elements(By.XPATH,'//div[@class=\"_30jeq3\"]')\n",
    "len(glass_price)"
   ]
  },
  {
   "cell_type": "code",
   "execution_count": 165,
   "id": "cd0e3898",
   "metadata": {},
   "outputs": [
    {
     "data": {
      "text/plain": [
       "40"
      ]
     },
     "execution_count": 165,
     "metadata": {},
     "output_type": "execute_result"
    }
   ],
   "source": [
    "price=[]\n",
    "for i in glass_price:\n",
    "    price.append(i.text)\n",
    "len(price) "
   ]
  },
  {
   "cell_type": "code",
   "execution_count": 166,
   "id": "030f85a4",
   "metadata": {},
   "outputs": [
    {
     "data": {
      "text/plain": [
       "['₹439',\n",
       " '₹439',\n",
       " '₹177',\n",
       " '₹639',\n",
       " '₹264',\n",
       " '₹224',\n",
       " '₹224',\n",
       " '₹368',\n",
       " '₹315',\n",
       " '₹283',\n",
       " '₹259',\n",
       " '₹439',\n",
       " '₹195',\n",
       " '₹799',\n",
       " '₹224',\n",
       " '₹399',\n",
       " '₹639',\n",
       " '₹359',\n",
       " '₹229',\n",
       " '₹439',\n",
       " '₹306',\n",
       " '₹299',\n",
       " '₹226',\n",
       " '₹399',\n",
       " '₹246',\n",
       " '₹719',\n",
       " '₹499',\n",
       " '₹232',\n",
       " '₹299',\n",
       " '₹265',\n",
       " '₹349',\n",
       " '₹224',\n",
       " '₹279',\n",
       " '₹319',\n",
       " '₹219',\n",
       " '₹749',\n",
       " '₹839',\n",
       " '₹359',\n",
       " '₹199',\n",
       " '₹649']"
      ]
     },
     "execution_count": 166,
     "metadata": {},
     "output_type": "execute_result"
    }
   ],
   "source": [
    "#Getting price of the glass in 1st apge..\n",
    "price"
   ]
  },
  {
   "cell_type": "code",
   "execution_count": 167,
   "id": "15b3c791",
   "metadata": {},
   "outputs": [
    {
     "data": {
      "text/plain": [
       "<selenium.webdriver.remote.webelement.WebElement (session=\"879eb14414b76a07d8f0960ee5827420\", element=\"ec116258-1e52-4e52-a2e1-823faacad67a\")>"
      ]
     },
     "execution_count": 167,
     "metadata": {},
     "output_type": "execute_result"
    }
   ],
   "source": [
    "next_flip = driver.find_element(By.XPATH,\"/html/body/div[1]/div/div[3]/div[1]/div[2]/div[12]/div/div/nav/a[11]\")\n",
    "next_flip"
   ]
  },
  {
   "cell_type": "code",
   "execution_count": 168,
   "id": "4da3ebd1",
   "metadata": {},
   "outputs": [],
   "source": [
    "next_flip.click()"
   ]
  },
  {
   "cell_type": "code",
   "execution_count": 170,
   "id": "852a13b1",
   "metadata": {},
   "outputs": [
    {
     "data": {
      "text/plain": [
       "40"
      ]
     },
     "execution_count": 170,
     "metadata": {},
     "output_type": "execute_result"
    }
   ],
   "source": [
    "page2_brand = driver.find_elements(By.XPATH,'//div[@class=\"_2WkVRV\"]')\n",
    "len(page2_brand)"
   ]
  },
  {
   "cell_type": "code",
   "execution_count": 171,
   "id": "3282f703",
   "metadata": {},
   "outputs": [
    {
     "data": {
      "text/plain": [
       "40"
      ]
     },
     "execution_count": 171,
     "metadata": {},
     "output_type": "execute_result"
    }
   ],
   "source": [
    "page2brand=[]\n",
    "for i in page2_brand:\n",
    "    page2brand.append(i.text)\n",
    "len(page2brand)"
   ]
  },
  {
   "cell_type": "code",
   "execution_count": 172,
   "id": "76408f8d",
   "metadata": {},
   "outputs": [
    {
     "data": {
      "text/plain": [
       "['SUNBEE',\n",
       " 'SRPM',\n",
       " 'Fastrack',\n",
       " 'PIRASO',\n",
       " 'Fastrack',\n",
       " 'AISLIN',\n",
       " 'Lee Topper',\n",
       " 'PIRASO',\n",
       " 'NuVew',\n",
       " 'Fastrack',\n",
       " 'PIRASO',\n",
       " 'PIRASO',\n",
       " 'LIZA ANGEL',\n",
       " 'CRYSTAL CART',\n",
       " 'DEIXELS',\n",
       " 'PIRASO',\n",
       " 'ROZZETTA CRAFT',\n",
       " 'Elligator',\n",
       " 'ROYAL SON',\n",
       " 'PIRASO',\n",
       " 'VINCENT CHASE',\n",
       " 'ROYAL SON',\n",
       " 'Fastrack',\n",
       " 'PIRASO',\n",
       " 'PHENOMENAL',\n",
       " 'kingsunglasses',\n",
       " 'Silver Kartz',\n",
       " 'ROZZETTA CRAFT',\n",
       " 'New Specs',\n",
       " 'CRYSTAL CART',\n",
       " 'PIRASO',\n",
       " 'PIRASO',\n",
       " 'Fastrack',\n",
       " 'kingsunglasses',\n",
       " 'kingsunglasses',\n",
       " 'PIRASO',\n",
       " 'kingsunglasses',\n",
       " 'Singco India',\n",
       " 'ROZZETTA CRAFT',\n",
       " 'ROZZETTA CRAFT']"
      ]
     },
     "execution_count": 172,
     "metadata": {},
     "output_type": "execute_result"
    }
   ],
   "source": [
    "#Getting brand of the glass in 2nd apge..\n",
    "page2brand"
   ]
  },
  {
   "cell_type": "code",
   "execution_count": 173,
   "id": "bc2e74e6",
   "metadata": {},
   "outputs": [
    {
     "data": {
      "text/plain": [
       "40"
      ]
     },
     "execution_count": 173,
     "metadata": {},
     "output_type": "execute_result"
    }
   ],
   "source": [
    "page2_product = driver.find_elements(By.XPATH,'//a[@class=\"IRpwTa\"]')\n",
    "len(page2_product)"
   ]
  },
  {
   "cell_type": "code",
   "execution_count": 174,
   "id": "97d9acbb",
   "metadata": {},
   "outputs": [
    {
     "data": {
      "text/plain": [
       "40"
      ]
     },
     "execution_count": 174,
     "metadata": {},
     "output_type": "execute_result"
    }
   ],
   "source": [
    "page2product=[]\n",
    "for i in page2_product:\n",
    "    page2product.append(i.text)\n",
    "len(page2product)"
   ]
  },
  {
   "cell_type": "code",
   "execution_count": 175,
   "id": "7cf1a487",
   "metadata": {},
   "outputs": [
    {
     "data": {
      "text/plain": [
       "['UV Protection, Polarized, Mirrored Wayfarer Sunglasses ...',\n",
       " 'UV Protection Wayfarer Sunglasses (53)',\n",
       " 'UV Protection Wayfarer Sunglasses (Free Size)',\n",
       " 'UV Protection Butterfly Sunglasses (60)',\n",
       " 'UV Protection Wayfarer Sunglasses (Free Size)',\n",
       " 'UV Protection, Gradient Butterfly, Retro Square Sunglas...',\n",
       " 'UV Protection Rectangular Sunglasses (Free Size)',\n",
       " 'UV Protection Over-sized Sunglasses (64)',\n",
       " 'UV Protection Sports Sunglasses (62)',\n",
       " 'Gradient, UV Protection Wayfarer Sunglasses (Free Size)',\n",
       " 'UV Protection Aviator Sunglasses (55)',\n",
       " 'UV Protection Rectangular, Over-sized Sunglasses (Free ...',\n",
       " 'Riding Glasses, Night Vision Spectacle Sunglasses (Fre...',\n",
       " 'Mirrored, Night Vision Oval Sunglasses (Free Size)',\n",
       " 'UV Protection Aviator Sunglasses (Free Size)',\n",
       " 'UV Protection Over-sized Sunglasses (64)',\n",
       " 'UV Protection, Gradient Rectangular Sunglasses (Free Si...',\n",
       " 'UV Protection Round Sunglasses (53)',\n",
       " 'Mirrored Aviator Sunglasses (Free Size)',\n",
       " 'UV Protection Aviator Sunglasses (54)',\n",
       " 'by Lenskart Polarized, UV Protection Wayfarer Sunglasse...',\n",
       " 'Mirrored Aviator Sunglasses (55)',\n",
       " 'UV Protection Aviator Sunglasses (58)',\n",
       " 'UV Protection Wayfarer Sunglasses (32)',\n",
       " 'UV Protection Retro Square Sunglasses (Free Size)',\n",
       " 'UV Protection Round Sunglasses (54)',\n",
       " 'UV Protection Wayfarer Sunglasses (Free Size)',\n",
       " 'UV Protection, Gradient Round Sunglasses (Free Size)',\n",
       " 'UV Protection Round Sunglasses (Free Size)',\n",
       " 'Polarized, UV Protection, Mirrored, Gradient Rectangula...',\n",
       " 'UV Protection Aviator Sunglasses (54)',\n",
       " 'UV Protection Over-sized Sunglasses (65)',\n",
       " 'Mirrored, UV Protection Wayfarer Sunglasses (Free Size)',\n",
       " 'UV Protection, Mirrored Aviator Sunglasses (Free Size)',\n",
       " 'UV Protection Round Sunglasses (Free Size)',\n",
       " 'UV Protection Butterfly Sunglasses (60)',\n",
       " 'UV Protection Rectangular Sunglasses (55)',\n",
       " 'Gradient, Toughened Glass Lens, UV Protection Retro Squ...',\n",
       " 'UV Protection Retro Square Sunglasses (Free Size)',\n",
       " 'UV Protection Spectacle Sunglasses (Free Size)']"
      ]
     },
     "execution_count": 175,
     "metadata": {},
     "output_type": "execute_result"
    }
   ],
   "source": [
    "#Getting product description of the glass in 2nd apge..\n",
    "page2product"
   ]
  },
  {
   "cell_type": "code",
   "execution_count": 176,
   "id": "e6c279b7",
   "metadata": {},
   "outputs": [
    {
     "data": {
      "text/plain": [
       "40"
      ]
     },
     "execution_count": 176,
     "metadata": {},
     "output_type": "execute_result"
    }
   ],
   "source": [
    "page2_price = driver.find_elements(By.XPATH,'//div[@class=\"_30jeq3\"]')\n",
    "len(page2_price)"
   ]
  },
  {
   "cell_type": "code",
   "execution_count": 177,
   "id": "62be7703",
   "metadata": {},
   "outputs": [
    {
     "data": {
      "text/plain": [
       "40"
      ]
     },
     "execution_count": 177,
     "metadata": {},
     "output_type": "execute_result"
    }
   ],
   "source": [
    "page2price=[]\n",
    "for i in page2_price:\n",
    "    page2price.append(i.text)\n",
    "len(page2price)"
   ]
  },
  {
   "cell_type": "code",
   "execution_count": 178,
   "id": "76cc0637",
   "metadata": {},
   "outputs": [
    {
     "data": {
      "text/plain": [
       "['₹283',\n",
       " '₹249',\n",
       " '₹759',\n",
       " '₹439',\n",
       " '₹759',\n",
       " '₹498',\n",
       " '₹219',\n",
       " '₹439',\n",
       " '₹345',\n",
       " '₹719',\n",
       " '₹246',\n",
       " '₹368',\n",
       " '₹189',\n",
       " '₹189',\n",
       " '₹224',\n",
       " '₹439',\n",
       " '₹399',\n",
       " '₹219',\n",
       " '₹379',\n",
       " '₹224',\n",
       " '₹749',\n",
       " '₹379',\n",
       " '₹1,039',\n",
       " '₹226',\n",
       " '₹369',\n",
       " '₹214',\n",
       " '₹288',\n",
       " '₹399',\n",
       " '₹268',\n",
       " '₹529',\n",
       " '₹223',\n",
       " '₹359',\n",
       " '₹899',\n",
       " '₹269',\n",
       " '₹329',\n",
       " '₹439',\n",
       " '₹189',\n",
       " '₹598',\n",
       " '₹499',\n",
       " '₹399']"
      ]
     },
     "execution_count": 178,
     "metadata": {},
     "output_type": "execute_result"
    }
   ],
   "source": [
    "#Getting price of the glass in 2nd apge..\n",
    "page2price"
   ]
  },
  {
   "cell_type": "code",
   "execution_count": 179,
   "id": "a6e244e9",
   "metadata": {},
   "outputs": [],
   "source": [
    "next_flip.click()"
   ]
  },
  {
   "cell_type": "code",
   "execution_count": 180,
   "id": "8ba65d08",
   "metadata": {},
   "outputs": [
    {
     "data": {
      "text/plain": [
       "40"
      ]
     },
     "execution_count": 180,
     "metadata": {},
     "output_type": "execute_result"
    }
   ],
   "source": [
    "page3_brand = driver.find_elements(By.XPATH,'//div[@class=\"_2WkVRV\"]')\n",
    "len(page3_brand)"
   ]
  },
  {
   "cell_type": "code",
   "execution_count": 181,
   "id": "0b67703f",
   "metadata": {},
   "outputs": [
    {
     "data": {
      "text/plain": [
       "40"
      ]
     },
     "execution_count": 181,
     "metadata": {},
     "output_type": "execute_result"
    }
   ],
   "source": [
    "page3brand=[]\n",
    "for i in page3_brand:\n",
    "    page3brand.append(i.text)\n",
    "len(page3brand)"
   ]
  },
  {
   "cell_type": "code",
   "execution_count": 185,
   "id": "07066281",
   "metadata": {},
   "outputs": [
    {
     "data": {
      "text/plain": [
       "['ROYAL SON',\n",
       " 'Lee Topper',\n",
       " 'VINCENT CHASE',\n",
       " 'PIRASO',\n",
       " 'kingsunglasses',\n",
       " 'SRPM',\n",
       " 'ROYAL SON',\n",
       " 'PIRASO',\n",
       " 'Fastrack',\n",
       " 'Singco India',\n",
       " 'kingsunglasses',\n",
       " 'PIRASO',\n",
       " 'Fastrack',\n",
       " 'kingsunglasses',\n",
       " 'Rich Club',\n",
       " 'PIRASO',\n",
       " 'Lee Topper',\n",
       " 'kingsunglasses',\n",
       " 'Fastrack',\n",
       " 'PIRASO']"
      ]
     },
     "execution_count": 185,
     "metadata": {},
     "output_type": "execute_result"
    }
   ],
   "source": [
    "#Getting first 20 brand name of the glass in 3rd apge..\n",
    "page3brand[0:20]"
   ]
  },
  {
   "cell_type": "code",
   "execution_count": 186,
   "id": "68ebf78a",
   "metadata": {},
   "outputs": [
    {
     "data": {
      "text/plain": [
       "40"
      ]
     },
     "execution_count": 186,
     "metadata": {},
     "output_type": "execute_result"
    }
   ],
   "source": [
    "page3_product = driver.find_elements(By.XPATH,'//a[@class=\"IRpwTa\"]')\n",
    "len(page3_product)"
   ]
  },
  {
   "cell_type": "code",
   "execution_count": 187,
   "id": "2cc41aec",
   "metadata": {},
   "outputs": [
    {
     "data": {
      "text/plain": [
       "40"
      ]
     },
     "execution_count": 187,
     "metadata": {},
     "output_type": "execute_result"
    }
   ],
   "source": [
    "page3product=[]\n",
    "for i in page3_product:\n",
    "    page3product.append(i.text)\n",
    "len(page3product)"
   ]
  },
  {
   "cell_type": "code",
   "execution_count": 188,
   "id": "3f50a690",
   "metadata": {},
   "outputs": [
    {
     "data": {
      "text/plain": [
       "['Mirrored Aviator Sunglasses (58)',\n",
       " 'UV Protection Round Sunglasses (Free Size)',\n",
       " 'by Lenskart Polarized, UV Protection Rectangular Sungla...',\n",
       " 'UV Protection Butterfly Sunglasses (60)',\n",
       " 'Mirrored, UV Protection Wayfarer Sunglasses (Free Size)',\n",
       " 'Night Vision, UV Protection Round Sunglasses (54)',\n",
       " 'Mirrored Aviator Sunglasses (55)',\n",
       " 'UV Protection Aviator Sunglasses (55)',\n",
       " 'UV Protection Shield Sunglasses (Free Size)',\n",
       " 'Gradient, Toughened Glass Lens, UV Protection Retro Squ...',\n",
       " 'UV Protection, Riding Glasses, Mirrored Wayfarer Sungla...',\n",
       " 'UV Protection Over-sized Sunglasses (64)',\n",
       " 'UV Protection Shield Sunglasses (Free Size)',\n",
       " 'Mirrored, UV Protection Wayfarer, Rectangular Sunglasse...',\n",
       " 'UV Protection Retro Square Sunglasses (54)',\n",
       " 'UV Protection Rectangular, Over-sized Sunglasses (Free ...',\n",
       " 'Riding Glasses, Night Vision Wrap-around Sunglasses (Fr...',\n",
       " 'UV Protection Rectangular Sunglasses (55)',\n",
       " 'UV Protection Wayfarer Sunglasses (55)',\n",
       " 'UV Protection Over-sized Sunglasses (64)']"
      ]
     },
     "execution_count": 188,
     "metadata": {},
     "output_type": "execute_result"
    }
   ],
   "source": [
    "#Getting first 20 product description of the glass in 3rd apge..\n",
    "page3product[0:20]"
   ]
  },
  {
   "cell_type": "code",
   "execution_count": 189,
   "id": "4661bf0c",
   "metadata": {},
   "outputs": [
    {
     "data": {
      "text/plain": [
       "40"
      ]
     },
     "execution_count": 189,
     "metadata": {},
     "output_type": "execute_result"
    }
   ],
   "source": [
    "page3_price = driver.find_elements(By.XPATH,'//div[@class=\"_30jeq3\"]')\n",
    "len(page3_price)"
   ]
  },
  {
   "cell_type": "code",
   "execution_count": 190,
   "id": "6e72e309",
   "metadata": {},
   "outputs": [
    {
     "data": {
      "text/plain": [
       "40"
      ]
     },
     "execution_count": 190,
     "metadata": {},
     "output_type": "execute_result"
    }
   ],
   "source": [
    "page3price=[]\n",
    "for i in page3_price:\n",
    "    page3price.append(i.text)\n",
    "len(page3price)"
   ]
  },
  {
   "cell_type": "code",
   "execution_count": 191,
   "id": "32d64d42",
   "metadata": {},
   "outputs": [
    {
     "data": {
      "text/plain": [
       "['₹379',\n",
       " '₹245',\n",
       " '₹749',\n",
       " '₹439',\n",
       " '₹269',\n",
       " '₹233',\n",
       " '₹379',\n",
       " '₹246',\n",
       " '₹719',\n",
       " '₹664',\n",
       " '₹213',\n",
       " '₹439',\n",
       " '₹809',\n",
       " '₹289',\n",
       " '₹265',\n",
       " '₹368',\n",
       " '₹276',\n",
       " '₹269',\n",
       " '₹735',\n",
       " '₹439']"
      ]
     },
     "execution_count": 191,
     "metadata": {},
     "output_type": "execute_result"
    }
   ],
   "source": [
    "#Getting first 20 price of the glass in 3rd apge..\n",
    "page3price[0:20]"
   ]
  },
  {
   "cell_type": "markdown",
   "id": "d6cd70f0",
   "metadata": {},
   "source": [
    "# Quest5"
   ]
  },
  {
   "cell_type": "code",
   "execution_count": 251,
   "id": "ca6e194e",
   "metadata": {},
   "outputs": [],
   "source": [
    "#Gettin webdriver Google chromne...\n",
    "driver = webdriver.Chrome(r'C:\\Users\\Admin\\Downloads\\chromedriver_win32\\chromedriver.exe')"
   ]
  },
  {
   "cell_type": "code",
   "execution_count": 252,
   "id": "2183619d",
   "metadata": {},
   "outputs": [],
   "source": [
    "#Gettinf url as flipkart.com...\n",
    "url='https://www.flipkart.com/'\n",
    "driver.get(url)"
   ]
  },
  {
   "cell_type": "code",
   "execution_count": 253,
   "id": "9ee2bda2",
   "metadata": {},
   "outputs": [
    {
     "data": {
      "text/plain": [
       "<selenium.webdriver.remote.webelement.WebElement (session=\"32a943c628903f793ed691c894b20ce2\", element=\"a651be38-e275-43ed-b6b2-6a65c9a81013\")>"
      ]
     },
     "execution_count": 253,
     "metadata": {},
     "output_type": "execute_result"
    }
   ],
   "source": [
    "search_iphone11 = driver.find_element(By.CLASS_NAME,\"_3704LK\")\n",
    "search_iphone11"
   ]
  },
  {
   "cell_type": "code",
   "execution_count": 254,
   "id": "ce724f08",
   "metadata": {},
   "outputs": [],
   "source": [
    "#Entering iphone11 in search box..\n",
    "search_iphone11.send_keys(\"iphone11\")"
   ]
  },
  {
   "cell_type": "code",
   "execution_count": 255,
   "id": "0f16af36",
   "metadata": {},
   "outputs": [
    {
     "data": {
      "text/plain": [
       "<selenium.webdriver.remote.webelement.WebElement (session=\"32a943c628903f793ed691c894b20ce2\", element=\"d4068362-b66d-48c0-a38c-b4e4757e0f3e\")>"
      ]
     },
     "execution_count": 255,
     "metadata": {},
     "output_type": "execute_result"
    }
   ],
   "source": [
    "search_kart = driver.find_element(By.XPATH,\"/html/body/div[1]/div/div[1]/div[1]/div[2]/div[2]/form/div/button\")\n",
    "search_kart"
   ]
  },
  {
   "cell_type": "code",
   "execution_count": 256,
   "id": "d09b06e3",
   "metadata": {},
   "outputs": [],
   "source": [
    "#clicking search icon..\n",
    "search_kart.click()"
   ]
  },
  {
   "cell_type": "code",
   "execution_count": 258,
   "id": "471321f1",
   "metadata": {},
   "outputs": [
    {
     "data": {
      "text/plain": [
       "24"
      ]
     },
     "execution_count": 258,
     "metadata": {},
     "output_type": "execute_result"
    }
   ],
   "source": [
    "iphone = driver.find_elements(By.XPATH,'//span[@ class=\"_1lRcqv\"]')\n",
    "len(iphone)"
   ]
  },
  {
   "cell_type": "code",
   "execution_count": 259,
   "id": "77eabfef",
   "metadata": {},
   "outputs": [
    {
     "data": {
      "text/plain": [
       "24"
      ]
     },
     "execution_count": 259,
     "metadata": {},
     "output_type": "execute_result"
    }
   ],
   "source": [
    "iphone_ratings=[]\n",
    "for i in iphone:\n",
    "    iphone_ratings.append(i.text)\n",
    "len(iphone_ratings)"
   ]
  },
  {
   "cell_type": "code",
   "execution_count": 260,
   "id": "de5a0b7e",
   "metadata": {},
   "outputs": [
    {
     "data": {
      "text/plain": [
       "['4.6',\n",
       " '4.6',\n",
       " '4.6',\n",
       " '4.6',\n",
       " '4.6',\n",
       " '4.6',\n",
       " '4.6',\n",
       " '4.6',\n",
       " '4.6',\n",
       " '4.6',\n",
       " '4.6',\n",
       " '4.6',\n",
       " '4.7',\n",
       " '4.4',\n",
       " '4.4',\n",
       " '4.4',\n",
       " '4.7',\n",
       " '4.7',\n",
       " '4.6',\n",
       " '4.6',\n",
       " '4.6',\n",
       " '4.6',\n",
       " '4.7',\n",
       " '4.7']"
      ]
     },
     "execution_count": 260,
     "metadata": {},
     "output_type": "execute_result"
    }
   ],
   "source": [
    "#Getting first 24 ratings of the iphone11 in 1st apge..\n",
    "iphone_ratings"
   ]
  },
  {
   "cell_type": "code",
   "execution_count": null,
   "id": "521e8729",
   "metadata": {},
   "outputs": [],
   "source": []
  },
  {
   "cell_type": "code",
   "execution_count": null,
   "id": "d477a278",
   "metadata": {},
   "outputs": [],
   "source": []
  },
  {
   "cell_type": "code",
   "execution_count": null,
   "id": "eecc333f",
   "metadata": {},
   "outputs": [],
   "source": []
  },
  {
   "cell_type": "code",
   "execution_count": null,
   "id": "a8a3de18",
   "metadata": {},
   "outputs": [],
   "source": []
  },
  {
   "cell_type": "markdown",
   "id": "5adf787c",
   "metadata": {},
   "source": [
    "# ques6"
   ]
  },
  {
   "cell_type": "code",
   "execution_count": 96,
   "id": "b7b58a5d",
   "metadata": {},
   "outputs": [],
   "source": [
    "#Getting gogle chrome as webdriver....\n",
    "driver = webdriver.Chrome(r'C:\\Users\\Admin\\Downloads\\chromedriver_win32\\chromedriver.exe')"
   ]
  },
  {
   "cell_type": "code",
   "execution_count": 97,
   "id": "3d85babb",
   "metadata": {},
   "outputs": [],
   "source": [
    "#Getting flipkart as url...\n",
    "url='https://www.flipkart.com/'\n",
    "driver.get(url)"
   ]
  },
  {
   "cell_type": "code",
   "execution_count": 98,
   "id": "257d8cc4",
   "metadata": {},
   "outputs": [
    {
     "data": {
      "text/plain": [
       "<selenium.webdriver.remote.webelement.WebElement (session=\"777ef385f56cf61655cf3d91fe2a8fe2\", element=\"c72fadb5-ada7-43e1-8db7-071309e99b09\")>"
      ]
     },
     "execution_count": 98,
     "metadata": {},
     "output_type": "execute_result"
    }
   ],
   "source": [
    "search_shoes = driver.find_element(By.CLASS_NAME,\"_3704LK\")\n",
    "search_shoes"
   ]
  },
  {
   "cell_type": "code",
   "execution_count": 99,
   "id": "d31afe5f",
   "metadata": {},
   "outputs": [],
   "source": [
    "#Entering Sneakers shoes in search box..\n",
    "search_shoes.send_keys(\"sneakers\")"
   ]
  },
  {
   "cell_type": "code",
   "execution_count": 102,
   "id": "816c7cb4",
   "metadata": {},
   "outputs": [
    {
     "data": {
      "text/plain": [
       "<selenium.webdriver.remote.webelement.WebElement (session=\"777ef385f56cf61655cf3d91fe2a8fe2\", element=\"19881187-8e6f-4ec2-a5a6-345291c18882\")>"
      ]
     },
     "execution_count": 102,
     "metadata": {},
     "output_type": "execute_result"
    }
   ],
   "source": [
    "search_sneakers = driver.find_element(By.XPATH,\"/html/body/div[1]/div/div[1]/div[1]/div[2]/div[2]/form/div/button\")\n",
    "search_sneakers"
   ]
  },
  {
   "cell_type": "code",
   "execution_count": 103,
   "id": "58373be6",
   "metadata": {},
   "outputs": [],
   "source": [
    "#Clicking search icon..\n",
    "search_sneakers.click()"
   ]
  },
  {
   "cell_type": "code",
   "execution_count": 104,
   "id": "570890af",
   "metadata": {},
   "outputs": [
    {
     "data": {
      "text/plain": [
       "40"
      ]
     },
     "execution_count": 104,
     "metadata": {},
     "output_type": "execute_result"
    }
   ],
   "source": [
    "shoes = driver.find_elements(By.XPATH,'//div[@ class=\"_2WkVRV\"]')\n",
    "len(shoes)"
   ]
  },
  {
   "cell_type": "code",
   "execution_count": 105,
   "id": "40f581db",
   "metadata": {},
   "outputs": [
    {
     "data": {
      "text/plain": [
       "40"
      ]
     },
     "execution_count": 105,
     "metadata": {},
     "output_type": "execute_result"
    }
   ],
   "source": [
    "sneakers_brand=[]\n",
    "for i in shoes:\n",
    "    sneakers_brand.append(i.text)\n",
    "len(sneakers_brand)"
   ]
  },
  {
   "cell_type": "code",
   "execution_count": 106,
   "id": "bd30fbf0",
   "metadata": {},
   "outputs": [
    {
     "data": {
      "text/plain": [
       "['HOTSTYLE',\n",
       " 'luxury fashion',\n",
       " 'WOODLAND',\n",
       " 'BRUTON',\n",
       " 'BRUTON',\n",
       " 'URBANBOX',\n",
       " 'Magnolia',\n",
       " 'HOTSTYLE',\n",
       " 'Labbin',\n",
       " 'BIRDE',\n",
       " 'aadi',\n",
       " 'LOUIS PHILIPPE',\n",
       " 'BIRDE',\n",
       " 'BIRDE',\n",
       " 'SFR',\n",
       " 'HOTSTYLE',\n",
       " 'Chevit',\n",
       " 'PUMA',\n",
       " 'KWIK FIT',\n",
       " 'RapidBox',\n",
       " 'ONECENTRE',\n",
       " 'HOTSTYLE',\n",
       " 'corsac',\n",
       " 'Echor',\n",
       " 'ASTEROID',\n",
       " 'CLYMB',\n",
       " 'BRUTON',\n",
       " 'RapidBox',\n",
       " 'Noztile',\n",
       " 'BIRDE',\n",
       " 'SCATCHITE',\n",
       " 'kardam&sons',\n",
       " 'Kraasa',\n",
       " 'Kraasa',\n",
       " 'PUMA',\n",
       " 'Kirjak',\n",
       " 'Layasa',\n",
       " 'Kraasa',\n",
       " 'Kzaara',\n",
       " 'Scull Wings']"
      ]
     },
     "execution_count": 106,
     "metadata": {},
     "output_type": "execute_result"
    }
   ],
   "source": [
    "#Getting first 40 brand name of the sneakers in 1st page..\n",
    "sneakers_brand"
   ]
  },
  {
   "cell_type": "code",
   "execution_count": 113,
   "id": "3f4127bc",
   "metadata": {},
   "outputs": [
    {
     "data": {
      "text/plain": [
       "36"
      ]
     },
     "execution_count": 113,
     "metadata": {},
     "output_type": "execute_result"
    }
   ],
   "source": [
    "product = driver.find_elements(By.XPATH,'//a[@ class=\"IRpwTa\"]')\n",
    "len(product)"
   ]
  },
  {
   "cell_type": "code",
   "execution_count": 114,
   "id": "6764f0e0",
   "metadata": {},
   "outputs": [
    {
     "data": {
      "text/plain": [
       "36"
      ]
     },
     "execution_count": 114,
     "metadata": {},
     "output_type": "execute_result"
    }
   ],
   "source": [
    "shoes_product=[]\n",
    "for i in product:\n",
    "    shoes_product.append(i.text)\n",
    "len(shoes_product)"
   ]
  },
  {
   "cell_type": "code",
   "execution_count": 115,
   "id": "4dc15cff",
   "metadata": {},
   "outputs": [
    {
     "data": {
      "text/plain": [
       "['Sneakers Sneakers For Men',\n",
       " 'Luxuryfashion casual sneaker shoes Sneakers For Men',\n",
       " 'Sneakers For Men',\n",
       " 'Modern Trendy Sneakers Shoes Sneakers For Men',\n",
       " 'Modern Trendy Sneakers Shoes Sneakers For Men',\n",
       " 'Sneakers For Men',\n",
       " 'Mike Stylish & Trendy Sneakers For Men',\n",
       " 'Sneakers For Men',\n",
       " 'Stylish Comfortable Lightweight, Breathable Walking Sho...',\n",
       " 'Sneakers For Men',\n",
       " 'Sneakers For Men',\n",
       " 'Stylish Comfortable Lightweight, Breathable Walking Sho...',\n",
       " 'Sports Running Shoes Sneakers For Men',\n",
       " 'Sneakers For Men',\n",
       " 'CR-1 Sneakers For Men',\n",
       " 'Super Stylish & Trendy Combo Pack of 02 Pairs Sneakers ...',\n",
       " 'Puma Smash v2 L Sneakers For Men',\n",
       " 'Kwik FIT casual sneaker shoes and partywear shoes Casua...',\n",
       " 'STR2 Sneakers For Men',\n",
       " 'Sneakers For Men',\n",
       " 'STYLISH MENS BLACK SNEAKER Sneakers For Men',\n",
       " 'Casual Stylish Sneakers For Men Sneakers For Men',\n",
       " \"Original Luxury Branded Fashionable Men's Casual Walkin...\",\n",
       " 'Sneakers For Men',\n",
       " 'Sneaker Sneakers For Men',\n",
       " 'Sneakers For Men',\n",
       " 'Stylish Comfortable Lightweight, Breathable Casual Walk...',\n",
       " 'Sneakers Sneakers For Men',\n",
       " 'Fashionable Luxury Canvas Casual Outdoor Sneakers White...',\n",
       " 'Casuals, Canvas, Partywear Sneakers For Men',\n",
       " 'Shark-41 Sneakers For Men',\n",
       " 'Smash v2 L White- Black Sneakers For Men',\n",
       " \"men's Skyblue sneakers lace-up trendy casual Sneakers F...\",\n",
       " 'Sneakers For Men',\n",
       " 'Series 7 Sneakers For Men',\n",
       " 'Sneakers For Men']"
      ]
     },
     "execution_count": 115,
     "metadata": {},
     "output_type": "execute_result"
    }
   ],
   "source": [
    "#Getting product description for sneakers in first page..\n",
    "shoes_product"
   ]
  },
  {
   "cell_type": "code",
   "execution_count": 24,
   "id": "2a56be11",
   "metadata": {},
   "outputs": [
    {
     "data": {
      "text/plain": [
       "40"
      ]
     },
     "execution_count": 24,
     "metadata": {},
     "output_type": "execute_result"
    }
   ],
   "source": [
    "price = driver.find_elements(By.XPATH,'//div[@ class=\"_30jeq3\"]')\n",
    "len(price)"
   ]
  },
  {
   "cell_type": "code",
   "execution_count": 25,
   "id": "489eeec0",
   "metadata": {},
   "outputs": [
    {
     "data": {
      "text/plain": [
       "40"
      ]
     },
     "execution_count": 25,
     "metadata": {},
     "output_type": "execute_result"
    }
   ],
   "source": [
    "shoes_price=[]\n",
    "for i in price:\n",
    "    shoes_price.append(i.text)\n",
    "len(shoes_price)"
   ]
  },
  {
   "cell_type": "code",
   "execution_count": 26,
   "id": "573217e7",
   "metadata": {},
   "outputs": [
    {
     "data": {
      "text/plain": [
       "['₹2,096',\n",
       " '₹269',\n",
       " '₹299',\n",
       " '₹449',\n",
       " '₹198',\n",
       " '₹378',\n",
       " '₹499',\n",
       " '₹319',\n",
       " '₹335',\n",
       " '₹299',\n",
       " '₹1,763',\n",
       " '₹289',\n",
       " '₹258',\n",
       " '₹499',\n",
       " '₹474',\n",
       " '₹397',\n",
       " '₹1,877',\n",
       " '₹616',\n",
       " '₹649',\n",
       " '₹335',\n",
       " '₹269',\n",
       " '₹399',\n",
       " '₹479',\n",
       " '₹479',\n",
       " '₹479',\n",
       " '₹499',\n",
       " '₹259',\n",
       " '₹249',\n",
       " '₹299',\n",
       " '₹269',\n",
       " '₹299',\n",
       " '₹399',\n",
       " '₹199',\n",
       " '₹699',\n",
       " '₹449',\n",
       " '₹1,504',\n",
       " '₹464',\n",
       " '₹1,318',\n",
       " '₹449',\n",
       " '₹474']"
      ]
     },
     "execution_count": 26,
     "metadata": {},
     "output_type": "execute_result"
    }
   ],
   "source": [
    "#Getting price for snaekers in 1st page..\n",
    "shoes_price"
   ]
  },
  {
   "cell_type": "code",
   "execution_count": 27,
   "id": "0fd64c1a",
   "metadata": {},
   "outputs": [
    {
     "data": {
      "text/plain": [
       "40"
      ]
     },
     "execution_count": 27,
     "metadata": {},
     "output_type": "execute_result"
    }
   ],
   "source": [
    "offer = driver.find_elements(By.XPATH,'//div[@ class=\"_3Ay6Sb\"]')\n",
    "len(offer)"
   ]
  },
  {
   "cell_type": "code",
   "execution_count": 28,
   "id": "6168bce1",
   "metadata": {},
   "outputs": [
    {
     "data": {
      "text/plain": [
       "40"
      ]
     },
     "execution_count": 28,
     "metadata": {},
     "output_type": "execute_result"
    }
   ],
   "source": [
    "shoes_offer=[]\n",
    "for i in offer:\n",
    "    shoes_offer.append(i.text)\n",
    "len(shoes_offer)"
   ]
  },
  {
   "cell_type": "code",
   "execution_count": 29,
   "id": "eb822fea",
   "metadata": {},
   "outputs": [
    {
     "data": {
      "text/plain": [
       "['30% off',\n",
       " '79% off',\n",
       " '76% off',\n",
       " '55% off',\n",
       " '80% off',\n",
       " '62% off',\n",
       " '50% off',\n",
       " '68% off',\n",
       " '66% off',\n",
       " '50% off',\n",
       " '49% off',\n",
       " '71% off',\n",
       " '74% off',\n",
       " '66% off',\n",
       " '76% off',\n",
       " '80% off',\n",
       " '46% off',\n",
       " '58% off',\n",
       " '65% off',\n",
       " '66% off',\n",
       " '79% off',\n",
       " '60% off',\n",
       " '52% off',\n",
       " '52% off',\n",
       " '52% off',\n",
       " '50% off',\n",
       " '74% off',\n",
       " '75% off',\n",
       " '54% off',\n",
       " '79% off',\n",
       " '70% off',\n",
       " '80% off',\n",
       " '66% off',\n",
       " '65% off',\n",
       " '37% off',\n",
       " '57% off',\n",
       " '53% off',\n",
       " '60% off',\n",
       " '55% off',\n",
       " '52% off']"
      ]
     },
     "execution_count": 29,
     "metadata": {},
     "output_type": "execute_result"
    }
   ],
   "source": [
    "#Getting  offers for snaekers shoes in 1st page..\n",
    "shoes_offer"
   ]
  },
  {
   "cell_type": "code",
   "execution_count": 30,
   "id": "a0accc96",
   "metadata": {},
   "outputs": [
    {
     "data": {
      "text/plain": [
       "<selenium.webdriver.remote.webelement.WebElement (session=\"37731a113b058a807741901f129d281b\", element=\"538cc806-5c9e-47f4-98e9-5b8410fe209e\")>"
      ]
     },
     "execution_count": 30,
     "metadata": {},
     "output_type": "execute_result"
    }
   ],
   "source": [
    "click_next = driver.find_element(By.XPATH,\"/html/body/div[1]/div/div[3]/div[1]/div[2]/div[12]/div/div/nav/a[11]\")\n",
    "click_next"
   ]
  },
  {
   "cell_type": "code",
   "execution_count": 31,
   "id": "37ac5d7e",
   "metadata": {},
   "outputs": [],
   "source": [
    "#Clicking the next icon for second page..\n",
    "click_next.click()"
   ]
  },
  {
   "cell_type": "code",
   "execution_count": 32,
   "id": "e563cf2e",
   "metadata": {},
   "outputs": [
    {
     "data": {
      "text/plain": [
       "40"
      ]
     },
     "execution_count": 32,
     "metadata": {},
     "output_type": "execute_result"
    }
   ],
   "source": [
    "page2_sneakers = driver.find_elements(By.XPATH,'//div[@ class=\"_2WkVRV\"]')\n",
    "len(page2_sneakers)"
   ]
  },
  {
   "cell_type": "code",
   "execution_count": 33,
   "id": "f6917fe9",
   "metadata": {},
   "outputs": [
    {
     "data": {
      "text/plain": [
       "40"
      ]
     },
     "execution_count": 33,
     "metadata": {},
     "output_type": "execute_result"
    }
   ],
   "source": [
    "brand_p2=[]\n",
    "for i in page2_sneakers:\n",
    "    brand_p2.append(i.text)\n",
    "len(brand_p2)"
   ]
  },
  {
   "cell_type": "code",
   "execution_count": 34,
   "id": "b8d0125c",
   "metadata": {},
   "outputs": [
    {
     "data": {
      "text/plain": [
       "['ASTEROID',\n",
       " 'Magnolia',\n",
       " 'WHITE WALKERS',\n",
       " 'aadi',\n",
       " 'AMICO',\n",
       " 'luxury fashion',\n",
       " 'Airland',\n",
       " 'Shoes Bank',\n",
       " 'SPARX',\n",
       " 'Numenzo',\n",
       " 'LE GREEM',\n",
       " 'luxury fashion',\n",
       " 'Stinson',\n",
       " 'India hub',\n",
       " 'WHITE WALKERS',\n",
       " 'Numenzo',\n",
       " 'Roadster',\n",
       " 'BIRDE',\n",
       " 'PEXLO',\n",
       " 'Robbie jones',\n",
       " 'PUMA',\n",
       " 'KNIGHT WALKERS',\n",
       " 'T-ROCK',\n",
       " 'Echor',\n",
       " 'URBANBOX',\n",
       " 'WHITE WALKERS',\n",
       " 'aadi',\n",
       " 'Eiffel',\n",
       " 'Xtoon',\n",
       " 'PEXLO',\n",
       " 'PUMA',\n",
       " 'Robbie jones',\n",
       " 'aadi',\n",
       " 'BRUTON',\n",
       " 'Aragats',\n",
       " 'Robbie jones',\n",
       " 'HONEY',\n",
       " 'Robbie jones',\n",
       " 'RapidBox',\n",
       " 'PUMA']"
      ]
     },
     "execution_count": 34,
     "metadata": {},
     "output_type": "execute_result"
    }
   ],
   "source": [
    "#Getting brand of shoes in 2nd page..\n",
    "brand_p2"
   ]
  },
  {
   "cell_type": "code",
   "execution_count": 35,
   "id": "99f82572",
   "metadata": {},
   "outputs": [
    {
     "data": {
      "text/plain": [
       "32"
      ]
     },
     "execution_count": 35,
     "metadata": {},
     "output_type": "execute_result"
    }
   ],
   "source": [
    "page2_description = driver.find_elements(By.XPATH,'//a[@ class=\"IRpwTa\"]')\n",
    "len(page2_description)"
   ]
  },
  {
   "cell_type": "code",
   "execution_count": 36,
   "id": "d20cd11d",
   "metadata": {},
   "outputs": [
    {
     "data": {
      "text/plain": [
       "32"
      ]
     },
     "execution_count": 36,
     "metadata": {},
     "output_type": "execute_result"
    }
   ],
   "source": [
    "description_p2=[]\n",
    "for i in page2_description:\n",
    "    description_p2.append(i.text)\n",
    "len(description_p2)"
   ]
  },
  {
   "cell_type": "code",
   "execution_count": 37,
   "id": "2de0efed",
   "metadata": {},
   "outputs": [
    {
     "data": {
      "text/plain": [
       "['Original Luxury Branded Black Fancy Casual Walking Part...',\n",
       " 'Sneakers For Men',\n",
       " 'Stylish & Trending Outdoor Walking Comfortable Sneakers...',\n",
       " 'Mesh | Ultralightweight | Comfortable | Breathable Walk...',\n",
       " 'Sneakers For Men',\n",
       " 'Sneakers For Men',\n",
       " '1259 smart black lace-ups sneakers for men Sneakers For...',\n",
       " \"White Sneaker For Men's/Boy's Sneakers For Men\",\n",
       " 'Sneakers For Men',\n",
       " 'Comfortable & Ultra Light Weight Sneaker Sneakers For M...',\n",
       " 'Luxury Fashionable casual sneaker shoes Sneakers For Me...',\n",
       " 'Luxury Fashionable casual sneaker shoes Sneakers For Me...',\n",
       " 'Stylish & Trending Outdoor Walking Comfortable Sneakers...',\n",
       " '411 Casual Sneakers For Men',\n",
       " 'Sneakers For Men',\n",
       " 'Stylish Comfortable Lightweight, Breathable Walking Sho...',\n",
       " 'Combo Pack of 3 Casual Shoes Sneakers For Men',\n",
       " 'Casual Sneakers White Shoes For Men Sneakers For Men',\n",
       " 'Brave Sneakers For Men',\n",
       " 'Stylish Party Wear Casual Sneakers Shoes For Men Sneake...',\n",
       " \"Men's Sneakers Fashion Lightweight Running Shoes Tennis...\",\n",
       " 'Stylish & Trending Outdoor Walking Comfortable Sneakers...',\n",
       " 'Sneakers For Men',\n",
       " \"White casual, gym,training & Running sneakers for men's...\",\n",
       " 'Combo Pack of 3 Casual Shoes, Sneakers For Men',\n",
       " 'Sneakers For Men',\n",
       " 'Sneakers For Men',\n",
       " 'Combo Pack Of 2 Latest Stylish Casual Shoes for Men Lac...',\n",
       " 'Casual Sneakers For Men',\n",
       " 'Casual Sneakers Canvas Shoes For Men Sneakers For Men',\n",
       " 'Sneakers For Men',\n",
       " 'Blend Sneakers For Men']"
      ]
     },
     "execution_count": 37,
     "metadata": {},
     "output_type": "execute_result"
    }
   ],
   "source": [
    "#Getting description for the shoes in 2nd page...\n",
    "description_p2"
   ]
  },
  {
   "cell_type": "code",
   "execution_count": 39,
   "id": "bb3f262b",
   "metadata": {},
   "outputs": [
    {
     "data": {
      "text/plain": [
       "40"
      ]
     },
     "execution_count": 39,
     "metadata": {},
     "output_type": "execute_result"
    }
   ],
   "source": [
    "page2_price = driver.find_elements(By.XPATH,'//div[@ class=\"_30jeq3\"]')\n",
    "len(page2_price)"
   ]
  },
  {
   "cell_type": "code",
   "execution_count": 40,
   "id": "36c82e84",
   "metadata": {},
   "outputs": [
    {
     "data": {
      "text/plain": [
       "40"
      ]
     },
     "execution_count": 40,
     "metadata": {},
     "output_type": "execute_result"
    }
   ],
   "source": [
    "price_p2=[]\n",
    "for i in page2_price:\n",
    "    price_p2.append(i.text)\n",
    "len(price_p2)"
   ]
  },
  {
   "cell_type": "code",
   "execution_count": 41,
   "id": "eeb49780",
   "metadata": {},
   "outputs": [
    {
     "data": {
      "text/plain": [
       "['₹474',\n",
       " '₹449',\n",
       " '₹599',\n",
       " '₹799',\n",
       " '₹494',\n",
       " '₹426',\n",
       " '₹239',\n",
       " '₹298',\n",
       " '₹714',\n",
       " '₹539',\n",
       " '₹499',\n",
       " '₹399',\n",
       " '₹229',\n",
       " '₹397',\n",
       " '₹599',\n",
       " '₹450',\n",
       " '₹1,135',\n",
       " '₹419',\n",
       " '₹670',\n",
       " '₹499',\n",
       " '₹1,418',\n",
       " '₹699',\n",
       " '₹699',\n",
       " '₹539',\n",
       " '₹179',\n",
       " '₹599',\n",
       " '₹399',\n",
       " '₹438',\n",
       " '₹499',\n",
       " '₹561',\n",
       " '₹1,899',\n",
       " '₹499',\n",
       " '₹319',\n",
       " '₹499',\n",
       " '₹549',\n",
       " '₹549',\n",
       " '₹449',\n",
       " '₹499',\n",
       " '₹630',\n",
       " '₹1,709']"
      ]
     },
     "execution_count": 41,
     "metadata": {},
     "output_type": "execute_result"
    }
   ],
   "source": [
    "#Getting price for the shoes in 2nd page..\n",
    "price_p2"
   ]
  },
  {
   "cell_type": "code",
   "execution_count": 42,
   "id": "ad5f8fac",
   "metadata": {},
   "outputs": [
    {
     "data": {
      "text/plain": [
       "40"
      ]
     },
     "execution_count": 42,
     "metadata": {},
     "output_type": "execute_result"
    }
   ],
   "source": [
    "page2_offer = driver.find_elements(By.XPATH,'//div[@ class=\"_3Ay6Sb\"]')\n",
    "len(page2_offer)"
   ]
  },
  {
   "cell_type": "code",
   "execution_count": 43,
   "id": "8067e6bc",
   "metadata": {},
   "outputs": [
    {
     "data": {
      "text/plain": [
       "40"
      ]
     },
     "execution_count": 43,
     "metadata": {},
     "output_type": "execute_result"
    }
   ],
   "source": [
    "offer_p2=[]\n",
    "for i in page2_offer:\n",
    "    offer_p2.append(i.text)\n",
    "len(offer_p2)"
   ]
  },
  {
   "cell_type": "code",
   "execution_count": 44,
   "id": "fb9f262c",
   "metadata": {},
   "outputs": [
    {
     "data": {
      "text/plain": [
       "['52% off',\n",
       " '55% off',\n",
       " '50% off',\n",
       " '60% off',\n",
       " '50% off',\n",
       " '78% off',\n",
       " '52% off',\n",
       " '70% off',\n",
       " '15% off',\n",
       " '82% off',\n",
       " '50% off',\n",
       " '69% off',\n",
       " '54% off',\n",
       " '80% off',\n",
       " '50% off',\n",
       " '77% off',\n",
       " '65% off',\n",
       " '58% off',\n",
       " '55% off',\n",
       " '50% off',\n",
       " '57% off',\n",
       " '65% off',\n",
       " '30% off',\n",
       " '46% off',\n",
       " '64% off',\n",
       " '50% off',\n",
       " '80% off',\n",
       " '56% off',\n",
       " '50% off',\n",
       " '76% off',\n",
       " '36% off',\n",
       " '50% off',\n",
       " '68% off',\n",
       " '80% off',\n",
       " '45% off',\n",
       " '45% off',\n",
       " '55% off',\n",
       " '50% off',\n",
       " '36% off',\n",
       " '43% off']"
      ]
     },
     "execution_count": 44,
     "metadata": {},
     "output_type": "execute_result"
    }
   ],
   "source": [
    "#getting offers for the shoes in 2nd page..\n",
    "offer_p2"
   ]
  },
  {
   "cell_type": "code",
   "execution_count": 47,
   "id": "35a8aa93",
   "metadata": {},
   "outputs": [
    {
     "data": {
      "text/plain": [
       "<selenium.webdriver.remote.webelement.WebElement (session=\"37731a113b058a807741901f129d281b\", element=\"538cc806-5c9e-47f4-98e9-5b8410fe209e\")>"
      ]
     },
     "execution_count": 47,
     "metadata": {},
     "output_type": "execute_result"
    }
   ],
   "source": [
    "click_next = driver.find_element(By.XPATH,\"/html/body/div[1]/div/div[3]/div[1]/div[2]/div[12]/div/div/nav/a[12]\")\n",
    "click_next"
   ]
  },
  {
   "cell_type": "code",
   "execution_count": 48,
   "id": "85503c72",
   "metadata": {},
   "outputs": [],
   "source": [
    "#Clicking next icon for 3rd page..\n",
    "click_next.click()"
   ]
  },
  {
   "cell_type": "code",
   "execution_count": 49,
   "id": "9b1946db",
   "metadata": {},
   "outputs": [
    {
     "data": {
      "text/plain": [
       "40"
      ]
     },
     "execution_count": 49,
     "metadata": {},
     "output_type": "execute_result"
    }
   ],
   "source": [
    "page3_brand = driver.find_elements(By.XPATH,'//div[@ class=\"_2WkVRV\"]')\n",
    "len(page3_brand)"
   ]
  },
  {
   "cell_type": "code",
   "execution_count": 50,
   "id": "1b02ff90",
   "metadata": {},
   "outputs": [
    {
     "data": {
      "text/plain": [
       "40"
      ]
     },
     "execution_count": 50,
     "metadata": {},
     "output_type": "execute_result"
    }
   ],
   "source": [
    "brand_p3=[]\n",
    "for i in page3_brand:\n",
    "    brand_p3.append(i.text)\n",
    "len(brand_p3)"
   ]
  },
  {
   "cell_type": "code",
   "execution_count": 52,
   "id": "81416abb",
   "metadata": {},
   "outputs": [
    {
     "data": {
      "text/plain": [
       "['Layasa',\n",
       " 'Robbie jones',\n",
       " 'BRUTON',\n",
       " 'PUMA',\n",
       " 'RapidBox',\n",
       " 'BAUCHHAAR',\n",
       " 'ASIAN',\n",
       " 'NIKE',\n",
       " \"K' Footlance\",\n",
       " 'PROVOGUE',\n",
       " 'KNIGHT WALKERS',\n",
       " 'Robbie jones',\n",
       " 'Magnolia',\n",
       " 'DUCATI',\n",
       " 'SPARX',\n",
       " 'corsac',\n",
       " 'PUMA',\n",
       " 'DUNKASTON',\n",
       " 'KNIGHT WALKERS',\n",
       " 'BRUTON']"
      ]
     },
     "execution_count": 52,
     "metadata": {},
     "output_type": "execute_result"
    }
   ],
   "source": [
    "#Getting brand for the shoes in 3rd page..\n",
    "brand_p3[0:20]"
   ]
  },
  {
   "cell_type": "code",
   "execution_count": 53,
   "id": "118e8ab1",
   "metadata": {},
   "outputs": [
    {
     "data": {
      "text/plain": [
       "30"
      ]
     },
     "execution_count": 53,
     "metadata": {},
     "output_type": "execute_result"
    }
   ],
   "source": [
    "page3_description = driver.find_elements(By.XPATH,'//a[@ class=\"IRpwTa\"]')\n",
    "len(page3_description)"
   ]
  },
  {
   "cell_type": "code",
   "execution_count": 54,
   "id": "2f845069",
   "metadata": {},
   "outputs": [
    {
     "data": {
      "text/plain": [
       "30"
      ]
     },
     "execution_count": 54,
     "metadata": {},
     "output_type": "execute_result"
    }
   ],
   "source": [
    "description_p3=[]\n",
    "for i in page3_description:\n",
    "    description_p3.append(i.text)\n",
    "len(description_p3)"
   ]
  },
  {
   "cell_type": "code",
   "execution_count": 55,
   "id": "9b35a6bb",
   "metadata": {},
   "outputs": [
    {
     "data": {
      "text/plain": [
       "['Sneakers For Men',\n",
       " 'Sneakers For Men',\n",
       " 'Exclusive Sneaker Shoes Sneakers For Men',\n",
       " 'R78 Sneakers For Men',\n",
       " 'Sneakers For Men',\n",
       " 'Skypy-31 Walking Shoes,Training Shoes,Sneakers,Loafers,...',\n",
       " 'Court Royale 2 Low Sneakers For Men',\n",
       " 'Fashion and Stylish Soft Ultralight Lace Up Sneakers Ca...',\n",
       " 'Sneakers For Men',\n",
       " 'Sneakers For Men',\n",
       " 'Sneakers For Men',\n",
       " 'Sneakers For Men',\n",
       " 'Sneakers For Men',\n",
       " 'SM-322 Sneakers For Men',\n",
       " 'STYLISH MENS BLACK TRENDY SNEAKER FOR MENS Sneakers For...',\n",
       " 'Trinity Sneakers For Men',\n",
       " 'Sneakers For Men',\n",
       " 'Modern Trendy Sneakers Shoes Sneakers For Men',\n",
       " \"Men's Sneakers Fashion Lightweight Running Shoes Tennis...\",\n",
       " 'X-Ray 2 Square Sneakers For Men']"
      ]
     },
     "execution_count": 55,
     "metadata": {},
     "output_type": "execute_result"
    }
   ],
   "source": [
    "##Getting description for the shoes in 3rd page..\n",
    "description_p3[0:20]"
   ]
  },
  {
   "cell_type": "code",
   "execution_count": 56,
   "id": "dafb6638",
   "metadata": {},
   "outputs": [
    {
     "data": {
      "text/plain": [
       "40"
      ]
     },
     "execution_count": 56,
     "metadata": {},
     "output_type": "execute_result"
    }
   ],
   "source": [
    "page3_price = driver.find_elements(By.XPATH,'//div[@ class=\"_30jeq3\"]')\n",
    "len(page3_price)"
   ]
  },
  {
   "cell_type": "code",
   "execution_count": 57,
   "id": "916a9d53",
   "metadata": {},
   "outputs": [
    {
     "data": {
      "text/plain": [
       "40"
      ]
     },
     "execution_count": 57,
     "metadata": {},
     "output_type": "execute_result"
    }
   ],
   "source": [
    "price_p3=[]\n",
    "for i in page3_price:\n",
    "    price_p3.append(i.text)\n",
    "len(price_p3)"
   ]
  },
  {
   "cell_type": "code",
   "execution_count": 58,
   "id": "9e0f2829",
   "metadata": {},
   "outputs": [
    {
     "data": {
      "text/plain": [
       "['₹499',\n",
       " '₹499',\n",
       " '₹299',\n",
       " '₹2,339',\n",
       " '₹650',\n",
       " '₹449',\n",
       " '₹498',\n",
       " '₹2,325',\n",
       " '₹405',\n",
       " '₹756',\n",
       " '₹648',\n",
       " '₹499',\n",
       " '₹424',\n",
       " '₹1,497',\n",
       " '₹876',\n",
       " '₹499',\n",
       " '₹1,794',\n",
       " '₹499',\n",
       " '₹699',\n",
       " '₹299']"
      ]
     },
     "execution_count": 58,
     "metadata": {},
     "output_type": "execute_result"
    }
   ],
   "source": [
    "#Getting price for the shoes in 3rd page..\n",
    "price_p3[0:20]"
   ]
  },
  {
   "cell_type": "code",
   "execution_count": 59,
   "id": "6d4b4cad",
   "metadata": {},
   "outputs": [
    {
     "data": {
      "text/plain": [
       "40"
      ]
     },
     "execution_count": 59,
     "metadata": {},
     "output_type": "execute_result"
    }
   ],
   "source": [
    "page3_offer = driver.find_elements(By.XPATH,'//div[@ class=\"_3Ay6Sb\"]')\n",
    "len(page3_offer)"
   ]
  },
  {
   "cell_type": "code",
   "execution_count": 60,
   "id": "487b907d",
   "metadata": {},
   "outputs": [
    {
     "data": {
      "text/plain": [
       "40"
      ]
     },
     "execution_count": 60,
     "metadata": {},
     "output_type": "execute_result"
    }
   ],
   "source": [
    "offer_p3=[]\n",
    "for i in page3_offer:\n",
    "    offer_p3.append(i.text)\n",
    "len(offer_p3)"
   ]
  },
  {
   "cell_type": "code",
   "execution_count": 61,
   "id": "125e383a",
   "metadata": {},
   "outputs": [
    {
     "data": {
      "text/plain": [
       "['50% off',\n",
       " '50% off',\n",
       " '76% off',\n",
       " '41% off',\n",
       " '34% off',\n",
       " '55% off',\n",
       " '37% off',\n",
       " '41% off',\n",
       " '59% off',\n",
       " '62% off',\n",
       " '56% off',\n",
       " '50% off',\n",
       " '57% off',\n",
       " '59% off',\n",
       " '14% off',\n",
       " '66% off',\n",
       " '48% off',\n",
       " '66% off',\n",
       " '65% off',\n",
       " '76% off']"
      ]
     },
     "execution_count": 61,
     "metadata": {},
     "output_type": "execute_result"
    }
   ],
   "source": [
    "#Getting offer for the shoes in 3rd page..\n",
    "offer_p3[0:20]"
   ]
  },
  {
   "cell_type": "markdown",
   "id": "16f28ce1",
   "metadata": {},
   "source": [
    "# ques7"
   ]
  },
  {
   "cell_type": "code",
   "execution_count": 125,
   "id": "0562f5a1",
   "metadata": {},
   "outputs": [],
   "source": [
    "#Connecting WebDriver\n",
    "driver = webdriver.Chrome(r'C:\\Users\\Admin\\Downloads\\chromedriver_win32\\chromedriver.exe')"
   ]
  },
  {
   "cell_type": "code",
   "execution_count": 126,
   "id": "69807e6d",
   "metadata": {},
   "outputs": [],
   "source": [
    "#Getting myntra as url..\n",
    "url='https://www.myntra.com/shoes'\n",
    "driver.get(url)"
   ]
  },
  {
   "cell_type": "code",
   "execution_count": 149,
   "id": "4d37f96a",
   "metadata": {},
   "outputs": [
    {
     "data": {
      "text/plain": [
       "<selenium.webdriver.remote.webelement.WebElement (session=\"8f17a31154da9189e1ca3a54f5ce0292\", element=\"1bb4b088-0088-4c96-a1e6-a634ad75d20a\")>"
      ]
     },
     "execution_count": 149,
     "metadata": {},
     "output_type": "execute_result"
    }
   ],
   "source": [
    "price_myntra = driver.find_element(By.XPATH,\"/html/body/div[2]/div/div[1]/main/div[3]/div[1]/section/div/div[5]/ul/li[2]/label/div\")\n",
    "price_myntra"
   ]
  },
  {
   "cell_type": "code",
   "execution_count": 150,
   "id": "8c7978af",
   "metadata": {},
   "outputs": [],
   "source": [
    "#getting price filter for shoes in myntra..\n",
    "price_myntra.click()"
   ]
  },
  {
   "cell_type": "code",
   "execution_count": 129,
   "id": "0922b0b1",
   "metadata": {},
   "outputs": [
    {
     "data": {
      "text/plain": [
       "<selenium.webdriver.remote.webelement.WebElement (session=\"8f17a31154da9189e1ca3a54f5ce0292\", element=\"b365312d-cab8-4e00-878f-3f57f29df5d7\")>"
      ]
     },
     "execution_count": 129,
     "metadata": {},
     "output_type": "execute_result"
    }
   ],
   "source": [
    "black_myntra = driver.find_element(By.XPATH,\"/html/body/div[2]/div/div[1]/main/div[3]/div[1]/section/div/div[6]/ul/li[1]/label/div\")\n",
    "black_myntra"
   ]
  },
  {
   "cell_type": "code",
   "execution_count": 130,
   "id": "5c49c982",
   "metadata": {},
   "outputs": [],
   "source": [
    "#Getting black color filter shoes in myntra...\n",
    "black_myntra.click()"
   ]
  },
  {
   "cell_type": "code",
   "execution_count": 131,
   "id": "922c1429",
   "metadata": {},
   "outputs": [
    {
     "data": {
      "text/plain": [
       "50"
      ]
     },
     "execution_count": 131,
     "metadata": {},
     "output_type": "execute_result"
    }
   ],
   "source": [
    "shoes_brand = driver.find_elements(By.XPATH,'//h3[@ class=\"product-brand\"]')\n",
    "len(shoes_brand)"
   ]
  },
  {
   "cell_type": "code",
   "execution_count": 132,
   "id": "ece0db18",
   "metadata": {},
   "outputs": [
    {
     "data": {
      "text/plain": [
       "50"
      ]
     },
     "execution_count": 132,
     "metadata": {},
     "output_type": "execute_result"
    }
   ],
   "source": [
    "blackshoes=[]\n",
    "for i in shoes_brand:\n",
    "    blackshoes.append(i.text)\n",
    "len(blackshoes)"
   ]
  },
  {
   "cell_type": "code",
   "execution_count": 133,
   "id": "167d58d9",
   "metadata": {},
   "outputs": [
    {
     "data": {
      "text/plain": [
       "['Nike',\n",
       " 'Skechers',\n",
       " 'Nike',\n",
       " 'Nike',\n",
       " 'Hush Puppies',\n",
       " 'Nike',\n",
       " 'Puma',\n",
       " 'Nike',\n",
       " 'Geox',\n",
       " 'ADIDAS',\n",
       " 'Geox',\n",
       " 'Nike',\n",
       " 'Skechers',\n",
       " 'Puma',\n",
       " 'ADIDAS',\n",
       " 'ADIDAS',\n",
       " 'Skechers',\n",
       " 'Puma',\n",
       " 'ADIDAS',\n",
       " 'UNDER ARMOUR',\n",
       " 'ADIDAS Originals',\n",
       " 'Skechers',\n",
       " 'ADIDAS',\n",
       " 'ADIDAS',\n",
       " 'PUMA Hoops',\n",
       " 'Tommy Hilfiger',\n",
       " 'UNDER ARMOUR',\n",
       " 'Puma',\n",
       " 'New Balance',\n",
       " 'New Balance',\n",
       " 'Hush Puppies',\n",
       " 'Puma',\n",
       " 'Bugatti',\n",
       " 'Columbia',\n",
       " 'PUMA Hoops',\n",
       " 'Puma',\n",
       " 'ADIDAS',\n",
       " 'Skechers',\n",
       " 'Clarks',\n",
       " 'Saint G',\n",
       " 'Tommy Hilfiger',\n",
       " 'ADIDAS',\n",
       " 'Puma',\n",
       " 'Puma',\n",
       " 'Puma',\n",
       " 'fitflop',\n",
       " 'Puma',\n",
       " 'UNDER ARMOUR',\n",
       " 'Saint G',\n",
       " 'Skechers']"
      ]
     },
     "execution_count": 133,
     "metadata": {},
     "output_type": "execute_result"
    }
   ],
   "source": [
    "#Getting brand for the shoes in front page..\n",
    "blackshoes"
   ]
  },
  {
   "cell_type": "code",
   "execution_count": 134,
   "id": "4fa5f2b9",
   "metadata": {},
   "outputs": [
    {
     "data": {
      "text/plain": [
       "50"
      ]
     },
     "execution_count": 134,
     "metadata": {},
     "output_type": "execute_result"
    }
   ],
   "source": [
    "shoes_description = driver.find_elements(By.XPATH,'//h4[@ class=\"product-product\"]')\n",
    "len(shoes_description)"
   ]
  },
  {
   "cell_type": "code",
   "execution_count": 135,
   "id": "a0816fef",
   "metadata": {},
   "outputs": [
    {
     "data": {
      "text/plain": [
       "50"
      ]
     },
     "execution_count": 135,
     "metadata": {},
     "output_type": "execute_result"
    }
   ],
   "source": [
    "blackshoes_description=[]\n",
    "for i in shoes_description:\n",
    "    blackshoes_description.append(i.text)\n",
    "len(blackshoes_description)"
   ]
  },
  {
   "cell_type": "code",
   "execution_count": 136,
   "id": "19f8e589",
   "metadata": {},
   "outputs": [
    {
     "data": {
      "text/plain": [
       "['Men React Infinity 3 Running',\n",
       " 'Men Go Walk 5 Walking Shoes',\n",
       " 'Men SRG 3 FK Training Shoes',\n",
       " 'Men Zoom C Pro HC Tennis Shoes',\n",
       " 'Men Solid Leather Formal Slip-Ons',\n",
       " 'Women React Escape Running',\n",
       " 'Eternity Nitro Running Shoes',\n",
       " 'Women React MR 3 Running Shoes',\n",
       " 'Men Leather Sneakers',\n",
       " 'Men Defiant Generation Tennis',\n",
       " 'Men Leather Sneakers',\n",
       " 'Women Free Metcon 4 Training',\n",
       " 'Men Sky Vault Walking Shoes',\n",
       " 'Unisex TRC Blaze Sneakers',\n",
       " 'Men Solar Glide 4 ST Running',\n",
       " 'Women Eastrail 2 Hiking Shoes',\n",
       " 'Men MAX CUSHIONING ELITE-LUCID',\n",
       " 'Men FUSE Performance Training',\n",
       " 'Women SN1997 Running Shoes',\n",
       " 'Men HOVR Sonic SE Running Shoe',\n",
       " 'Men Solid Oznova Sneakers',\n",
       " 'Men Walking Shoes',\n",
       " 'Men Adizero Boston 11 Running',\n",
       " 'Men Supernova 2 Running Shoes',\n",
       " 'Unisex Court Rider Shoes',\n",
       " 'Men JEANS RETRO BASKET Sneaker',\n",
       " 'Women Hovr Sonic SE Run Shoes',\n",
       " 'Unisex Wild Rider Sneakers',\n",
       " 'Men Woven Design Suede Sneakers',\n",
       " 'Men Woven Design Suede Sneakers',\n",
       " 'Men Formal Derbys',\n",
       " 'Men RS-Z Molded Men Sneakers',\n",
       " 'Men Black Walking Shoes',\n",
       " 'PEAKFREAK OUTDRY Trekking Shoe',\n",
       " 'Men TRC Blaze Basketball Shoes',\n",
       " 'Men Velocity Nitro 2 Running',\n",
       " 'Women SL20.3 Running Shoes',\n",
       " 'Men ENIGMA Running Shoes',\n",
       " 'Men Leather Slip-Ons',\n",
       " 'Leather High-Top Heeled Boots',\n",
       " 'Men Solid Sneakers',\n",
       " 'Women KarlieKlossX9000 Running',\n",
       " 'Men Velocity Nitro Running',\n",
       " 'Men M Nitro Running Shoess',\n",
       " 'Women Electrify Nitro Running',\n",
       " 'Flatform Sandals with Buckles',\n",
       " 'Women Eternity NITRO Shoes',\n",
       " 'Women Charged Breeze Running',\n",
       " 'Leather Ankle Boots',\n",
       " 'Men Textured Sneakers']"
      ]
     },
     "execution_count": 136,
     "metadata": {},
     "output_type": "execute_result"
    }
   ],
   "source": [
    "#Getting description for the shoes in front page..\n",
    "blackshoes_description"
   ]
  },
  {
   "cell_type": "code",
   "execution_count": 138,
   "id": "a11ccca0",
   "metadata": {},
   "outputs": [
    {
     "data": {
      "text/plain": [
       "50"
      ]
     },
     "execution_count": 138,
     "metadata": {},
     "output_type": "execute_result"
    }
   ],
   "source": [
    "shoes_price = driver.find_elements(By.XPATH,'//div[@ class=\"product-price\"]')\n",
    "len(shoes_price)"
   ]
  },
  {
   "cell_type": "code",
   "execution_count": 139,
   "id": "50a70cb3",
   "metadata": {},
   "outputs": [
    {
     "data": {
      "text/plain": [
       "50"
      ]
     },
     "execution_count": 139,
     "metadata": {},
     "output_type": "execute_result"
    }
   ],
   "source": [
    "blackshoes_price=[]\n",
    "for i in shoes_price:\n",
    "    blackshoes_price.append(i.text)\n",
    "len(blackshoes_price)"
   ]
  },
  {
   "cell_type": "code",
   "execution_count": 140,
   "id": "562395b3",
   "metadata": {},
   "outputs": [
    {
     "data": {
      "text/plain": [
       "['Rs. 11895Rs. 13995(15% OFF)',\n",
       " 'Rs. 7224Rs. 8499(15% OFF)',\n",
       " 'Rs. 8895',\n",
       " 'Rs. 7560Rs. 8895(15% OFF)',\n",
       " 'Rs. 7649Rs. 8999(15% OFF)',\n",
       " 'Rs. 9770Rs. 11495(15% OFF)',\n",
       " 'Rs. 10399Rs. 12999(20% OFF)',\n",
       " 'Rs. 8920Rs. 10495(15% OFF)',\n",
       " 'Rs. 12591Rs. 13990(10% OFF)',\n",
       " 'Rs. 8999Rs. 9999(10% OFF)',\n",
       " 'Rs. 9891Rs. 10990(10% OFF)',\n",
       " 'Rs. 9345Rs. 10995(15% OFF)',\n",
       " 'Rs. 7649Rs. 8999(15% OFF)',\n",
       " 'Rs. 7999Rs. 9999(20% OFF)',\n",
       " 'Rs. 12749Rs. 14999(15% OFF)',\n",
       " 'Rs. 7199Rs. 7999(10% OFF)',\n",
       " 'Rs. 8074Rs. 9499(15% OFF)',\n",
       " 'Rs. 7649Rs. 8999(15% OFF)',\n",
       " 'Rs. 11049Rs. 12999(15% OFF)',\n",
       " 'Rs. 9999',\n",
       " 'Rs. 10799Rs. 11999(10% OFF)',\n",
       " 'Rs. 7199Rs. 8999(20% OFF)',\n",
       " 'Rs. 11899Rs. 13999(15% OFF)',\n",
       " 'Rs. 9999',\n",
       " 'Rs. 7499Rs. 9999(25% OFF)',\n",
       " 'Rs. 7309Rs. 8599(15% OFF)',\n",
       " 'Rs. 9999',\n",
       " 'Rs. 7649Rs. 8999(15% OFF)',\n",
       " 'Rs. 7799Rs. 12999(40% OFF)',\n",
       " 'Rs. 7799Rs. 12999(40% OFF)',\n",
       " 'Rs. 8499Rs. 9999(15% OFF)',\n",
       " 'Rs. 8499Rs. 9999(15% OFF)',\n",
       " 'Rs. 7199Rs. 8999(20% OFF)',\n",
       " 'Rs. 9999',\n",
       " 'Rs. 8799Rs. 10999(20% OFF)',\n",
       " 'Rs. 8249Rs. 10999(25% OFF)',\n",
       " 'Rs. 10199Rs. 11999(15% OFF)',\n",
       " 'Rs. 8074Rs. 9499(15% OFF)',\n",
       " 'Rs. 7899Rs. 9999(21% OFF)',\n",
       " 'Rs. 11875Rs. 12500(5% OFF)',\n",
       " 'Rs. 7599',\n",
       " 'Rs. 13999',\n",
       " 'Rs. 10199Rs. 11999(15% OFF)',\n",
       " 'Rs. 9099Rs. 12999(30% OFF)',\n",
       " 'Rs. 8499Rs. 9999(15% OFF)',\n",
       " 'Rs. 7499',\n",
       " 'Rs. 9749Rs. 12999(25% OFF)',\n",
       " 'Rs. 8999',\n",
       " 'Rs. 9405Rs. 9900(5% OFF)',\n",
       " 'Rs. 7999']"
      ]
     },
     "execution_count": 140,
     "metadata": {},
     "output_type": "execute_result"
    }
   ],
   "source": [
    "#Getting price for the shoes in front page..\n",
    "blackshoes_price"
   ]
  },
  {
   "cell_type": "code",
   "execution_count": 151,
   "id": "d7b700c6",
   "metadata": {},
   "outputs": [
    {
     "data": {
      "text/plain": [
       "<selenium.webdriver.remote.webelement.WebElement (session=\"8f17a31154da9189e1ca3a54f5ce0292\", element=\"a7bfc28e-ee8d-43ad-90be-efec30dbe0fa\")>"
      ]
     },
     "execution_count": 151,
     "metadata": {},
     "output_type": "execute_result"
    }
   ],
   "source": [
    "myntra_next = driver.find_element(By.XPATH,\"/html/body/div[2]/div/div[1]/main/div[3]/div[2]/div/div[2]/section/div[2]/ul/li[12]\")\n",
    "myntra_next"
   ]
  },
  {
   "cell_type": "code",
   "execution_count": 152,
   "id": "91028145",
   "metadata": {},
   "outputs": [],
   "source": [
    "myntra_next.click()"
   ]
  },
  {
   "cell_type": "code",
   "execution_count": 153,
   "id": "c3e4ef83",
   "metadata": {},
   "outputs": [
    {
     "data": {
      "text/plain": [
       "50"
      ]
     },
     "execution_count": 153,
     "metadata": {},
     "output_type": "execute_result"
    }
   ],
   "source": [
    "blackshoes_myntra = driver.find_elements(By.XPATH,'//h3[@ class=\"product-brand\"]')\n",
    "len(blackshoes_myntra)"
   ]
  },
  {
   "cell_type": "code",
   "execution_count": 154,
   "id": "0ab8ea84",
   "metadata": {},
   "outputs": [
    {
     "data": {
      "text/plain": [
       "50"
      ]
     },
     "execution_count": 154,
     "metadata": {},
     "output_type": "execute_result"
    }
   ],
   "source": [
    "blackshoes_myntra2=[]\n",
    "for i in blackshoes_myntra:\n",
    "    blackshoes_myntra2.append(i.text)\n",
    "len(blackshoes_myntra2)"
   ]
  },
  {
   "cell_type": "code",
   "execution_count": 155,
   "id": "7f6eb6b8",
   "metadata": {},
   "outputs": [
    {
     "data": {
      "text/plain": [
       "['Skechers',\n",
       " 'ASICS',\n",
       " 'Geox',\n",
       " 'Columbia',\n",
       " 'Hush Puppies',\n",
       " 'Geox',\n",
       " 'UNDER ARMOUR',\n",
       " 'Geox',\n",
       " 'Puma',\n",
       " 'Columbia',\n",
       " 'Hush Puppies',\n",
       " 'Geox',\n",
       " 'TRIBAN By Decathlon',\n",
       " 'Geox',\n",
       " 'Puma',\n",
       " 'TOMS',\n",
       " 'ASICS',\n",
       " 'PUMA Hoops',\n",
       " 'Bugatti',\n",
       " 'KIPRUN By Decathlon',\n",
       " 'TOMS',\n",
       " 'J.FONTINI',\n",
       " 'Puma',\n",
       " 'ASICS',\n",
       " 'ADIDAS Originals',\n",
       " 'Cole Haan',\n",
       " 'ROSSO BRUNELLO',\n",
       " 'Louis Philippe',\n",
       " 'J.FONTINI',\n",
       " 'Bugatti',\n",
       " 'Columbia',\n",
       " 'J.FONTINI',\n",
       " 'Puma',\n",
       " 'Clarks',\n",
       " 'Saint G',\n",
       " 'Saint G',\n",
       " 'DAVINCHI',\n",
       " 'J.FONTINI',\n",
       " 'Geox',\n",
       " 'Geox',\n",
       " 'Saint G',\n",
       " 'Saint G',\n",
       " 'fitflop',\n",
       " 'fitflop',\n",
       " 'fitflop',\n",
       " 'fitflop',\n",
       " 'Columbia',\n",
       " 'Puma',\n",
       " 'ADIDAS',\n",
       " 'ASICS']"
      ]
     },
     "execution_count": 155,
     "metadata": {},
     "output_type": "execute_result"
    }
   ],
   "source": [
    "#Getting brand for the shoes in second page..\n",
    "blackshoes_myntra2"
   ]
  },
  {
   "cell_type": "code",
   "execution_count": 156,
   "id": "f694d70c",
   "metadata": {},
   "outputs": [
    {
     "data": {
      "text/plain": [
       "50"
      ]
     },
     "execution_count": 156,
     "metadata": {},
     "output_type": "execute_result"
    }
   ],
   "source": [
    "blackshoes_description2 = driver.find_elements(By.XPATH,'//h4[@ class=\"product-product\"]')\n",
    "len(blackshoes_description2)"
   ]
  },
  {
   "cell_type": "code",
   "execution_count": 157,
   "id": "1c9503a4",
   "metadata": {},
   "outputs": [
    {
     "data": {
      "text/plain": [
       "50"
      ]
     },
     "execution_count": 157,
     "metadata": {},
     "output_type": "execute_result"
    }
   ],
   "source": [
    "blackshoes_description_p2=[]\n",
    "for i in blackshoes_description2:\n",
    "    blackshoes_description_p2.append(i.text)\n",
    "len(blackshoes_description_p2)"
   ]
  },
  {
   "cell_type": "code",
   "execution_count": 158,
   "id": "3abc0d84",
   "metadata": {},
   "outputs": [
    {
     "data": {
      "text/plain": [
       "['Men Textured Sneakers',\n",
       " 'Men GEL-Quantum 360 6 Sports',\n",
       " 'Women Ballerinas Flats',\n",
       " 'Men FACET OUTDRY Trekking Shoe',\n",
       " 'Men Solid Leather Formal Slip-Ons',\n",
       " 'Men Perforations Sneakers',\n",
       " 'W omen TriBase Reign 4 Running',\n",
       " 'Men Leather Sneakers',\n",
       " 'Women Magnify Nitro Running',\n",
       " 'Women Trekking Shoes',\n",
       " 'Men Solid Formal Slip-Ons',\n",
       " 'Leather Block Sandals',\n",
       " 'Unisex Training or Gym Shoes',\n",
       " 'Men Leather Sneakers',\n",
       " 'Men Deviate Nitro Shoes',\n",
       " 'Men Alpargata Slip-On Sneakers',\n",
       " 'Women Running Shoes',\n",
       " 'Fives Blaze Court Basketball',\n",
       " 'Men Textured Leather High-Top Flat Boots',\n",
       " 'Men Running Shoes',\n",
       " 'Men Sneakers',\n",
       " 'Men Leather Fashion',\n",
       " 'Unisex KING Pro 21 Football',\n",
       " 'Men GEL-GLYDE 3 MX Running',\n",
       " 'Women Ozelia Sneakers',\n",
       " 'Men GENERATION ZEROGRAND STITCHLITE',\n",
       " 'Men Perforations Leather Slip-On Sneakers',\n",
       " 'Men Textured Leather Loafers',\n",
       " 'Men Solid Loafers',\n",
       " 'Men Black Formal Derby Shoes',\n",
       " 'Cascade Peak II Jacket',\n",
       " 'Men Textured Leather Loafers',\n",
       " 'Women RS-Z Luminous Sneakers',\n",
       " 'Men Woven Design Suede Flat Boots',\n",
       " 'Men Solid Leather Formal Boots',\n",
       " 'Leather Block Sandals',\n",
       " 'Men Textured Formal Leather Loafers',\n",
       " 'Men Textured Leather Formal Loafers',\n",
       " 'Textured Leather Block Pumps',\n",
       " 'Leather Block Pumps',\n",
       " 'Leather Block Sandals with Buckles',\n",
       " 'Leather Block',\n",
       " 'Leather Flatform Sandals',\n",
       " 'Embellished Leather Flatform Sandals',\n",
       " 'Embellished Leather Wedge Sandals',\n",
       " 'Embellished PU Comfort Pumps',\n",
       " 'Women REDMOND V2 TrekkingShoe',\n",
       " 'Women Running Sports Shoes',\n",
       " 'Women X9000 H.RDY Running',\n",
       " 'Men TARTHER BLAST Running']"
      ]
     },
     "execution_count": 158,
     "metadata": {},
     "output_type": "execute_result"
    }
   ],
   "source": [
    "#Getting description for the shoes in second page..\n",
    "blackshoes_description_p2"
   ]
  },
  {
   "cell_type": "code",
   "execution_count": 162,
   "id": "f0393596",
   "metadata": {},
   "outputs": [
    {
     "data": {
      "text/plain": [
       "50"
      ]
     },
     "execution_count": 162,
     "metadata": {},
     "output_type": "execute_result"
    }
   ],
   "source": [
    "blackshoes_price2 = driver.find_elements(By.XPATH,'//div[@ class=\"product-price\"]')\n",
    "len(blackshoes_price2)"
   ]
  },
  {
   "cell_type": "code",
   "execution_count": 163,
   "id": "c0dfbb00",
   "metadata": {},
   "outputs": [
    {
     "data": {
      "text/plain": [
       "50"
      ]
     },
     "execution_count": 163,
     "metadata": {},
     "output_type": "execute_result"
    }
   ],
   "source": [
    "blackshoes_price_p2=[]\n",
    "for i in blackshoes_price2:\n",
    "    blackshoes_price_p2.append(i.text)\n",
    "len(blackshoes_price_p2)"
   ]
  },
  {
   "cell_type": "code",
   "execution_count": 164,
   "id": "c98cb0ba",
   "metadata": {},
   "outputs": [
    {
     "data": {
      "text/plain": [
       "['Rs. 7999',\n",
       " 'Rs. 13999',\n",
       " 'Rs. 9891Rs. 10990(10% OFF)',\n",
       " 'Rs. 12999',\n",
       " 'Rs. 8499Rs. 9999(15% OFF)',\n",
       " 'Rs. 12591Rs. 13990(10% OFF)',\n",
       " 'Rs. 11999',\n",
       " 'Rs. 12990',\n",
       " 'Rs. 9099Rs. 12999(30% OFF)',\n",
       " 'Rs. 8999',\n",
       " 'Rs. 9999',\n",
       " 'Rs. 7693Rs. 10990(30% OFF)',\n",
       " 'Rs. 9459Rs. 10999(14% OFF)',\n",
       " 'Rs. 13990',\n",
       " 'Rs. 10499Rs. 14999(30% OFF)',\n",
       " 'Rs. 7199Rs. 7999(10% OFF)',\n",
       " 'Rs. 7999',\n",
       " 'Rs. 8799Rs. 10999(20% OFF)',\n",
       " 'Rs. 7199Rs. 11999(40% OFF)',\n",
       " 'Rs. 8685Rs. 10099(14% OFF)',\n",
       " 'Rs. 7199Rs. 7999(10% OFF)',\n",
       " 'Rs. 8490',\n",
       " 'Rs. 7999Rs. 9999(20% OFF)',\n",
       " 'Rs. 7649Rs. 8999(15% OFF)',\n",
       " 'Rs. 9349Rs. 10999(15% OFF)',\n",
       " 'Rs. 11999',\n",
       " 'Rs. 8399Rs. 11999(30% OFF)',\n",
       " 'Rs. 9999',\n",
       " 'Rs. 8990',\n",
       " 'Rs. 11999',\n",
       " 'Rs. 7999',\n",
       " 'Rs. 7990',\n",
       " 'Rs. 8499Rs. 9999(15% OFF)',\n",
       " 'Rs. 7899Rs. 9999(21% OFF)',\n",
       " 'Rs. 9900Rs. 12500(Rs. 2600 OFF)',\n",
       " 'Rs. 9810Rs. 10900(10% OFF)',\n",
       " 'Rs. 8990',\n",
       " 'Rs. 8990',\n",
       " 'Rs. 8393Rs. 11990(30% OFF)',\n",
       " 'Rs. 8393Rs. 11990(30% OFF)',\n",
       " 'Rs. 8505Rs. 10500(19% OFF)',\n",
       " 'Rs. 9975Rs. 10500(5% OFF)',\n",
       " 'Rs. 7999',\n",
       " 'Rs. 7999',\n",
       " 'Rs. 7499',\n",
       " 'Rs. 7499',\n",
       " 'Rs. 7999',\n",
       " 'Rs. 10499Rs. 14999(30% OFF)',\n",
       " 'Rs. 13999',\n",
       " 'Rs. 7999']"
      ]
     },
     "execution_count": 164,
     "metadata": {},
     "output_type": "execute_result"
    }
   ],
   "source": [
    "#Getting price for the shoes in second page..\n",
    "blackshoes_price_p2"
   ]
  },
  {
   "cell_type": "markdown",
   "id": "2c2eeab0",
   "metadata": {},
   "source": [
    "# ques8"
   ]
  },
  {
   "cell_type": "code",
   "execution_count": 201,
   "id": "4702b32a",
   "metadata": {},
   "outputs": [],
   "source": [
    "driver = webdriver.Chrome(r'C:\\Users\\Admin\\Downloads\\chromedriver_win32\\chromedriver.exe')"
   ]
  },
  {
   "cell_type": "code",
   "execution_count": 202,
   "id": "9db400a0",
   "metadata": {},
   "outputs": [],
   "source": [
    "url='https://www.amazon.in'\n",
    "driver.get(url)"
   ]
  },
  {
   "cell_type": "code",
   "execution_count": 204,
   "id": "200b1e20",
   "metadata": {},
   "outputs": [
    {
     "data": {
      "text/plain": [
       "<selenium.webdriver.remote.webelement.WebElement (session=\"128a7e356a4d7fb76cc3ed19e5d7094c\", element=\"4e1edf90-22d2-4a63-95d0-6c50f2999dee\")>"
      ]
     },
     "execution_count": 204,
     "metadata": {},
     "output_type": "execute_result"
    }
   ],
   "source": [
    "search_laptop = driver.find_element(By.XPATH,\"/html/body/div[1]/header/div/div[1]/div[2]/div/form/div[2]/div[1]/input\")\n",
    "search_laptop"
   ]
  },
  {
   "cell_type": "code",
   "execution_count": 205,
   "id": "5f6693df",
   "metadata": {},
   "outputs": [],
   "source": [
    "search_laptop.send_keys(\"Laptop\")"
   ]
  },
  {
   "cell_type": "code",
   "execution_count": 208,
   "id": "87014085",
   "metadata": {},
   "outputs": [
    {
     "data": {
      "text/plain": [
       "<selenium.webdriver.remote.webelement.WebElement (session=\"128a7e356a4d7fb76cc3ed19e5d7094c\", element=\"a6fb7e23-e46a-44ed-a62d-5f7dae9b97a6\")>"
      ]
     },
     "execution_count": 208,
     "metadata": {},
     "output_type": "execute_result"
    }
   ],
   "source": [
    "search_amzn = driver.find_element(By.XPATH,\"/html/body/div[1]/header/div/div[1]/div[2]/div/form/div[3]/div\")\n",
    "search_amzn"
   ]
  },
  {
   "cell_type": "code",
   "execution_count": 209,
   "id": "5f7065d4",
   "metadata": {},
   "outputs": [],
   "source": [
    "search_amzn.click()"
   ]
  },
  {
   "cell_type": "code",
   "execution_count": 210,
   "id": "45608d87",
   "metadata": {},
   "outputs": [
    {
     "data": {
      "text/plain": [
       "<selenium.webdriver.remote.webelement.WebElement (session=\"128a7e356a4d7fb76cc3ed19e5d7094c\", element=\"bc595014-d440-496a-abc7-9153a1be201a\")>"
      ]
     },
     "execution_count": 210,
     "metadata": {},
     "output_type": "execute_result"
    }
   ],
   "source": [
    "cpu_filter = driver.find_element(By.XPATH,\"/html/body/div[1]/div[2]/div[1]/div[2]/div/div[3]/span/div[1]/div/div/div[6]/ul[4]/li[12]/span/a/div/label/i\")\n",
    "cpu_filter"
   ]
  },
  {
   "cell_type": "code",
   "execution_count": 211,
   "id": "8b052d9c",
   "metadata": {},
   "outputs": [],
   "source": [
    "cpu_filter.click()"
   ]
  },
  {
   "cell_type": "code",
   "execution_count": 213,
   "id": "5094bc58",
   "metadata": {},
   "outputs": [
    {
     "data": {
      "text/plain": [
       "24"
      ]
     },
     "execution_count": 213,
     "metadata": {},
     "output_type": "execute_result"
    }
   ],
   "source": [
    "laptop = driver.find_elements(By.XPATH,'//span[@ class=\"a-size-medium a-color-base a-text-normal\"]')\n",
    "len(laptop)"
   ]
  },
  {
   "cell_type": "code",
   "execution_count": 214,
   "id": "a7e6f5c6",
   "metadata": {},
   "outputs": [
    {
     "data": {
      "text/plain": [
       "24"
      ]
     },
     "execution_count": 214,
     "metadata": {},
     "output_type": "execute_result"
    }
   ],
   "source": [
    "laptop_title=[]\n",
    "for i in laptop:\n",
    "    laptop_title.append(i.text)\n",
    "len(laptop_title)"
   ]
  },
  {
   "cell_type": "code",
   "execution_count": 216,
   "id": "93c9a3ab",
   "metadata": {},
   "outputs": [
    {
     "data": {
      "text/plain": [
       "['Hp Pavilion 15 12Th Gen Intel Core I7 16Gb Sdram/1Tb Ssd 15.6 Inches (39.6Cm) Fhd,IPS/Intel Iris Xe Graphics/B&O/Windows 11 Home/Alexa/Backlit Kb/Fpr/Mso 2021/1.75Kg, 15-Eg2039Tu, Natural Silver',\n",
       " 'Hp Pavilion X360 11Th Gen Intel Core I7 14 Inches Fhd Multitouch 2In1 Laptop (16Gb Ram/512Gb Ssd/B&O/Windows 11 Home/Fpr/Backlit Kb/Intel Iris Xe Graphics/Pen/Alexa/Ms Office/Silver/1.52Kg)14-Dy1047Tu',\n",
       " 'Lenovo ThinkBook 15 Intel 11th Gen Core i7 15.6\"(39.62 cm)FHD Thin and Light Laptop (16GB/512GB SSD/Windows 11 Home/MS Office H&S 2021/Iris® Xe Graphics/Backlit/Mineral Grey/1.7 Kg) 20VE00W4IH',\n",
       " 'HP Pavilion 14 12th Gen Intel Core i7 16GB SDRAM/1TB SSD 14 inch(35.6cm) FHD,IPS,Micro-Edge Display/Intel UHD Graphics/B&O/Win 11/Alexa Built-in/Backlit KB/FPR/MSO 2021/Natural Silver, 14-dv2015TU',\n",
       " 'ASUS TUF Gaming F15 (2022), 15.6-inch (39.62 cms) FHD 144Hz, Intel Core i7-12700H 12th Gen, RTX 3050 Ti 4GB Graphics, Gaming Laptop (16GB/512GB SSD/Windows 11/Gray/2.2 Kg), FX507ZE-HN038W',\n",
       " 'HP Envy 11th Gen Intel Evo Core i7 14 inch(35.6 cm) WUXGA Anti-Glare Display 2-in-1 Laptop(16GB RAM/1TB SSD/GTX 1650 4GB Graphics/400 nits/Win 11/MS Office/FPR/B&O/Alexa Built-in/1.59 Kg), 14-eb0021TX',\n",
       " 'Samsung Galaxy Book2 Intel 12th Gen core i7 39.6cm (15.6\") FHD LED Thin & Light Laptop (16 GB/512 GB SSD/Windows 11/MS Office/Backlit Keyboard/Fingerprint Reader/Silver/1.55Kg), NP750XED-KC2IN',\n",
       " 'Lenovo IdeaPad Flex 5 Intel Core i7 11th Gen 14\" (35.56cm) FHD IPS 2-in-1 Convertible Touchscreen Laptop (16GB/512GB SDD/Win11/Office 2021/Backlit/FPR/3months Game Pass/Graphite Grey/1.5Kg),82HS018XIN',\n",
       " 'LG Gram 16 Intel Evo 11th Gen i7 Thin & Light Laptop 2K+ IPS 16:10 Display [16 GB RAM/ 512 GB SSD/ Windows 11 / Iris Xe Graphics/ Thunderbolt 4, USC -C x 2 / 1.19 kg, Black/ 3Yr Warranty] 16Z90P',\n",
       " 'Lenovo ThinkBook 13s Intel 11th Gen Core i7 13.3\"(33.78 cm) WQXGA IPS 300 nits 100% sRGB Dolby Vision Thin and Light Laptop (16GB/512GB SSD/Windows 10 Professional/Mineral Grey/1.26 Kg), 20V9A032IH']"
      ]
     },
     "execution_count": 216,
     "metadata": {},
     "output_type": "execute_result"
    }
   ],
   "source": [
    "laptop_title[0:10]"
   ]
  },
  {
   "cell_type": "code",
   "execution_count": 243,
   "id": "e5d63bac",
   "metadata": {},
   "outputs": [
    {
     "data": {
      "text/plain": [
       "18"
      ]
     },
     "execution_count": 243,
     "metadata": {},
     "output_type": "execute_result"
    }
   ],
   "source": [
    "ratings = driver.find_elements(By.XPATH,'//a[@ class=\"a-popover-trigger a-declarative\"]')\n",
    "len(ratings)"
   ]
  },
  {
   "cell_type": "code",
   "execution_count": 244,
   "id": "527692c8",
   "metadata": {},
   "outputs": [
    {
     "data": {
      "text/plain": [
       "18"
      ]
     },
     "execution_count": 244,
     "metadata": {},
     "output_type": "execute_result"
    }
   ],
   "source": [
    "laptop_ratings=[]\n",
    "for i in ratings:\n",
    "    laptop_ratings.append(i.text)\n",
    "len(laptop_ratings)"
   ]
  },
  {
   "cell_type": "code",
   "execution_count": 245,
   "id": "9299a3de",
   "metadata": {},
   "outputs": [
    {
     "data": {
      "text/plain": [
       "['', '', '', '', '', '', '', '', '', '', '', '', '', '', '', '', '', '']"
      ]
     },
     "execution_count": 245,
     "metadata": {},
     "output_type": "execute_result"
    }
   ],
   "source": [
    "laptop_ratings"
   ]
  },
  {
   "cell_type": "code",
   "execution_count": 247,
   "id": "1d92e9a9",
   "metadata": {},
   "outputs": [
    {
     "data": {
      "text/plain": [
       "24"
      ]
     },
     "execution_count": 247,
     "metadata": {},
     "output_type": "execute_result"
    }
   ],
   "source": [
    "price = driver.find_elements(By.XPATH,'//span[@ class=\"a-price-whole\"]')\n",
    "len(price)"
   ]
  },
  {
   "cell_type": "code",
   "execution_count": 248,
   "id": "a2931142",
   "metadata": {},
   "outputs": [
    {
     "data": {
      "text/plain": [
       "24"
      ]
     },
     "execution_count": 248,
     "metadata": {},
     "output_type": "execute_result"
    }
   ],
   "source": [
    "laptop_price=[]\n",
    "for i in price:\n",
    "    laptop_price.append(i.text)\n",
    "len(laptop_price)"
   ]
  },
  {
   "cell_type": "code",
   "execution_count": 250,
   "id": "4249bfe7",
   "metadata": {},
   "outputs": [
    {
     "data": {
      "text/plain": [
       "['87,900',\n",
       " '82,990',\n",
       " '86,990',\n",
       " '86,990',\n",
       " '1,12,990',\n",
       " '99,499',\n",
       " '79,990',\n",
       " '80,290',\n",
       " '85,499',\n",
       " '89,990']"
      ]
     },
     "execution_count": 250,
     "metadata": {},
     "output_type": "execute_result"
    }
   ],
   "source": [
    "laptop_price[0:10]"
   ]
  },
  {
   "cell_type": "markdown",
   "id": "4349a711",
   "metadata": {},
   "source": [
    "# ques9"
   ]
  },
  {
   "cell_type": "code",
   "execution_count": 261,
   "id": "1fa530be",
   "metadata": {},
   "outputs": [],
   "source": [
    "#Getting web driver google chrome..\n",
    "driver = webdriver.Chrome(r'C:\\Users\\Admin\\Downloads\\chromedriver_win32\\chromedriver.exe')"
   ]
  },
  {
   "cell_type": "code",
   "execution_count": 262,
   "id": "cf2cdcaa",
   "metadata": {},
   "outputs": [],
   "source": [
    "#Getting url as Ambitionbox..\n",
    "url='https://www.ambitionbox.com/'\n",
    "driver.get(url)\n"
   ]
  },
  {
   "cell_type": "code",
   "execution_count": 263,
   "id": "0b1ae548",
   "metadata": {},
   "outputs": [
    {
     "data": {
      "text/plain": [
       "<selenium.webdriver.remote.webelement.WebElement (session=\"b8a573adde1c80f88b7867f26cef0076\", element=\"6d9c3748-bd56-47ea-b74e-35a04c501397\")>"
      ]
     },
     "execution_count": 263,
     "metadata": {},
     "output_type": "execute_result"
    }
   ],
   "source": [
    "job_click = driver.find_element(By.XPATH,\"/html/body/div[1]/nav/nav/a[6]\")\n",
    "job_click"
   ]
  },
  {
   "cell_type": "code",
   "execution_count": 264,
   "id": "241cb5b4",
   "metadata": {},
   "outputs": [],
   "source": [
    "job_click.click()"
   ]
  },
  {
   "cell_type": "code",
   "execution_count": 268,
   "id": "b20c84f8",
   "metadata": {},
   "outputs": [
    {
     "data": {
      "text/plain": [
       "<selenium.webdriver.remote.webelement.WebElement (session=\"b8a573adde1c80f88b7867f26cef0076\", element=\"6a9c109e-9404-4ad2-9ff3-085ecf64620d\")>"
      ]
     },
     "execution_count": 268,
     "metadata": {},
     "output_type": "execute_result"
    }
   ],
   "source": [
    "ambition_job = driver.find_element(By.XPATH,\"/html/body/div/div/div/div[2]/div[1]/div[1]/div/div/div/div/span/input\")\n",
    "ambition_job"
   ]
  },
  {
   "cell_type": "code",
   "execution_count": 269,
   "id": "7e034d87",
   "metadata": {},
   "outputs": [],
   "source": [
    "#Sending DataScientist in Search box..\n",
    "ambition_job.send_keys(\"Data Scientist\")"
   ]
  },
  {
   "cell_type": "code",
   "execution_count": 270,
   "id": "cb728771",
   "metadata": {},
   "outputs": [
    {
     "data": {
      "text/plain": [
       "<selenium.webdriver.remote.webelement.WebElement (session=\"b8a573adde1c80f88b7867f26cef0076\", element=\"78c62a0c-24ce-454e-8867-bd0368de793f\")>"
      ]
     },
     "execution_count": 270,
     "metadata": {},
     "output_type": "execute_result"
    }
   ],
   "source": [
    "job_search = driver.find_element(By.XPATH,\"/html/body/div/div/div/div[2]/div[1]/div[1]/div/div/div/button/span\")\n",
    "job_search"
   ]
  },
  {
   "cell_type": "code",
   "execution_count": 271,
   "id": "2c254bbd",
   "metadata": {},
   "outputs": [],
   "source": [
    "#Clicking Search icon in web page..\n",
    "job_search.click()"
   ]
  },
  {
   "cell_type": "code",
   "execution_count": 272,
   "id": "6f1ac9c4",
   "metadata": {},
   "outputs": [
    {
     "data": {
      "text/plain": [
       "<selenium.webdriver.remote.webelement.WebElement (session=\"b8a573adde1c80f88b7867f26cef0076\", element=\"2ef90f0e-daf7-4e3c-8e8b-ccf01a69ed5a\")>"
      ]
     },
     "execution_count": 272,
     "metadata": {},
     "output_type": "execute_result"
    }
   ],
   "source": [
    "job_loc = driver.find_element(By.XPATH,\"/html/body/div/div/div/div[2]/div[1]/div[2]/div[1]/div/div/div/div[2]/div[1]/p\")\n",
    "job_loc"
   ]
  },
  {
   "cell_type": "code",
   "execution_count": 273,
   "id": "8e88f791",
   "metadata": {},
   "outputs": [],
   "source": [
    "job_loc.click()"
   ]
  },
  {
   "cell_type": "code",
   "execution_count": 274,
   "id": "3b850cf9",
   "metadata": {},
   "outputs": [
    {
     "data": {
      "text/plain": [
       "<selenium.webdriver.remote.webelement.WebElement (session=\"b8a573adde1c80f88b7867f26cef0076\", element=\"dd0c0759-596f-4f9e-a23f-26b7f28477e7\")>"
      ]
     },
     "execution_count": 274,
     "metadata": {},
     "output_type": "execute_result"
    }
   ],
   "source": [
    "search_loc = driver.find_element(By.XPATH,\"/html/body/div/div/div/div[2]/div[1]/div[2]/div[1]/div/div/div/div[2]/div[2]/div/div[2]/input\")\n",
    "search_loc"
   ]
  },
  {
   "cell_type": "code",
   "execution_count": 275,
   "id": "24595424",
   "metadata": {},
   "outputs": [],
   "source": [
    "#Sending noida in location box..\n",
    "search_loc.send_keys(\"Noida\")"
   ]
  },
  {
   "cell_type": "code",
   "execution_count": 276,
   "id": "30bba103",
   "metadata": {},
   "outputs": [
    {
     "data": {
      "text/plain": [
       "<selenium.webdriver.remote.webelement.WebElement (session=\"b8a573adde1c80f88b7867f26cef0076\", element=\"bae1989f-6056-4d6f-9437-550e3ddb75d4\")>"
      ]
     },
     "execution_count": 276,
     "metadata": {},
     "output_type": "execute_result"
    }
   ],
   "source": [
    "select_loc = driver.find_element(By.XPATH,\"/html/body/div/div/div/div[2]/div[1]/div[2]/div[1]/div/div/div/div[2]/div[2]/div/div[3]/div[1]/div[1]/div/label\")\n",
    "select_loc"
   ]
  },
  {
   "cell_type": "code",
   "execution_count": 277,
   "id": "88d4ebff",
   "metadata": {},
   "outputs": [],
   "source": [
    "#Clicking location icon..\n",
    "select_loc.click()"
   ]
  },
  {
   "cell_type": "code",
   "execution_count": 278,
   "id": "47f48634",
   "metadata": {},
   "outputs": [
    {
     "data": {
      "text/plain": [
       "10"
      ]
     },
     "execution_count": 278,
     "metadata": {},
     "output_type": "execute_result"
    }
   ],
   "source": [
    "noida_compname = driver.find_elements(By.XPATH,'//p[@ class=\"company body-medium\"]')\n",
    "len(noida_compname)"
   ]
  },
  {
   "cell_type": "code",
   "execution_count": 279,
   "id": "1d30542b",
   "metadata": {},
   "outputs": [
    {
     "data": {
      "text/plain": [
       "10"
      ]
     },
     "execution_count": 279,
     "metadata": {},
     "output_type": "execute_result"
    }
   ],
   "source": [
    "comp_name=[]\n",
    "for i in noida_compname:\n",
    "    comp_name.append(i.text)\n",
    "len(comp_name)"
   ]
  },
  {
   "cell_type": "code",
   "execution_count": 280,
   "id": "d56b03fe",
   "metadata": {},
   "outputs": [
    {
     "data": {
      "text/plain": [
       "['Optum Global Solutions (India) Private Limited',\n",
       " 'GENPACT India Private Limited',\n",
       " 'GENPACT India Private Limited',\n",
       " 'InfoEdge India Ltd.',\n",
       " 'Dew Solutions Pvt. Ltd.',\n",
       " 'Info Edge India Limited',\n",
       " 'Info Edge India Limited',\n",
       " 'Latent bridge',\n",
       " 'Careerera',\n",
       " 'Careernet Consulting']"
      ]
     },
     "execution_count": 280,
     "metadata": {},
     "output_type": "execute_result"
    }
   ],
   "source": [
    "#Company name for first 10 companie sin ambition box web page..\n",
    "comp_name"
   ]
  },
  {
   "cell_type": "code",
   "execution_count": 284,
   "id": "53dbbc65",
   "metadata": {},
   "outputs": [
    {
     "data": {
      "text/plain": [
       "20"
      ]
     },
     "execution_count": 284,
     "metadata": {},
     "output_type": "execute_result"
    }
   ],
   "source": [
    "comp_posted = driver.find_elements(By.XPATH,'//span[@ class=\"body-small-l\"]')\n",
    "len(comp_posted)"
   ]
  },
  {
   "cell_type": "code",
   "execution_count": 285,
   "id": "743ee60e",
   "metadata": {},
   "outputs": [
    {
     "data": {
      "text/plain": [
       "20"
      ]
     },
     "execution_count": 285,
     "metadata": {},
     "output_type": "execute_result"
    }
   ],
   "source": [
    "posted_ago=[]\n",
    "for i in comp_posted:\n",
    "    posted_ago.append(i.text)\n",
    "len(posted_ago)"
   ]
  },
  {
   "cell_type": "code",
   "execution_count": 289,
   "id": "44ef9f42",
   "metadata": {},
   "outputs": [
    {
     "data": {
      "text/plain": [
       "['7d ago',\n",
       " 'via naukri.com',\n",
       " '14d ago',\n",
       " 'via naukri.com',\n",
       " '1mon ago',\n",
       " 'via naukri.com',\n",
       " '12d ago',\n",
       " 'via hirist.com',\n",
       " '5d ago',\n",
       " 'via hirist.com',\n",
       " '13d ago',\n",
       " 'via hirist.com',\n",
       " '13d ago',\n",
       " 'via hirist.com',\n",
       " '13d ago',\n",
       " 'via hirist.com',\n",
       " '11hr ago',\n",
       " 'via naukri.com',\n",
       " '27d ago',\n",
       " 'via iimjobs.com']"
      ]
     },
     "execution_count": 289,
     "metadata": {},
     "output_type": "execute_result"
    }
   ],
   "source": [
    "posted_ago"
   ]
  },
  {
   "cell_type": "code",
   "execution_count": 301,
   "id": "d6137a62",
   "metadata": {},
   "outputs": [
    {
     "data": {
      "text/plain": [
       "['7d ago',\n",
       " '14d ago',\n",
       " '1mon ago',\n",
       " '12d ago',\n",
       " '5d ago',\n",
       " '13d ago',\n",
       " '13d ago',\n",
       " '13d ago',\n",
       " '11hr ago',\n",
       " '27d ago']"
      ]
     },
     "execution_count": 301,
     "metadata": {},
     "output_type": "execute_result"
    }
   ],
   "source": [
    "#Adv posted days fr 10 comp in ambition box web page...\n",
    "posted_days_ago=posted_ago[0: :2]\n",
    "posted_days_ago"
   ]
  },
  {
   "cell_type": "code",
   "execution_count": 291,
   "id": "f09220fd",
   "metadata": {},
   "outputs": [
    {
     "data": {
      "text/plain": [
       "10"
      ]
     },
     "execution_count": 291,
     "metadata": {},
     "output_type": "execute_result"
    }
   ],
   "source": [
    "comp_rating = driver.find_elements(By.XPATH,'//span[@ class=\"body-small\"]')\n",
    "len(comp_rating)"
   ]
  },
  {
   "cell_type": "code",
   "execution_count": 293,
   "id": "0e6fcd56",
   "metadata": {},
   "outputs": [
    {
     "data": {
      "text/plain": [
       "10"
      ]
     },
     "execution_count": 293,
     "metadata": {},
     "output_type": "execute_result"
    }
   ],
   "source": [
    "ratings_comp=[]\n",
    "for i in comp_rating:\n",
    "    ratings_comp.append(i.text)\n",
    "len(ratings_comp)"
   ]
  },
  {
   "cell_type": "code",
   "execution_count": 296,
   "id": "21951979",
   "metadata": {},
   "outputs": [
    {
     "data": {
      "text/plain": [
       "['4.1', '4.0', '4.0', '3.9', '4.3', '3.9', '3.9', '4.5', '3.8', '3.9']"
      ]
     },
     "execution_count": 296,
     "metadata": {},
     "output_type": "execute_result"
    }
   ],
   "source": [
    "ratings_comp"
   ]
  },
  {
   "cell_type": "code",
   "execution_count": 302,
   "id": "790863b3",
   "metadata": {},
   "outputs": [
    {
     "data": {
      "text/html": [
       "<div>\n",
       "<style scoped>\n",
       "    .dataframe tbody tr th:only-of-type {\n",
       "        vertical-align: middle;\n",
       "    }\n",
       "\n",
       "    .dataframe tbody tr th {\n",
       "        vertical-align: top;\n",
       "    }\n",
       "\n",
       "    .dataframe thead th {\n",
       "        text-align: right;\n",
       "    }\n",
       "</style>\n",
       "<table border=\"1\" class=\"dataframe\">\n",
       "  <thead>\n",
       "    <tr style=\"text-align: right;\">\n",
       "      <th></th>\n",
       "      <th>CompanyName</th>\n",
       "      <th>Job_Posted_Days</th>\n",
       "      <th>Ratings_of_the_Company</th>\n",
       "    </tr>\n",
       "  </thead>\n",
       "  <tbody>\n",
       "    <tr>\n",
       "      <th>0</th>\n",
       "      <td>Optum Global Solutions (India) Private Limited</td>\n",
       "      <td>7d ago</td>\n",
       "      <td>4.1</td>\n",
       "    </tr>\n",
       "    <tr>\n",
       "      <th>1</th>\n",
       "      <td>GENPACT India Private Limited</td>\n",
       "      <td>14d ago</td>\n",
       "      <td>4.0</td>\n",
       "    </tr>\n",
       "    <tr>\n",
       "      <th>2</th>\n",
       "      <td>GENPACT India Private Limited</td>\n",
       "      <td>1mon ago</td>\n",
       "      <td>4.0</td>\n",
       "    </tr>\n",
       "    <tr>\n",
       "      <th>3</th>\n",
       "      <td>InfoEdge India Ltd.</td>\n",
       "      <td>12d ago</td>\n",
       "      <td>3.9</td>\n",
       "    </tr>\n",
       "    <tr>\n",
       "      <th>4</th>\n",
       "      <td>Dew Solutions Pvt. Ltd.</td>\n",
       "      <td>5d ago</td>\n",
       "      <td>4.3</td>\n",
       "    </tr>\n",
       "    <tr>\n",
       "      <th>5</th>\n",
       "      <td>Info Edge India Limited</td>\n",
       "      <td>13d ago</td>\n",
       "      <td>3.9</td>\n",
       "    </tr>\n",
       "    <tr>\n",
       "      <th>6</th>\n",
       "      <td>Info Edge India Limited</td>\n",
       "      <td>13d ago</td>\n",
       "      <td>3.9</td>\n",
       "    </tr>\n",
       "    <tr>\n",
       "      <th>7</th>\n",
       "      <td>Latent bridge</td>\n",
       "      <td>13d ago</td>\n",
       "      <td>4.5</td>\n",
       "    </tr>\n",
       "    <tr>\n",
       "      <th>8</th>\n",
       "      <td>Careerera</td>\n",
       "      <td>11hr ago</td>\n",
       "      <td>3.8</td>\n",
       "    </tr>\n",
       "    <tr>\n",
       "      <th>9</th>\n",
       "      <td>Careernet Consulting</td>\n",
       "      <td>27d ago</td>\n",
       "      <td>3.9</td>\n",
       "    </tr>\n",
       "  </tbody>\n",
       "</table>\n",
       "</div>"
      ],
      "text/plain": [
       "                                      CompanyName Job_Posted_Days  \\\n",
       "0  Optum Global Solutions (India) Private Limited          7d ago   \n",
       "1                   GENPACT India Private Limited         14d ago   \n",
       "2                   GENPACT India Private Limited        1mon ago   \n",
       "3                             InfoEdge India Ltd.         12d ago   \n",
       "4                         Dew Solutions Pvt. Ltd.          5d ago   \n",
       "5                         Info Edge India Limited         13d ago   \n",
       "6                         Info Edge India Limited         13d ago   \n",
       "7                                   Latent bridge         13d ago   \n",
       "8                                       Careerera        11hr ago   \n",
       "9                            Careernet Consulting         27d ago   \n",
       "\n",
       "  Ratings_of_the_Company  \n",
       "0                    4.1  \n",
       "1                    4.0  \n",
       "2                    4.0  \n",
       "3                    3.9  \n",
       "4                    4.3  \n",
       "5                    3.9  \n",
       "6                    3.9  \n",
       "7                    4.5  \n",
       "8                    3.8  \n",
       "9                    3.9  "
      ]
     },
     "execution_count": 302,
     "metadata": {},
     "output_type": "execute_result"
    }
   ],
   "source": [
    "#Creating Data Frame for 10companies in ambition box webpage..\n",
    "import pandas as pd\n",
    "df=pd.DataFrame({\"CompanyName\":comp_name,\"Job_Posted_Days\":posted_days_ago,\"Ratings_of_the_Company\":ratings_comp})\n",
    "df"
   ]
  },
  {
   "cell_type": "markdown",
   "id": "3bac6b95",
   "metadata": {},
   "source": [
    "# ques10"
   ]
  },
  {
   "cell_type": "code",
   "execution_count": 118,
   "id": "7aa80747",
   "metadata": {},
   "outputs": [],
   "source": [
    "#Getting google chrome driver..\n",
    "driver = webdriver.Chrome(r'C:\\Users\\Admin\\Downloads\\chromedriver_win32\\chromedriver.exe')"
   ]
  },
  {
   "cell_type": "code",
   "execution_count": 119,
   "id": "1a52829f",
   "metadata": {},
   "outputs": [],
   "source": [
    "#getting ambitionbox as url..\n",
    "url='https://www.ambitionbox.com/'\n",
    "driver.get(url)"
   ]
  },
  {
   "cell_type": "code",
   "execution_count": 120,
   "id": "e9667b0e",
   "metadata": {},
   "outputs": [
    {
     "data": {
      "text/plain": [
       "<selenium.webdriver.remote.webelement.WebElement (session=\"6e14a0421f8a408ad053da7624be5845\", element=\"4fb48577-d364-47ab-bfc7-0ff4eb828147\")>"
      ]
     },
     "execution_count": 120,
     "metadata": {},
     "output_type": "execute_result"
    }
   ],
   "source": [
    "salaries_click = driver.find_element(By.XPATH,\"/html/body/div[1]/nav/nav/a[4]\")\n",
    "salaries_click"
   ]
  },
  {
   "cell_type": "code",
   "execution_count": 121,
   "id": "71fb312c",
   "metadata": {},
   "outputs": [],
   "source": [
    "#Clicking the salaries in front page..\n",
    "salaries_click.click()"
   ]
  },
  {
   "cell_type": "code",
   "execution_count": 122,
   "id": "ed42674a",
   "metadata": {},
   "outputs": [
    {
     "data": {
      "text/plain": [
       "<selenium.webdriver.remote.webelement.WebElement (session=\"6e14a0421f8a408ad053da7624be5845\", element=\"d04df438-18df-4a35-822b-6dfaa74ed744\")>"
      ]
     },
     "execution_count": 122,
     "metadata": {},
     "output_type": "execute_result"
    }
   ],
   "source": [
    "job_profiles = driver.find_element(By.XPATH,\"//input[@class='tt-input']\")\n",
    "job_profiles"
   ]
  },
  {
   "cell_type": "code",
   "execution_count": 123,
   "id": "aae824ae",
   "metadata": {},
   "outputs": [],
   "source": [
    "#Entering DataScientist in Search box..\n",
    "job_profiles.send_keys(\"Data Scientist\")"
   ]
  },
  {
   "cell_type": "code",
   "execution_count": 124,
   "id": "a6e0276b",
   "metadata": {},
   "outputs": [
    {
     "data": {
      "text/plain": [
       "<selenium.webdriver.remote.webelement.WebElement (session=\"f8f75f6bca240b64a50ae4ea42db86eb\", element=\"b4eea9d5-ff25-4c75-89f8-0f6659f892df\")>"
      ]
     },
     "execution_count": 124,
     "metadata": {},
     "output_type": "execute_result"
    }
   ],
   "source": [
    "datascientist_salaries= driver.find_element(By.XPATH,\"//button[@class='ab_btn search-btn round']\")\n",
    "datascientist_click"
   ]
  },
  {
   "cell_type": "code",
   "execution_count": 125,
   "id": "99e20315",
   "metadata": {},
   "outputs": [],
   "source": [
    "#Clicking DatScientist in Search box..\n",
    "datascientist_salaries.click()"
   ]
  },
  {
   "cell_type": "code",
   "execution_count": 127,
   "id": "d728cfd4",
   "metadata": {},
   "outputs": [
    {
     "data": {
      "text/plain": [
       "25"
      ]
     },
     "execution_count": 127,
     "metadata": {},
     "output_type": "execute_result"
    }
   ],
   "source": [
    "dscomp = driver.find_elements(By.XPATH,'//div[@ class=\"company-info\"]')\n",
    "len(dscomp)"
   ]
  },
  {
   "cell_type": "code",
   "execution_count": 128,
   "id": "5aee2f4e",
   "metadata": {},
   "outputs": [
    {
     "data": {
      "text/plain": [
       "25"
      ]
     },
     "execution_count": 128,
     "metadata": {},
     "output_type": "execute_result"
    }
   ],
   "source": [
    "dscomp_name=[]\n",
    "for i in dscomp:\n",
    "    dscomp_name.append(i.text)\n",
    "len(dscomp_name)"
   ]
  },
  {
   "cell_type": "code",
   "execution_count": 205,
   "id": "ec1fa4e8",
   "metadata": {},
   "outputs": [
    {
     "data": {
      "text/plain": [
       "['Google\\nSoftware Engineer Salary\\n1-3 yrs experience (based on 35 salaries)',\n",
       " 'Microsoft Corporation\\nSoftware Engineer Salary\\n1-4 yrs experience (based on 274 salaries)',\n",
       " 'Goldman Sachs\\nSoftware Engineer Salary\\n2 yrs experience (based on 18 salaries)',\n",
       " 'Tekion\\nSoftware Engineer Salary\\n2-4 yrs experience (based on 35 salaries)',\n",
       " 'Amazon\\nSoftware Engineer Salary\\n1-4 yrs experience (based on 122 salaries)',\n",
       " 'Servicenow Software Development India\\nSoftware Engineer Salary\\n2-4 yrs experience (based on 60 salaries)',\n",
       " 'Flipkart\\nSoftware Engineer Salary\\n1-4 yrs experience (based on 64 salaries)',\n",
       " 'Walmart\\nSoftware Engineer Salary\\n1-4 yrs experience (based on 87 salaries)',\n",
       " 'PayPal\\nSoftware Engineer Salary\\n1-2 yrs experience (based on 29 salaries)',\n",
       " 'Myntra\\nSoftware Engineer Salary\\n1 yr experience (based on 10 salaries)']"
      ]
     },
     "execution_count": 205,
     "metadata": {},
     "output_type": "execute_result"
    }
   ],
   "source": [
    "#Company details for first 10 companies..\n",
    "datascientist_salary=dscomp_name[0:10]\n",
    "datascientist_salary"
   ]
  },
  {
   "cell_type": "code",
   "execution_count": 142,
   "id": "d5138f92",
   "metadata": {},
   "outputs": [
    {
     "data": {
      "text/plain": [
       "10"
      ]
     },
     "execution_count": 142,
     "metadata": {},
     "output_type": "execute_result"
    }
   ],
   "source": [
    "min_salary = driver.find_elements(By.XPATH,'//div[@ class=\"salary-values\"]')\n",
    "len(min_salary)"
   ]
  },
  {
   "cell_type": "code",
   "execution_count": 143,
   "id": "8bfb957c",
   "metadata": {},
   "outputs": [
    {
     "data": {
      "text/plain": [
       "10"
      ]
     },
     "execution_count": 143,
     "metadata": {},
     "output_type": "execute_result"
    }
   ],
   "source": [
    "minimum_salary=[]\n",
    "for i in min_salary:\n",
    "    minimum_salary.append(i.text)\n",
    "len(minimum_salary)"
   ]
  },
  {
   "cell_type": "code",
   "execution_count": 151,
   "id": "e05af5d7",
   "metadata": {},
   "outputs": [
    {
     "data": {
      "text/plain": [
       "['₹ 11.0L\\n₹ 65.0L',\n",
       " '₹ 13.0L\\n₹ 50.0L',\n",
       " '₹ 12.0L\\n₹ 34.0L',\n",
       " '₹ 12.0L\\n₹ 33.0L',\n",
       " '₹ 8.0L\\n₹ 45.0L',\n",
       " '₹ 13.0L\\n₹ 28.0L',\n",
       " '₹ 7.5L\\n₹ 31.0L',\n",
       " '₹ 11.4L\\n₹ 32.5L',\n",
       " '₹ 11.0L\\n₹ 31.0L',\n",
       " '₹ 14.0L\\n₹ 27.0L']"
      ]
     },
     "execution_count": 151,
     "metadata": {},
     "output_type": "execute_result"
    }
   ],
   "source": [
    "minimum_salary"
   ]
  },
  {
   "cell_type": "code",
   "execution_count": 140,
   "id": "80779980",
   "metadata": {},
   "outputs": [
    {
     "data": {
      "text/plain": [
       "10"
      ]
     },
     "execution_count": 140,
     "metadata": {},
     "output_type": "execute_result"
    }
   ],
   "source": [
    "avg_salary = driver.find_elements(By.XPATH,'//div[@ class=\"average-indicator-wrapper\"]')\n",
    "len(avg_salary)"
   ]
  },
  {
   "cell_type": "code",
   "execution_count": 139,
   "id": "8b7f817f",
   "metadata": {},
   "outputs": [
    {
     "data": {
      "text/plain": [
       "10"
      ]
     },
     "execution_count": 139,
     "metadata": {},
     "output_type": "execute_result"
    }
   ],
   "source": [
    "average_salary=[]\n",
    "for i in avg_salary:\n",
    "    average_salary.append(i.text)\n",
    "len(average_salary)"
   ]
  },
  {
   "cell_type": "code",
   "execution_count": 141,
   "id": "39eaf104",
   "metadata": {},
   "outputs": [
    {
     "data": {
      "text/plain": [
       "['₹ 31.3L',\n",
       " '₹ 24.0L',\n",
       " '₹ 23.0L',\n",
       " '₹ 21.2L',\n",
       " '₹ 21.0L',\n",
       " '₹ 20.5L',\n",
       " '₹ 20.4L',\n",
       " '₹ 20.0L',\n",
       " '₹ 19.9L',\n",
       " '₹ 19.5L']"
      ]
     },
     "execution_count": 141,
     "metadata": {},
     "output_type": "execute_result"
    }
   ],
   "source": [
    "#Average salary for first 10 companies..\n",
    "average_salary"
   ]
  },
  {
   "cell_type": "code",
   "execution_count": 189,
   "id": "544ccf5c",
   "metadata": {},
   "outputs": [
    {
     "data": {
      "text/plain": [
       "20"
      ]
     },
     "execution_count": 189,
     "metadata": {},
     "output_type": "execute_result"
    }
   ],
   "source": [
    "max_salary = driver.find_elements(By.XPATH,'//div[@ class=\"value body-medium\"]')\n",
    "len(max_salary)"
   ]
  },
  {
   "cell_type": "code",
   "execution_count": 190,
   "id": "e765f886",
   "metadata": {},
   "outputs": [
    {
     "data": {
      "text/plain": [
       "20"
      ]
     },
     "execution_count": 190,
     "metadata": {},
     "output_type": "execute_result"
    }
   ],
   "source": [
    "maximum_salary=[]\n",
    "for i in max_salary:\n",
    "    maximum_salary.append(i.text)\n",
    "len(maximum_salary)"
   ]
  },
  {
   "cell_type": "code",
   "execution_count": 193,
   "id": "cf4347ae",
   "metadata": {},
   "outputs": [
    {
     "data": {
      "text/plain": [
       "['₹ 65.0L',\n",
       " '₹ 50.0L',\n",
       " '₹ 34.0L',\n",
       " '₹ 33.0L',\n",
       " '₹ 45.0L',\n",
       " '₹ 28.0L',\n",
       " '₹ 31.0L',\n",
       " '₹ 32.5L',\n",
       " '₹ 31.0L',\n",
       " '₹ 27.0L']"
      ]
     },
     "execution_count": 193,
     "metadata": {},
     "output_type": "execute_result"
    }
   ],
   "source": [
    "#Maximum salary for first 10 companies\n",
    "max_sal=maximum_salary[1:20:2]\n",
    "max_sal"
   ]
  },
  {
   "cell_type": "code",
   "execution_count": 202,
   "id": "c3e6ffa9",
   "metadata": {},
   "outputs": [
    {
     "data": {
      "text/plain": [
       "['₹ 11.0L',\n",
       " '₹ 65.0L',\n",
       " '₹ 13.0L',\n",
       " '₹ 50.0L',\n",
       " '₹ 12.0L',\n",
       " '₹ 34.0L',\n",
       " '₹ 12.0L',\n",
       " '₹ 33.0L',\n",
       " '₹ 8.0L',\n",
       " '₹ 45.0L',\n",
       " '₹ 13.0L',\n",
       " '₹ 28.0L',\n",
       " '₹ 7.5L',\n",
       " '₹ 31.0L',\n",
       " '₹ 11.4L',\n",
       " '₹ 32.5L',\n",
       " '₹ 11.0L',\n",
       " '₹ 31.0L',\n",
       " '₹ 14.0L',\n",
       " '₹ 27.0L']"
      ]
     },
     "execution_count": 202,
     "metadata": {},
     "output_type": "execute_result"
    }
   ],
   "source": [
    "maximum_salary"
   ]
  },
  {
   "cell_type": "code",
   "execution_count": 204,
   "id": "13a340ce",
   "metadata": {},
   "outputs": [
    {
     "data": {
      "text/plain": [
       "['₹ 11.0L',\n",
       " '₹ 13.0L',\n",
       " '₹ 12.0L',\n",
       " '₹ 12.0L',\n",
       " '₹ 8.0L',\n",
       " '₹ 13.0L',\n",
       " '₹ 7.5L',\n",
       " '₹ 11.4L',\n",
       " '₹ 11.0L',\n",
       " '₹ 14.0L']"
      ]
     },
     "execution_count": 204,
     "metadata": {},
     "output_type": "execute_result"
    }
   ],
   "source": [
    "#Minimum salary for first 10 companies..\n",
    "min_sal=maximum_salary[0:20:2]\n",
    "min_sal"
   ]
  },
  {
   "cell_type": "code",
   "execution_count": 206,
   "id": "026ca620",
   "metadata": {},
   "outputs": [],
   "source": [
    "Creating DataFrame for First 10 companies in salary vise..\n",
    "df=pd.DataFrame({\"CompanyNAme_Experience_SalryBased\":datascientist_salary,\"MinimumSalary\":min_sal,\"AverageSalary\": average_salary,\"MaximumSalary\":max_sal})"
   ]
  },
  {
   "cell_type": "code",
   "execution_count": 207,
   "id": "b83e1d70",
   "metadata": {},
   "outputs": [
    {
     "data": {
      "text/html": [
       "<div>\n",
       "<style scoped>\n",
       "    .dataframe tbody tr th:only-of-type {\n",
       "        vertical-align: middle;\n",
       "    }\n",
       "\n",
       "    .dataframe tbody tr th {\n",
       "        vertical-align: top;\n",
       "    }\n",
       "\n",
       "    .dataframe thead th {\n",
       "        text-align: right;\n",
       "    }\n",
       "</style>\n",
       "<table border=\"1\" class=\"dataframe\">\n",
       "  <thead>\n",
       "    <tr style=\"text-align: right;\">\n",
       "      <th></th>\n",
       "      <th>CompanyNAme_Experience_SalryBased</th>\n",
       "      <th>MinimumSalary</th>\n",
       "      <th>AverageSalary</th>\n",
       "      <th>MaximumSalary</th>\n",
       "    </tr>\n",
       "  </thead>\n",
       "  <tbody>\n",
       "    <tr>\n",
       "      <th>0</th>\n",
       "      <td>Google\\nSoftware Engineer Salary\\n1-3 yrs expe...</td>\n",
       "      <td>₹ 11.0L</td>\n",
       "      <td>₹ 31.3L</td>\n",
       "      <td>₹ 65.0L</td>\n",
       "    </tr>\n",
       "    <tr>\n",
       "      <th>1</th>\n",
       "      <td>Microsoft Corporation\\nSoftware Engineer Salar...</td>\n",
       "      <td>₹ 13.0L</td>\n",
       "      <td>₹ 24.0L</td>\n",
       "      <td>₹ 50.0L</td>\n",
       "    </tr>\n",
       "    <tr>\n",
       "      <th>2</th>\n",
       "      <td>Goldman Sachs\\nSoftware Engineer Salary\\n2 yrs...</td>\n",
       "      <td>₹ 12.0L</td>\n",
       "      <td>₹ 23.0L</td>\n",
       "      <td>₹ 34.0L</td>\n",
       "    </tr>\n",
       "    <tr>\n",
       "      <th>3</th>\n",
       "      <td>Tekion\\nSoftware Engineer Salary\\n2-4 yrs expe...</td>\n",
       "      <td>₹ 12.0L</td>\n",
       "      <td>₹ 21.2L</td>\n",
       "      <td>₹ 33.0L</td>\n",
       "    </tr>\n",
       "    <tr>\n",
       "      <th>4</th>\n",
       "      <td>Amazon\\nSoftware Engineer Salary\\n1-4 yrs expe...</td>\n",
       "      <td>₹ 8.0L</td>\n",
       "      <td>₹ 21.0L</td>\n",
       "      <td>₹ 45.0L</td>\n",
       "    </tr>\n",
       "    <tr>\n",
       "      <th>5</th>\n",
       "      <td>Servicenow Software Development India\\nSoftwar...</td>\n",
       "      <td>₹ 13.0L</td>\n",
       "      <td>₹ 20.5L</td>\n",
       "      <td>₹ 28.0L</td>\n",
       "    </tr>\n",
       "    <tr>\n",
       "      <th>6</th>\n",
       "      <td>Flipkart\\nSoftware Engineer Salary\\n1-4 yrs ex...</td>\n",
       "      <td>₹ 7.5L</td>\n",
       "      <td>₹ 20.4L</td>\n",
       "      <td>₹ 31.0L</td>\n",
       "    </tr>\n",
       "    <tr>\n",
       "      <th>7</th>\n",
       "      <td>Walmart\\nSoftware Engineer Salary\\n1-4 yrs exp...</td>\n",
       "      <td>₹ 11.4L</td>\n",
       "      <td>₹ 20.0L</td>\n",
       "      <td>₹ 32.5L</td>\n",
       "    </tr>\n",
       "    <tr>\n",
       "      <th>8</th>\n",
       "      <td>PayPal\\nSoftware Engineer Salary\\n1-2 yrs expe...</td>\n",
       "      <td>₹ 11.0L</td>\n",
       "      <td>₹ 19.9L</td>\n",
       "      <td>₹ 31.0L</td>\n",
       "    </tr>\n",
       "    <tr>\n",
       "      <th>9</th>\n",
       "      <td>Myntra\\nSoftware Engineer Salary\\n1 yr experie...</td>\n",
       "      <td>₹ 14.0L</td>\n",
       "      <td>₹ 19.5L</td>\n",
       "      <td>₹ 27.0L</td>\n",
       "    </tr>\n",
       "  </tbody>\n",
       "</table>\n",
       "</div>"
      ],
      "text/plain": [
       "                   CompanyNAme_Experience_SalryBased MinimumSalary  \\\n",
       "0  Google\\nSoftware Engineer Salary\\n1-3 yrs expe...       ₹ 11.0L   \n",
       "1  Microsoft Corporation\\nSoftware Engineer Salar...       ₹ 13.0L   \n",
       "2  Goldman Sachs\\nSoftware Engineer Salary\\n2 yrs...       ₹ 12.0L   \n",
       "3  Tekion\\nSoftware Engineer Salary\\n2-4 yrs expe...       ₹ 12.0L   \n",
       "4  Amazon\\nSoftware Engineer Salary\\n1-4 yrs expe...        ₹ 8.0L   \n",
       "5  Servicenow Software Development India\\nSoftwar...       ₹ 13.0L   \n",
       "6  Flipkart\\nSoftware Engineer Salary\\n1-4 yrs ex...        ₹ 7.5L   \n",
       "7  Walmart\\nSoftware Engineer Salary\\n1-4 yrs exp...       ₹ 11.4L   \n",
       "8  PayPal\\nSoftware Engineer Salary\\n1-2 yrs expe...       ₹ 11.0L   \n",
       "9  Myntra\\nSoftware Engineer Salary\\n1 yr experie...       ₹ 14.0L   \n",
       "\n",
       "  AverageSalary MaximumSalary  \n",
       "0       ₹ 31.3L       ₹ 65.0L  \n",
       "1       ₹ 24.0L       ₹ 50.0L  \n",
       "2       ₹ 23.0L       ₹ 34.0L  \n",
       "3       ₹ 21.2L       ₹ 33.0L  \n",
       "4       ₹ 21.0L       ₹ 45.0L  \n",
       "5       ₹ 20.5L       ₹ 28.0L  \n",
       "6       ₹ 20.4L       ₹ 31.0L  \n",
       "7       ₹ 20.0L       ₹ 32.5L  \n",
       "8       ₹ 19.9L       ₹ 31.0L  \n",
       "9       ₹ 19.5L       ₹ 27.0L  "
      ]
     },
     "execution_count": 207,
     "metadata": {},
     "output_type": "execute_result"
    }
   ],
   "source": [
    "df"
   ]
  },
  {
   "cell_type": "code",
   "execution_count": null,
   "id": "b40b26d1",
   "metadata": {},
   "outputs": [],
   "source": []
  }
 ],
 "metadata": {
  "kernelspec": {
   "display_name": "Python 3 (ipykernel)",
   "language": "python",
   "name": "python3"
  },
  "language_info": {
   "codemirror_mode": {
    "name": "ipython",
    "version": 3
   },
   "file_extension": ".py",
   "mimetype": "text/x-python",
   "name": "python",
   "nbconvert_exporter": "python",
   "pygments_lexer": "ipython3",
   "version": "3.9.12"
  }
 },
 "nbformat": 4,
 "nbformat_minor": 5
}
